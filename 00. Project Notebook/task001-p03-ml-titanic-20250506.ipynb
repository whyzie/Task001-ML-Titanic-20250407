{
 "cells": [
  {
   "cell_type": "code",
   "execution_count": 1,
   "id": "5912dc8e",
   "metadata": {
    "_cell_guid": "b1076dfc-b9ad-4769-8c92-a6c4dae69d19",
    "_uuid": "8f2839f25d086af736a60e9eeb907d3b93b6e0e5",
    "execution": {
     "iopub.execute_input": "2025-05-13T05:28:39.024186Z",
     "iopub.status.busy": "2025-05-13T05:28:39.023858Z",
     "iopub.status.idle": "2025-05-13T05:28:40.819420Z",
     "shell.execute_reply": "2025-05-13T05:28:40.818355Z"
    },
    "papermill": {
     "duration": 1.819487,
     "end_time": "2025-05-13T05:28:40.820834",
     "exception": false,
     "start_time": "2025-05-13T05:28:39.001347",
     "status": "completed"
    },
    "tags": []
   },
   "outputs": [
    {
     "name": "stdout",
     "output_type": "stream",
     "text": [
      "/kaggle/input/best_rf_1/scikitlearn/default/11/model_rf_3_1.joblib\n",
      "/kaggle/input/best_rf_1/scikitlearn/default/11/model_rf_3.joblib\n",
      "/kaggle/input/best_rf_1/scikitlearn/default/11/model_rf_2.joblib\n",
      "/kaggle/input/best_rf_1/scikitlearn/default/11/model_rf_1_gridsearch.joblib\n",
      "/kaggle/input/best_rf_1/scikitlearn/default/11/model_rf_4.joblib\n",
      "/kaggle/input/best_rf_1/scikitlearn/default/12/model_rf_3_1.joblib\n",
      "/kaggle/input/best_rf_1/scikitlearn/default/12/model_rf_3.joblib\n",
      "/kaggle/input/best_rf_1/scikitlearn/default/12/model_rf_2.joblib\n",
      "/kaggle/input/best_rf_1/scikitlearn/default/12/model_svc_linear_1.pkl\n",
      "/kaggle/input/best_rf_1/scikitlearn/default/12/model_rf_1_gridsearch.joblib\n",
      "/kaggle/input/best_rf_1/scikitlearn/default/12/model_rf_4.joblib\n",
      "/kaggle/input/task001-p03-ml-models/scikitlearn/default/1/model_rf_1.joblib\n",
      "/kaggle/input/task001-p03-ml-models/scikitlearn/default/1/model_rf_10.joblib\n",
      "/kaggle/input/task001-p03-ml-models/scikitlearn/default/1/model_rf_3.joblib\n",
      "/kaggle/input/task001-p03-ml-models/scikitlearn/default/1/model_rf_11.joblib\n",
      "/kaggle/input/titanic/train.csv\n",
      "/kaggle/input/titanic/test.csv\n",
      "/kaggle/input/titanic/gender_submission.csv\n",
      "/kaggle/input/task001-p01-ds-titanic-20250411/all_data_df.csv\n",
      "/kaggle/input/task001-p01-ds-titanic-20250411/train_df_1.csv\n",
      "/kaggle/input/task001-p01-ds-titanic-20250411/test.csv\n"
     ]
    }
   ],
   "source": [
    "# This Python 3 environment comes with many helpful analytics libraries installed\n",
    "# It is defined by the kaggle/python Docker image: https://github.com/kaggle/docker-python\n",
    "# For example, here's several helpful packages to load\n",
    "\n",
    "import numpy as np # linear algebra\n",
    "import pandas as pd # data processing, CSV file I/O (e.g. pd.read_csv)\n",
    "\n",
    "# Input data files are available in the read-only \"../input/\" directory\n",
    "# For example, running this (by clicking run or pressing Shift+Enter) will list all files under the input directory\n",
    "\n",
    "import os\n",
    "for dirname, _, filenames in os.walk('/kaggle/input'):\n",
    "    for filename in filenames:\n",
    "        print(os.path.join(dirname, filename))\n",
    "\n",
    "# You can write up to 20GB to the current directory (/kaggle/working/) that gets preserved as output when you create a version using \"Save & Run All\" \n",
    "# You can also write temporary files to /kaggle/temp/, but they won't be saved outside of the current session"
   ]
  },
  {
   "cell_type": "markdown",
   "id": "d65f891b",
   "metadata": {
    "papermill": {
     "duration": 0.019116,
     "end_time": "2025-05-13T05:28:40.861008",
     "exception": false,
     "start_time": "2025-05-13T05:28:40.841892",
     "status": "completed"
    },
    "tags": []
   },
   "source": [
    "<div>\n",
    "    <h1> <a id=\"Obj1\">🎯Objectives</a></h1>\n",
    "    <h3 style=\"text-align:justify; font-family: Calibri\">Build a predictive model that answers the question: “what sorts of people were more likely to survive?” using passenger data (ie name, age, gender, socio-economic class, etc). <br></h3>  \n",
    "  \n",
    "<p style = \"font-family: Arial; font-size: 14px\">Note: This project's dataset was created for pedagogical purposes and may not be indicative of the task .</p>\n",
    "<hr>"
   ]
  },
  {
   "cell_type": "markdown",
   "id": "0c9ac823",
   "metadata": {
    "papermill": {
     "duration": 0.019484,
     "end_time": "2025-05-13T05:28:40.901064",
     "exception": false,
     "start_time": "2025-05-13T05:28:40.881580",
     "status": "completed"
    },
    "tags": []
   },
   "source": [
    "<div class=\"alert alert-block alert-warning\">\n",
    "<img style=\"float: left\" src=\"https://i.postimg.cc/kXz8cFqC/005-Img-Yellow-Notes-Draft-1-20220819.png\" width=\"60\">\n",
    "<b style = \"font-family: Arial; font-size: 16px\">Note:</b><p style = \"font-family:Verdana; font-size:14px\">We must maintain objectivity when analyzing the data to gain valuable insights. This involves collecting, fact-checking, and challenging the data and other sources. Adopting a Genchi Genbutsu approach, which involves go-seeing for yourself or discussing with subject matter experts, allows us to delve into the data to gain firsthand understanding.</p>\n",
    "    <p>Data should adhere to the <b>COV-FAST</b> principles: Clear, Objective, Valuable, Focused, Agile, Scientific, and Time-bound and Trustworthiness. Additionally, consider exploring alternative models such as logistic regression, random forest, neural networks, or others.</p>\n",
    "</div>\n",
    "    <h3>Framework and methodologies</h3>\n",
    "     A <b>methodology</b> offers <b>specific steps</b> for completing a project, while a <b>framework</b> provides broader guidance on tools, resources, and workflow processes. As an experienced Green Belt Lean Six Sigma professional, the methodology that I often use is DMAIC. I use PACE as a framework as I found it similar to <b>Knowledge Discovery in Databases (KDD)</b>. Both <b>PACE</b> and <b>KDD</b> aim to guide structured data projects. <b>PACE</b> specifically focuses on machine learning projects, whereas <b>KDD</b> covers a broader range of data discovery techniques.\n",
    "     \n",
    "<h3>Data analysis PACE steps:</h3>\n",
    "   <ol style=\"font-family:Verdana; font-size:16px\">\n",
    "    <li><img style=\"float:left\" src=\"https://i.imgur.com/gIne5bH.png\" width=\"50\"> Plan/Prepare - import the relevant libraries and data</li> \n",
    "    <blockquote>\n",
    "    <ol>Align project with business needs, requirements and contraints. Select an approriate machine learning model based on the problem and business context. KDD: Selection, and Data Wrangling (Pre-processing and Transformation).\n",
    "    </ol>\n",
    "    </blockquote>\n",
    "        <li><img style=\"float:left\" src=\"https://i.imgur.com/rb8V6X5.png\" width=\"50\">Analyze - EDA</li>\n",
    "    <blockquote>\n",
    "    <ol> Understanding data for accurate predictions, focus on the response variable (what the model predicts) and leverage exploratory data analysis to uncover patterns and address irregularities. KDD: Data Mining.\n",
    "     </ol>\n",
    "    </blockquote>\n",
    "    <li><img style=\"float:left\" src=\"https://i.imgur.com/J4M3HKM.png\" width=\"50\">Construct - model </li>\n",
    "    <blockquote>\n",
    "    <ol>Construct and evaluate model. KDD: Evaluation.\n",
    "     </ol>\n",
    "    </blockquote>\n",
    "    <li><img style=\"float:left\" src=\"https://i.imgur.com/wpcEXQC.png\" width=\"50\">Execute - share</li>\n",
    "    <blockquote>\n",
    "    <ol>Interpret model and share the story. KDD: Communicate to stakeholders.\n",
    "     </ol>\n",
    "    </blockquote>"
   ]
  },
  {
   "cell_type": "markdown",
   "id": "d3a2d723",
   "metadata": {
    "papermill": {
     "duration": 0.019954,
     "end_time": "2025-05-13T05:28:40.940524",
     "exception": false,
     "start_time": "2025-05-13T05:28:40.920570",
     "status": "completed"
    },
    "tags": []
   },
   "source": [
    "<a id=\"top\"></a>\n",
    "<h2>Table of contents</h2>\n",
    "<div class=\"alert alert-block alert-info\" style=\"margin-top: 20px\">\n",
    "\n",
    "<ol>\n",
    "    <li><a href=\"#Obj1\">Objectives</a></li>\n",
    "    <li><a href=\"#Plan\">Plan - import the relevant libraries and data</a></li>\n",
    "    <ul>\n",
    "        <li><a href=\"#Def\">Data Info</a></li>\n",
    "    </ul>\n",
    "    <li><a href=\"#EDA\">Explarotary Data Analysis (EDA)</a></li>\n",
    "    <ul>\n",
    "        <li><a href=\"#EDA_1\">Explarotary Data Analysis (EDA)</a></li>\n",
    "    </ul>\n",
    "    <li><a href=\"#Construct\">Construct - model</a></li>\n",
    "    <ul>\n",
    "        <li><a href=\"#RF\">Random forest</a></li>\n",
    "        <li><a href=\"#SVC\">SVC (Support Vector Classifier)</a></li>\n",
    "    </ul>\n",
    "    <li><a href=\"#Exe\">Execute - share</a></li>\n",
    "    <ul>\n",
    "        <li><a href=\"#Sum\">Summary </a></li>\n",
    "    </ul>\n",
    "</ol>\n",
    "</div>"
   ]
  },
  {
   "cell_type": "markdown",
   "id": "d57a21ce",
   "metadata": {
    "papermill": {
     "duration": 0.018789,
     "end_time": "2025-05-13T05:28:40.978762",
     "exception": false,
     "start_time": "2025-05-13T05:28:40.959973",
     "status": "completed"
    },
    "tags": []
   },
   "source": [
    "<img style=\"float:left\" src=\"https://i.imgur.com/gIne5bH.png\" width=\"50\">\n",
    "\n",
    "<h1><a id=\"Plan\">Plan -import the relevant libraries and data</a></h1> "
   ]
  },
  {
   "cell_type": "code",
   "execution_count": 2,
   "id": "20923095",
   "metadata": {
    "execution": {
     "iopub.execute_input": "2025-05-13T05:28:41.078461Z",
     "iopub.status.busy": "2025-05-13T05:28:41.078039Z",
     "iopub.status.idle": "2025-05-13T05:28:52.003203Z",
     "shell.execute_reply": "2025-05-13T05:28:52.002281Z"
    },
    "papermill": {
     "duration": 10.947459,
     "end_time": "2025-05-13T05:28:52.004894",
     "exception": false,
     "start_time": "2025-05-13T05:28:41.057435",
     "status": "completed"
    },
    "tags": []
   },
   "outputs": [],
   "source": [
    "# For linear algebra and data processing (available in kaggle)\n",
    "#import numpy as np # linear algebra\n",
    "#import pandas as pd # data processing, CSV file I/O (e.g. pd.read_csv)\n",
    "\n",
    "# Data visualization\n",
    "import matplotlib.pyplot as plt\n",
    "from matplotlib.lines import Line2D\n",
    "import seaborn as sns\n",
    "\n",
    "# Display full dataframe columns\n",
    "pd.set_option('display.max_columns', None)\n",
    "\n",
    "# Regular expressions and statistics\n",
    "import re\n",
    "from scipy import stats\n",
    "\n",
    "# Machine learning models\n",
    "from sklearn.linear_model import LogisticRegression\n",
    "from sklearn.naive_bayes import GaussianNB\n",
    "from sklearn.svm import SVC\n",
    "from sklearn.tree import DecisionTreeClassifier, plot_tree\n",
    "from sklearn.ensemble import (\n",
    "    RandomForestClassifier,\n",
    "    AdaBoostClassifier,\n",
    "    ExtraTreesClassifier,\n",
    "    VotingClassifier,\n",
    "    GradientBoostingClassifier\n",
    ")\n",
    "from sklearn.neighbors import KNeighborsClassifier\n",
    "from xgboost import XGBClassifier, plot_importance\n",
    "\n",
    "# Preprocessing, model selection, metrics\n",
    "from sklearn.model_selection import (\n",
    "    train_test_split, GridSearchCV, cross_val_score,\n",
    "    StratifiedKFold, cross_validate, cross_val_predict\n",
    ")\n",
    "from sklearn.preprocessing import StandardScaler, OneHotEncoder, OrdinalEncoder\n",
    "from sklearn.impute import SimpleImputer\n",
    "from sklearn.metrics import (\n",
    "    accuracy_score, precision_score, recall_score, f1_score,\n",
    "    confusion_matrix, ConfusionMatrixDisplay, classification_report,\n",
    "    roc_auc_score, roc_curve\n",
    ")\n",
    "from sklearn.utils.class_weight import compute_sample_weight\n",
    "from sklearn.feature_selection import SelectFromModel\n",
    "from sklearn.pipeline import Pipeline\n",
    "from sklearn.compose import ColumnTransformer\n",
    "\n",
    "# Imbalanced learning\n",
    "#from imblearn.pipeline import Pipeline as ImbPipeline\n",
    "#from imbalanced-learn.pipeline import Pipeline\n",
    "#from imblearn.over_sampling import SMOTE\n",
    "\n",
    "# SHAP for model explainability\n",
    "import shap\n",
    "\n",
    "# Saving/loading models\n",
    "import joblib\n",
    "from joblib import dump, load\n",
    "\n",
    "# Miscellaneous\n",
    "from collections import Counter"
   ]
  },
  {
   "cell_type": "markdown",
   "id": "0b15437c",
   "metadata": {
    "papermill": {
     "duration": 0.019581,
     "end_time": "2025-05-13T05:28:52.044669",
     "exception": false,
     "start_time": "2025-05-13T05:28:52.025088",
     "status": "completed"
    },
    "tags": []
   },
   "source": [
    "<h2><a id=\"Def\">Data info</a></h2>\n",
    "<h3 style=\"text-align:justify; font-family: Calibri\"><br> Train.csv will contain the details of a subset of the passengers on board (891 to be exact) and importantly, will reveal whether they survived or not, also known as the “ground truth”. <br> \n",
    "    <br>  The test.csv dataset contains similar information but does not disclose the “ground truth” for each passenger. It’s your job to predict these outcomes.  <br> \n",
    "   <br>   Using the patterns you find in the train.csv data, predict whether the other 418 passengers on board (found in test.csv) survived.  <br> \n",
    "  <br>    Check out the “Data” tab to explore the datasets even further. Once you feel you’ve created a competitive model, submit it to Kaggle to see where your model stands on our leaderboard against other Kagglers.</h3>"
   ]
  },
  {
   "cell_type": "code",
   "execution_count": 3,
   "id": "ad7dc46f",
   "metadata": {
    "execution": {
     "iopub.execute_input": "2025-05-13T05:28:52.085512Z",
     "iopub.status.busy": "2025-05-13T05:28:52.084995Z",
     "iopub.status.idle": "2025-05-13T05:28:52.121344Z",
     "shell.execute_reply": "2025-05-13T05:28:52.120459Z"
    },
    "papermill": {
     "duration": 0.058387,
     "end_time": "2025-05-13T05:28:52.122998",
     "exception": false,
     "start_time": "2025-05-13T05:28:52.064611",
     "status": "completed"
    },
    "tags": []
   },
   "outputs": [],
   "source": [
    "data_df = pd.read_csv('/kaggle/input/task001-p01-ds-titanic-20250411/train_df_1.csv')\n",
    "all_data_df = pd.read_csv('/kaggle/input/task001-p01-ds-titanic-20250411/all_data_df.csv')"
   ]
  },
  {
   "cell_type": "markdown",
   "id": "3920a5d6",
   "metadata": {
    "papermill": {
     "duration": 0.019203,
     "end_time": "2025-05-13T05:28:52.161804",
     "exception": false,
     "start_time": "2025-05-13T05:28:52.142601",
     "status": "completed"
    },
    "tags": []
   },
   "source": [
    "In <a href=\"https://www.kaggle.com/code/wahyuardhitama/task001-p001-ml-titanic-20250407\">part 1 (P01)</a>, we conduct the P and A phase. In <a href=\"https://www.kaggle.com/code/wahyuardhitama/task001-p002-ml-titanic-20250416\">part 2 (P02)</a>, we explore 11 machine learning models."
   ]
  },
  {
   "cell_type": "code",
   "execution_count": 4,
   "id": "b77a6e00",
   "metadata": {
    "execution": {
     "iopub.execute_input": "2025-05-13T05:28:52.202532Z",
     "iopub.status.busy": "2025-05-13T05:28:52.201862Z",
     "iopub.status.idle": "2025-05-13T05:28:52.238919Z",
     "shell.execute_reply": "2025-05-13T05:28:52.238025Z"
    },
    "papermill": {
     "duration": 0.059197,
     "end_time": "2025-05-13T05:28:52.240502",
     "exception": false,
     "start_time": "2025-05-13T05:28:52.181305",
     "status": "completed"
    },
    "tags": []
   },
   "outputs": [
    {
     "name": "stderr",
     "output_type": "stream",
     "text": [
      "invalid value encountered in greater\n",
      "invalid value encountered in less\n",
      "invalid value encountered in greater\n"
     ]
    },
    {
     "data": {
      "text/html": [
       "<div>\n",
       "<style scoped>\n",
       "    .dataframe tbody tr th:only-of-type {\n",
       "        vertical-align: middle;\n",
       "    }\n",
       "\n",
       "    .dataframe tbody tr th {\n",
       "        vertical-align: top;\n",
       "    }\n",
       "\n",
       "    .dataframe thead th {\n",
       "        text-align: right;\n",
       "    }\n",
       "</style>\n",
       "<table border=\"1\" class=\"dataframe\">\n",
       "  <thead>\n",
       "    <tr style=\"text-align: right;\">\n",
       "      <th></th>\n",
       "      <th>PassengerId</th>\n",
       "      <th>Survived</th>\n",
       "      <th>Pclass</th>\n",
       "      <th>Name</th>\n",
       "      <th>Sex</th>\n",
       "      <th>Age</th>\n",
       "      <th>SibSp</th>\n",
       "      <th>Parch</th>\n",
       "      <th>Ticket</th>\n",
       "      <th>Fare</th>\n",
       "      <th>Embarked</th>\n",
       "      <th>train_set</th>\n",
       "      <th>AgeGroup</th>\n",
       "      <th>CabinGroup</th>\n",
       "      <th>CabinNo</th>\n",
       "      <th>CabinCnt</th>\n",
       "      <th>Fare_log</th>\n",
       "      <th>Title</th>\n",
       "      <th>Surname</th>\n",
       "      <th>TicketGroup</th>\n",
       "      <th>FamilyGroup</th>\n",
       "      <th>FareGroup</th>\n",
       "      <th>FamilySize</th>\n",
       "    </tr>\n",
       "  </thead>\n",
       "  <tbody>\n",
       "    <tr>\n",
       "      <th>266</th>\n",
       "      <td>267</td>\n",
       "      <td>0.0</td>\n",
       "      <td>3</td>\n",
       "      <td>Panula, Mr. Ernesti Arvid</td>\n",
       "      <td>male</td>\n",
       "      <td>16.0</td>\n",
       "      <td>4</td>\n",
       "      <td>1</td>\n",
       "      <td>3101295</td>\n",
       "      <td>39.6875</td>\n",
       "      <td>S</td>\n",
       "      <td>1</td>\n",
       "      <td>Teen</td>\n",
       "      <td>U</td>\n",
       "      <td>0</td>\n",
       "      <td>0</td>\n",
       "      <td>3.705921</td>\n",
       "      <td>Mr</td>\n",
       "      <td>Panula</td>\n",
       "      <td>XXX</td>\n",
       "      <td>Large Family</td>\n",
       "      <td>&lt;50</td>\n",
       "      <td>6</td>\n",
       "    </tr>\n",
       "    <tr>\n",
       "      <th>638</th>\n",
       "      <td>639</td>\n",
       "      <td>0.0</td>\n",
       "      <td>3</td>\n",
       "      <td>Panula, Mrs. Juha (Maria Emilia Ojala)</td>\n",
       "      <td>female</td>\n",
       "      <td>41.0</td>\n",
       "      <td>0</td>\n",
       "      <td>5</td>\n",
       "      <td>3101295</td>\n",
       "      <td>39.6875</td>\n",
       "      <td>S</td>\n",
       "      <td>1</td>\n",
       "      <td>Adult</td>\n",
       "      <td>U</td>\n",
       "      <td>0</td>\n",
       "      <td>0</td>\n",
       "      <td>3.705921</td>\n",
       "      <td>Mrs</td>\n",
       "      <td>Panula</td>\n",
       "      <td>XXX</td>\n",
       "      <td>Large Family</td>\n",
       "      <td>&lt;50</td>\n",
       "      <td>6</td>\n",
       "    </tr>\n",
       "    <tr>\n",
       "      <th>1011</th>\n",
       "      <td>1012</td>\n",
       "      <td>NaN</td>\n",
       "      <td>2</td>\n",
       "      <td>Watt, Miss. Bertha J</td>\n",
       "      <td>female</td>\n",
       "      <td>12.0</td>\n",
       "      <td>0</td>\n",
       "      <td>0</td>\n",
       "      <td>C.A. 33595</td>\n",
       "      <td>15.7500</td>\n",
       "      <td>S</td>\n",
       "      <td>0</td>\n",
       "      <td>Teen</td>\n",
       "      <td>U</td>\n",
       "      <td>0</td>\n",
       "      <td>0</td>\n",
       "      <td>2.818398</td>\n",
       "      <td>Miss</td>\n",
       "      <td>Watt</td>\n",
       "      <td>SOC</td>\n",
       "      <td>Small Family</td>\n",
       "      <td>50-100</td>\n",
       "      <td>3</td>\n",
       "    </tr>\n",
       "    <tr>\n",
       "      <th>909</th>\n",
       "      <td>910</td>\n",
       "      <td>NaN</td>\n",
       "      <td>3</td>\n",
       "      <td>Ilmakangas, Miss. Ida Livija</td>\n",
       "      <td>female</td>\n",
       "      <td>27.0</td>\n",
       "      <td>1</td>\n",
       "      <td>0</td>\n",
       "      <td>STON/O2. 3101270</td>\n",
       "      <td>7.9250</td>\n",
       "      <td>S</td>\n",
       "      <td>0</td>\n",
       "      <td>Young Adult</td>\n",
       "      <td>U</td>\n",
       "      <td>0</td>\n",
       "      <td>0</td>\n",
       "      <td>2.188856</td>\n",
       "      <td>Miss</td>\n",
       "      <td>Ilmakangas</td>\n",
       "      <td>XXX</td>\n",
       "      <td>Small Family</td>\n",
       "      <td>&lt;50</td>\n",
       "      <td>2</td>\n",
       "    </tr>\n",
       "    <tr>\n",
       "      <th>1196</th>\n",
       "      <td>1197</td>\n",
       "      <td>NaN</td>\n",
       "      <td>1</td>\n",
       "      <td>Crosby, Mrs. Edward Gifford (Catherine Elizabe...</td>\n",
       "      <td>female</td>\n",
       "      <td>64.0</td>\n",
       "      <td>1</td>\n",
       "      <td>1</td>\n",
       "      <td>112901</td>\n",
       "      <td>26.5500</td>\n",
       "      <td>S</td>\n",
       "      <td>0</td>\n",
       "      <td>Senior</td>\n",
       "      <td>B</td>\n",
       "      <td>26</td>\n",
       "      <td>1</td>\n",
       "      <td>3.316003</td>\n",
       "      <td>Mrs</td>\n",
       "      <td>Crosby</td>\n",
       "      <td>XXX</td>\n",
       "      <td>Small Family</td>\n",
       "      <td>&gt;=100</td>\n",
       "      <td>4</td>\n",
       "    </tr>\n",
       "  </tbody>\n",
       "</table>\n",
       "</div>"
      ],
      "text/plain": [
       "      PassengerId  Survived  Pclass  \\\n",
       "266           267       0.0       3   \n",
       "638           639       0.0       3   \n",
       "1011         1012       NaN       2   \n",
       "909           910       NaN       3   \n",
       "1196         1197       NaN       1   \n",
       "\n",
       "                                                   Name     Sex   Age  SibSp  \\\n",
       "266                           Panula, Mr. Ernesti Arvid    male  16.0      4   \n",
       "638              Panula, Mrs. Juha (Maria Emilia Ojala)  female  41.0      0   \n",
       "1011                               Watt, Miss. Bertha J  female  12.0      0   \n",
       "909                        Ilmakangas, Miss. Ida Livija  female  27.0      1   \n",
       "1196  Crosby, Mrs. Edward Gifford (Catherine Elizabe...  female  64.0      1   \n",
       "\n",
       "      Parch            Ticket     Fare Embarked  train_set     AgeGroup  \\\n",
       "266       1           3101295  39.6875        S          1         Teen   \n",
       "638       5           3101295  39.6875        S          1        Adult   \n",
       "1011      0        C.A. 33595  15.7500        S          0         Teen   \n",
       "909       0  STON/O2. 3101270   7.9250        S          0  Young Adult   \n",
       "1196      1            112901  26.5500        S          0       Senior   \n",
       "\n",
       "     CabinGroup  CabinNo  CabinCnt  Fare_log Title     Surname TicketGroup  \\\n",
       "266           U        0         0  3.705921    Mr      Panula         XXX   \n",
       "638           U        0         0  3.705921   Mrs      Panula         XXX   \n",
       "1011          U        0         0  2.818398  Miss        Watt         SOC   \n",
       "909           U        0         0  2.188856  Miss  Ilmakangas         XXX   \n",
       "1196          B       26         1  3.316003   Mrs      Crosby         XXX   \n",
       "\n",
       "       FamilyGroup FareGroup  FamilySize  \n",
       "266   Large Family       <50           6  \n",
       "638   Large Family       <50           6  \n",
       "1011  Small Family    50-100           3  \n",
       "909   Small Family       <50           2  \n",
       "1196  Small Family     >=100           4  "
      ]
     },
     "execution_count": 4,
     "metadata": {},
     "output_type": "execute_result"
    }
   ],
   "source": [
    "df=all_data_df.copy()\n",
    "df.sample(5)"
   ]
  },
  {
   "cell_type": "code",
   "execution_count": 5,
   "id": "2fbc04d0",
   "metadata": {
    "execution": {
     "iopub.execute_input": "2025-05-13T05:28:52.281737Z",
     "iopub.status.busy": "2025-05-13T05:28:52.281431Z",
     "iopub.status.idle": "2025-05-13T05:28:52.289734Z",
     "shell.execute_reply": "2025-05-13T05:28:52.288891Z"
    },
    "papermill": {
     "duration": 0.030287,
     "end_time": "2025-05-13T05:28:52.291059",
     "exception": false,
     "start_time": "2025-05-13T05:28:52.260772",
     "status": "completed"
    },
    "tags": []
   },
   "outputs": [
    {
     "data": {
      "text/plain": [
       "PassengerId      0\n",
       "Survived       418\n",
       "Pclass           0\n",
       "Name             0\n",
       "Sex              0\n",
       "Age              0\n",
       "SibSp            0\n",
       "Parch            0\n",
       "Ticket           0\n",
       "Fare             1\n",
       "Embarked         0\n",
       "train_set        0\n",
       "AgeGroup         1\n",
       "CabinGroup       0\n",
       "CabinNo          0\n",
       "CabinCnt         0\n",
       "Fare_log         1\n",
       "Title            0\n",
       "Surname          0\n",
       "TicketGroup      0\n",
       "FamilyGroup      0\n",
       "FareGroup        0\n",
       "FamilySize       0\n",
       "dtype: int64"
      ]
     },
     "execution_count": 5,
     "metadata": {},
     "output_type": "execute_result"
    }
   ],
   "source": [
    "df.isna().sum()"
   ]
  },
  {
   "cell_type": "markdown",
   "id": "d5b6e96c",
   "metadata": {
    "papermill": {
     "duration": 0.019599,
     "end_time": "2025-05-13T05:28:52.331265",
     "exception": false,
     "start_time": "2025-05-13T05:28:52.311666",
     "status": "completed"
    },
    "tags": []
   },
   "source": [
    "#### Quick fix `Age` and `Fare`"
   ]
  },
  {
   "cell_type": "code",
   "execution_count": 6,
   "id": "60a899ec",
   "metadata": {
    "execution": {
     "iopub.execute_input": "2025-05-13T05:28:52.372954Z",
     "iopub.status.busy": "2025-05-13T05:28:52.372676Z",
     "iopub.status.idle": "2025-05-13T05:28:52.389777Z",
     "shell.execute_reply": "2025-05-13T05:28:52.389088Z"
    },
    "papermill": {
     "duration": 0.039771,
     "end_time": "2025-05-13T05:28:52.391311",
     "exception": false,
     "start_time": "2025-05-13T05:28:52.351540",
     "status": "completed"
    },
    "tags": []
   },
   "outputs": [
    {
     "data": {
      "text/html": [
       "<div>\n",
       "<style scoped>\n",
       "    .dataframe tbody tr th:only-of-type {\n",
       "        vertical-align: middle;\n",
       "    }\n",
       "\n",
       "    .dataframe tbody tr th {\n",
       "        vertical-align: top;\n",
       "    }\n",
       "\n",
       "    .dataframe thead th {\n",
       "        text-align: right;\n",
       "    }\n",
       "</style>\n",
       "<table border=\"1\" class=\"dataframe\">\n",
       "  <thead>\n",
       "    <tr style=\"text-align: right;\">\n",
       "      <th></th>\n",
       "      <th>PassengerId</th>\n",
       "      <th>Survived</th>\n",
       "      <th>Pclass</th>\n",
       "      <th>Name</th>\n",
       "      <th>Sex</th>\n",
       "      <th>Age</th>\n",
       "      <th>SibSp</th>\n",
       "      <th>Parch</th>\n",
       "      <th>Ticket</th>\n",
       "      <th>Fare</th>\n",
       "      <th>Embarked</th>\n",
       "      <th>train_set</th>\n",
       "      <th>AgeGroup</th>\n",
       "      <th>CabinGroup</th>\n",
       "      <th>CabinNo</th>\n",
       "      <th>CabinCnt</th>\n",
       "      <th>Fare_log</th>\n",
       "      <th>Title</th>\n",
       "      <th>Surname</th>\n",
       "      <th>TicketGroup</th>\n",
       "      <th>FamilyGroup</th>\n",
       "      <th>FareGroup</th>\n",
       "      <th>FamilySize</th>\n",
       "    </tr>\n",
       "  </thead>\n",
       "  <tbody>\n",
       "    <tr>\n",
       "      <th>630</th>\n",
       "      <td>631</td>\n",
       "      <td>1.0</td>\n",
       "      <td>1</td>\n",
       "      <td>Barkworth, Mr. Algernon Henry Wilson</td>\n",
       "      <td>male</td>\n",
       "      <td>80.0</td>\n",
       "      <td>0</td>\n",
       "      <td>0</td>\n",
       "      <td>27042</td>\n",
       "      <td>30.0</td>\n",
       "      <td>S</td>\n",
       "      <td>1</td>\n",
       "      <td>NaN</td>\n",
       "      <td>A</td>\n",
       "      <td>23</td>\n",
       "      <td>1</td>\n",
       "      <td>3.433987</td>\n",
       "      <td>Mr</td>\n",
       "      <td>Barkworth</td>\n",
       "      <td>XXX</td>\n",
       "      <td>Solo</td>\n",
       "      <td>&lt;50</td>\n",
       "      <td>1</td>\n",
       "    </tr>\n",
       "  </tbody>\n",
       "</table>\n",
       "</div>"
      ],
      "text/plain": [
       "     PassengerId  Survived  Pclass                                  Name  \\\n",
       "630          631       1.0       1  Barkworth, Mr. Algernon Henry Wilson   \n",
       "\n",
       "      Sex   Age  SibSp  Parch Ticket  Fare Embarked  train_set AgeGroup  \\\n",
       "630  male  80.0      0      0  27042  30.0        S          1      NaN   \n",
       "\n",
       "    CabinGroup  CabinNo  CabinCnt  Fare_log Title    Surname TicketGroup  \\\n",
       "630          A       23         1  3.433987    Mr  Barkworth         XXX   \n",
       "\n",
       "    FamilyGroup FareGroup  FamilySize  \n",
       "630        Solo       <50           1  "
      ]
     },
     "execution_count": 6,
     "metadata": {},
     "output_type": "execute_result"
    }
   ],
   "source": [
    "df[df['AgeGroup'].isnull()].head()"
   ]
  },
  {
   "cell_type": "code",
   "execution_count": 7,
   "id": "e3af49ae",
   "metadata": {
    "execution": {
     "iopub.execute_input": "2025-05-13T05:28:52.434368Z",
     "iopub.status.busy": "2025-05-13T05:28:52.433689Z",
     "iopub.status.idle": "2025-05-13T05:28:52.439403Z",
     "shell.execute_reply": "2025-05-13T05:28:52.438630Z"
    },
    "papermill": {
     "duration": 0.028485,
     "end_time": "2025-05-13T05:28:52.440650",
     "exception": false,
     "start_time": "2025-05-13T05:28:52.412165",
     "status": "completed"
    },
    "tags": []
   },
   "outputs": [
    {
     "data": {
      "text/plain": [
       "array(['Young Adult', 'Adult', 'Senior', 'Child', 'Teen', nan],\n",
       "      dtype=object)"
      ]
     },
     "execution_count": 7,
     "metadata": {},
     "output_type": "execute_result"
    }
   ],
   "source": [
    "df['AgeGroup'].unique()"
   ]
  },
  {
   "cell_type": "code",
   "execution_count": 8,
   "id": "8d33a74f",
   "metadata": {
    "execution": {
     "iopub.execute_input": "2025-05-13T05:28:52.484575Z",
     "iopub.status.busy": "2025-05-13T05:28:52.484258Z",
     "iopub.status.idle": "2025-05-13T05:28:52.491355Z",
     "shell.execute_reply": "2025-05-13T05:28:52.490459Z"
    },
    "papermill": {
     "duration": 0.030536,
     "end_time": "2025-05-13T05:28:52.492675",
     "exception": false,
     "start_time": "2025-05-13T05:28:52.462139",
     "status": "completed"
    },
    "tags": []
   },
   "outputs": [],
   "source": [
    "# Fill missing values in 'AgeGroup' with 'Senior' for df\n",
    "df['AgeGroup'] = df['AgeGroup'].fillna('Senior')\n",
    "\n",
    "# Do the same for all_data_df\n",
    "all_data_df['AgeGroup'] = all_data_df['AgeGroup'].fillna('Senior')"
   ]
  },
  {
   "cell_type": "code",
   "execution_count": 9,
   "id": "959d5228",
   "metadata": {
    "execution": {
     "iopub.execute_input": "2025-05-13T05:28:52.535414Z",
     "iopub.status.busy": "2025-05-13T05:28:52.534910Z",
     "iopub.status.idle": "2025-05-13T05:28:52.543493Z",
     "shell.execute_reply": "2025-05-13T05:28:52.542598Z"
    },
    "papermill": {
     "duration": 0.031361,
     "end_time": "2025-05-13T05:28:52.544893",
     "exception": false,
     "start_time": "2025-05-13T05:28:52.513532",
     "status": "completed"
    },
    "tags": []
   },
   "outputs": [],
   "source": [
    "# Fill missing 'Fare' values with its median\n",
    "fare_median = df['Fare'].median()\n",
    "df['Fare'] = df['Fare'].fillna(fare_median)\n",
    "\n",
    "# Fill missing 'Fare_log' values with its median\n",
    "fare_log_median = df['Fare_log'].median()\n",
    "df['Fare_log'] = df['Fare_log'].fillna(fare_log_median)\n",
    "\n",
    "# For all_data_df\n",
    "fare_median_all = all_data_df['Fare'].median()\n",
    "all_data_df['Fare'] = all_data_df['Fare'].fillna(fare_median_all)\n",
    "\n",
    "fare_log_median_all = all_data_df['Fare_log'].median()\n",
    "all_data_df['Fare_log'] = all_data_df['Fare_log'].fillna(fare_log_median_all)"
   ]
  },
  {
   "cell_type": "code",
   "execution_count": 10,
   "id": "538d6d9a",
   "metadata": {
    "execution": {
     "iopub.execute_input": "2025-05-13T05:28:52.588454Z",
     "iopub.status.busy": "2025-05-13T05:28:52.588099Z",
     "iopub.status.idle": "2025-05-13T05:28:52.595030Z",
     "shell.execute_reply": "2025-05-13T05:28:52.594130Z"
    },
    "papermill": {
     "duration": 0.030391,
     "end_time": "2025-05-13T05:28:52.596454",
     "exception": false,
     "start_time": "2025-05-13T05:28:52.566063",
     "status": "completed"
    },
    "tags": []
   },
   "outputs": [
    {
     "data": {
      "text/plain": [
       "['PassengerId',\n",
       " 'Survived',\n",
       " 'Pclass',\n",
       " 'Age',\n",
       " 'SibSp',\n",
       " 'Parch',\n",
       " 'Fare',\n",
       " 'train_set',\n",
       " 'CabinNo',\n",
       " 'CabinCnt',\n",
       " 'Fare_log',\n",
       " 'FamilySize']"
      ]
     },
     "execution_count": 10,
     "metadata": {},
     "output_type": "execute_result"
    }
   ],
   "source": [
    "df.select_dtypes(include=[np.number]).columns.tolist()"
   ]
  },
  {
   "cell_type": "markdown",
   "id": "070cc191",
   "metadata": {
    "papermill": {
     "duration": 0.019995,
     "end_time": "2025-05-13T05:28:52.637764",
     "exception": false,
     "start_time": "2025-05-13T05:28:52.617769",
     "status": "completed"
    },
    "tags": []
   },
   "source": [
    "[go to top](#top)  "
   ]
  },
  {
   "cell_type": "markdown",
   "id": "5f4048e6",
   "metadata": {
    "papermill": {
     "duration": 0.019755,
     "end_time": "2025-05-13T05:28:52.677840",
     "exception": false,
     "start_time": "2025-05-13T05:28:52.658085",
     "status": "completed"
    },
    "tags": []
   },
   "source": [
    "<img style=\"float:left\" src=\"https://i.imgur.com/rb8V6X5.png\" width=\"50\">\n",
    "\n",
    "<h1><a id=\"EDA\">Analyze - Explarotary Data Analysis (EDA)</a></h1> "
   ]
  },
  {
   "cell_type": "markdown",
   "id": "410ee199",
   "metadata": {
    "papermill": {
     "duration": 0.020018,
     "end_time": "2025-05-13T05:28:52.718380",
     "exception": false,
     "start_time": "2025-05-13T05:28:52.698362",
     "status": "completed"
    },
    "tags": []
   },
   "source": [
    "In <a href=\"https://www.kaggle.com/code/wahyuardhitama/task001-p001-ml-titanic-20250407\">part 1 (P01)</a>, we conduct the P and A phase. In <a href=\"https://www.kaggle.com/code/wahyuardhitama/task001-p002-ml-titanic-20250416\">part 2 (P02)</a>, we explore 11 machine learning models."
   ]
  },
  {
   "cell_type": "markdown",
   "id": "5bb30907",
   "metadata": {
    "papermill": {
     "duration": 0.020578,
     "end_time": "2025-05-13T05:28:52.759784",
     "exception": false,
     "start_time": "2025-05-13T05:28:52.739206",
     "status": "completed"
    },
    "tags": []
   },
   "source": [
    "### Create function"
   ]
  },
  {
   "cell_type": "code",
   "execution_count": 11,
   "id": "f1c44d57",
   "metadata": {
    "execution": {
     "iopub.execute_input": "2025-05-13T05:28:52.804127Z",
     "iopub.status.busy": "2025-05-13T05:28:52.803806Z",
     "iopub.status.idle": "2025-05-13T05:28:52.813440Z",
     "shell.execute_reply": "2025-05-13T05:28:52.812778Z"
    },
    "papermill": {
     "duration": 0.032859,
     "end_time": "2025-05-13T05:28:52.814684",
     "exception": false,
     "start_time": "2025-05-13T05:28:52.781825",
     "status": "completed"
    },
    "tags": []
   },
   "outputs": [],
   "source": [
    "def quick_view_model(X_train, y_train, cv=5, sort_by='Accuracy'):\n",
    "    \"\"\"\n",
    "    Evaluates multiple classification models using cross-validation.\n",
    "    \n",
    "    Parameters:\n",
    "    - X_train: Training features\n",
    "    - y_train: Training labels\n",
    "    - cv: Number of cross-validation folds (default=5)\n",
    "    - sort_by: Metric to sort the result table by (default='Accuracy')\n",
    "    \n",
    "    Returns:\n",
    "    - results_df: DataFrame with mean and std CV scores for each model\n",
    "    \"\"\"\n",
    "\n",
    "    # Define models\n",
    "    models = {\n",
    "        'LogisticRegression': LogisticRegression(max_iter=1000),\n",
    "        'GaussianNB': GaussianNB(),\n",
    "        'SVC': SVC(probability=True),\n",
    "        'DecisionTree': DecisionTreeClassifier(random_state=42),\n",
    "        'RandomForest': RandomForestClassifier(random_state=42),\n",
    "        'AdaBoost': AdaBoostClassifier(random_state=42),\n",
    "        'ExtraTrees': ExtraTreesClassifier(random_state=42),\n",
    "        'GradientBoosting': GradientBoostingClassifier(random_state=42),\n",
    "        'XGBoost': XGBClassifier(use_label_encoder=False, eval_metric='logloss', random_state=42),\n",
    "        'KNN': KNeighborsClassifier()\n",
    "    }\n",
    "\n",
    "    # Initialize results dictionary\n",
    "    results = {}\n",
    "\n",
    "    # Evaluate each model\n",
    "    for name, model in models.items():\n",
    "        pipe = Pipeline([\n",
    "            ('scaler', StandardScaler()),  # Can skip for tree-based\n",
    "            ('classifier', model)\n",
    "        ])\n",
    "\n",
    "        # Cross-validation\n",
    "        scores = cross_validate(\n",
    "            pipe, X_train, y_train, cv=cv,\n",
    "            scoring={\n",
    "                'accuracy': 'accuracy',\n",
    "                'auc': 'roc_auc',\n",
    "                'f1': 'f1',\n",
    "                'precision': 'precision',\n",
    "                'recall': 'recall'\n",
    "            },\n",
    "            return_train_score=False\n",
    "        )\n",
    "\n",
    "        # Store mean and std for each metric\n",
    "        results[name] = {\n",
    "            'Accuracy Mean': np.mean(scores['test_accuracy']),\n",
    "            'Accuracy Std': np.std(scores['test_accuracy']),\n",
    "            'AUC Mean': np.mean(scores['test_auc']),\n",
    "            'AUC Std': np.std(scores['test_auc']),\n",
    "            'F1-Score Mean': np.mean(scores['test_f1']),\n",
    "            'F1-Score Std': np.std(scores['test_f1']),\n",
    "            'Precision Mean': np.mean(scores['test_precision']),\n",
    "            'Precision Std': np.std(scores['test_precision']),\n",
    "            'Recall Mean': np.mean(scores['test_recall']),\n",
    "            'Recall Std': np.std(scores['test_recall'])\n",
    "        }\n",
    "\n",
    "    # Convert to DataFrame\n",
    "    results_df = pd.DataFrame(results).T\n",
    "\n",
    "    # Sort by selected mean metric\n",
    "    if f'{sort_by} Mean' in results_df.columns:\n",
    "        results_df = results_df.sort_values(by=f'{sort_by} Mean', ascending=False)\n",
    "\n",
    "    # Round for display\n",
    "    print(f\"\\nModel Comparison (sorted by {sort_by} Mean):\\n\")\n",
    "    print(results_df.round(4))\n",
    "    \n",
    "    return results_df"
   ]
  },
  {
   "cell_type": "code",
   "execution_count": 12,
   "id": "8a44c1b4",
   "metadata": {
    "execution": {
     "iopub.execute_input": "2025-05-13T05:28:52.858119Z",
     "iopub.status.busy": "2025-05-13T05:28:52.857852Z",
     "iopub.status.idle": "2025-05-13T05:28:52.865896Z",
     "shell.execute_reply": "2025-05-13T05:28:52.865237Z"
    },
    "papermill": {
     "duration": 0.030857,
     "end_time": "2025-05-13T05:28:52.867176",
     "exception": false,
     "start_time": "2025-05-13T05:28:52.836319",
     "status": "completed"
    },
    "tags": []
   },
   "outputs": [],
   "source": [
    "def quick_view_models_plot(results_df, metric='Accuracy'):\n",
    "    \"\"\"\n",
    "    Plots the mean and standard deviation of model performance scores.\n",
    "    \n",
    "    Parameters:\n",
    "    - results_df: DataFrame output from quick_view_model()\n",
    "    - metric: Metric to plot (e.g., 'Accuracy', 'F1-Score')\n",
    "    \"\"\"\n",
    "    # Construct column names for mean and std\n",
    "    mean_col = f\"{metric} Mean\"\n",
    "    std_col = f\"{metric} Std\"\n",
    "\n",
    "    # Check if metric exists\n",
    "    if mean_col not in results_df.columns or std_col not in results_df.columns:\n",
    "        raise ValueError(f\"Metric '{metric}' not found in results_df. Check column names.\")\n",
    "\n",
    "    # Drop GaussianNB if present\n",
    "    filtered_df = results_df.drop(index='GaussianNB', errors='ignore')\n",
    "\n",
    "    # Plotting data\n",
    "    models = filtered_df.index\n",
    "    mean_scores = filtered_df[mean_col]\n",
    "    std_devs = filtered_df[std_col]\n",
    "    x_pos = np.arange(len(models))\n",
    "\n",
    "    # Plot\n",
    "    plt.figure(figsize=(12, 8))\n",
    "    plt.errorbar(x_pos, mean_scores, yerr=std_devs, fmt='o-', linewidth=2, capsize=6,\n",
    "                 markersize=8, label=f'Mean {metric} ± Std Dev')\n",
    "    plt.fill_between(x_pos, mean_scores - std_devs, mean_scores + std_devs,\n",
    "                     alpha=0.2, color='skyblue')\n",
    "\n",
    "    plt.xticks(x_pos, models, rotation=45, ha='right')\n",
    "    plt.grid(True, linestyle='--', alpha=0.7)\n",
    "    plt.xlabel('Models', fontsize=12, fontweight='bold')\n",
    "    plt.ylabel(f'{metric} Score', fontsize=12, fontweight='bold')\n",
    "    plt.title(f'Model Comparison (Excl. GaussianNB) - {metric}', fontsize=14, fontweight='bold')\n",
    "\n",
    "    # Annotate each point\n",
    "    for i, (m, s) in enumerate(zip(mean_scores, std_devs)):\n",
    "        plt.text(i, m + 0.002, f\"{m:.3f}±{s:.3f}\", ha='center', fontsize=9)\n",
    "\n",
    "    plt.ylim(min(mean_scores - std_devs) - 0.02, max(mean_scores + std_devs) + 0.02)\n",
    "    plt.legend(loc='lower right')\n",
    "    plt.tight_layout()\n",
    "    plt.show()"
   ]
  },
  {
   "cell_type": "code",
   "execution_count": 13,
   "id": "e3ddc7bb",
   "metadata": {
    "execution": {
     "iopub.execute_input": "2025-05-13T05:28:52.911536Z",
     "iopub.status.busy": "2025-05-13T05:28:52.910762Z",
     "iopub.status.idle": "2025-05-13T05:28:52.918475Z",
     "shell.execute_reply": "2025-05-13T05:28:52.917795Z"
    },
    "papermill": {
     "duration": 0.031368,
     "end_time": "2025-05-13T05:28:52.919684",
     "exception": false,
     "start_time": "2025-05-13T05:28:52.888316",
     "status": "completed"
    },
    "tags": []
   },
   "outputs": [],
   "source": [
    "def quick_view_models_chart(results_df, metrics=None):\n",
    "    \"\"\"\n",
    "    Plots a grouped bar chart to compare multiple evaluation metrics (Mean) across models.\n",
    "    \"\"\"\n",
    "    if metrics is None:\n",
    "        metrics = ['Accuracy Mean', 'AUC Mean', 'F1-Score Mean', 'Precision Mean', 'Recall Mean']\n",
    "\n",
    "    # Drop GaussianNB if present\n",
    "    #results_df = results_df.drop(index='GaussianNB', errors='ignore')\n",
    "    models = results_df.index\n",
    "    x = np.arange(len(models))\n",
    "    width = 0.13\n",
    "\n",
    "    colors = ['skyblue', 'orange', 'lightgreen', 'salmon', 'violet']\n",
    "    if len(metrics) > len(colors):\n",
    "        raise ValueError(\"Too many metrics. Add more colors.\")\n",
    "\n",
    "    plt.figure(figsize=(16, 8))\n",
    "\n",
    "    for i, metric in enumerate(metrics):\n",
    "        if metric not in results_df.columns:\n",
    "            raise ValueError(f\"Metric '{metric}' not found in results_df.\")\n",
    "        values = results_df[metric]\n",
    "        plt.bar(x + i * width, values, width, label=metric, color=colors[i])\n",
    "\n",
    "        for j, val in enumerate(values):\n",
    "            plt.text(j + i * width, val + 0.015, f\"{val:.2f}\", ha='center', fontsize=8)\n",
    "\n",
    "    plt.ylabel('Score', fontsize=12, fontweight='bold')\n",
    "    plt.title('Model Comparison by Evaluation Metrics (Mean)', fontsize=14, fontweight='bold')\n",
    "    plt.xticks(x + width * (len(metrics)-1) / 2, models, rotation=45, ha='right')\n",
    "    plt.ylim(0, 1.1)\n",
    "    plt.grid(axis='y', linestyle='--', alpha=0.5)\n",
    "    plt.legend(title=\"Metrics\", loc='upper right')\n",
    "    plt.tight_layout()\n",
    "    plt.show()"
   ]
  },
  {
   "cell_type": "markdown",
   "id": "1b08ed73",
   "metadata": {
    "papermill": {
     "duration": 0.020069,
     "end_time": "2025-05-13T05:28:52.961053",
     "exception": false,
     "start_time": "2025-05-13T05:28:52.940984",
     "status": "completed"
    },
    "tags": []
   },
   "source": [
    "[go to top](#top)  "
   ]
  },
  {
   "cell_type": "markdown",
   "id": "68ae9a10",
   "metadata": {
    "papermill": {
     "duration": 0.020283,
     "end_time": "2025-05-13T05:28:53.001583",
     "exception": false,
     "start_time": "2025-05-13T05:28:52.981300",
     "status": "completed"
    },
    "tags": []
   },
   "source": [
    "<img style=\"float:left\" src=\"https://i.imgur.com/J4M3HKM.png\" width=\"50\">\n",
    "\n",
    "<h1><a id=\"Construct\">Construct - model</a></h1>  "
   ]
  },
  {
   "cell_type": "markdown",
   "id": "3e0b3684",
   "metadata": {
    "papermill": {
     "duration": 0.020727,
     "end_time": "2025-05-13T05:28:53.042989",
     "exception": false,
     "start_time": "2025-05-13T05:28:53.022262",
     "status": "completed"
    },
    "tags": []
   },
   "source": [
    "### Baseline feature selection (original 83 Features, lightly imbalanced data)"
   ]
  },
  {
   "cell_type": "code",
   "execution_count": 14,
   "id": "bdc53ece",
   "metadata": {
    "execution": {
     "iopub.execute_input": "2025-05-13T05:28:53.085933Z",
     "iopub.status.busy": "2025-05-13T05:28:53.085203Z",
     "iopub.status.idle": "2025-05-13T05:28:53.088881Z",
     "shell.execute_reply": "2025-05-13T05:28:53.088229Z"
    },
    "papermill": {
     "duration": 0.02674,
     "end_time": "2025-05-13T05:28:53.090291",
     "exception": false,
     "start_time": "2025-05-13T05:28:53.063551",
     "status": "completed"
    },
    "tags": []
   },
   "outputs": [],
   "source": [
    "#X_train, X_test, y_train, y_test = train_test_split(X, y, test_size=0.2, stratify=y, random_state=42)"
   ]
  },
  {
   "cell_type": "code",
   "execution_count": 15,
   "id": "b731fa3b",
   "metadata": {
    "execution": {
     "iopub.execute_input": "2025-05-13T05:28:53.133891Z",
     "iopub.status.busy": "2025-05-13T05:28:53.133593Z",
     "iopub.status.idle": "2025-05-13T05:28:53.143691Z",
     "shell.execute_reply": "2025-05-13T05:28:53.143004Z"
    },
    "papermill": {
     "duration": 0.033206,
     "end_time": "2025-05-13T05:28:53.144895",
     "exception": false,
     "start_time": "2025-05-13T05:28:53.111689",
     "status": "completed"
    },
    "tags": []
   },
   "outputs": [],
   "source": [
    "# Convert the 'Pclass' and 'FamilySize' columns to string (object) type for pd.get_dummies() Using this will acquire 83 features\n",
    "# Let us apply without converting to string\n",
    "df[['Pclass', 'FamilySize']] = df[['Pclass', 'FamilySize']].astype(str)"
   ]
  },
  {
   "cell_type": "code",
   "execution_count": 16,
   "id": "83cb36a0",
   "metadata": {
    "execution": {
     "iopub.execute_input": "2025-05-13T05:28:53.187990Z",
     "iopub.status.busy": "2025-05-13T05:28:53.187328Z",
     "iopub.status.idle": "2025-05-13T05:28:53.192543Z",
     "shell.execute_reply": "2025-05-13T05:28:53.191862Z"
    },
    "papermill": {
     "duration": 0.027698,
     "end_time": "2025-05-13T05:28:53.193745",
     "exception": false,
     "start_time": "2025-05-13T05:28:53.166047",
     "status": "completed"
    },
    "tags": []
   },
   "outputs": [
    {
     "data": {
      "text/plain": [
       "Index(['PassengerId', 'Survived', 'Pclass', 'Name', 'Sex', 'Age', 'SibSp',\n",
       "       'Parch', 'Ticket', 'Fare', 'Embarked', 'train_set', 'AgeGroup',\n",
       "       'CabinGroup', 'CabinNo', 'CabinCnt', 'Fare_log', 'Title', 'Surname',\n",
       "       'TicketGroup', 'FamilyGroup', 'FareGroup', 'FamilySize'],\n",
       "      dtype='object')"
      ]
     },
     "execution_count": 16,
     "metadata": {},
     "output_type": "execute_result"
    }
   ],
   "source": [
    "df.columns"
   ]
  },
  {
   "cell_type": "code",
   "execution_count": 17,
   "id": "96325f59",
   "metadata": {
    "execution": {
     "iopub.execute_input": "2025-05-13T05:28:53.237266Z",
     "iopub.status.busy": "2025-05-13T05:28:53.236977Z",
     "iopub.status.idle": "2025-05-13T05:28:53.260127Z",
     "shell.execute_reply": "2025-05-13T05:28:53.259499Z"
    },
    "papermill": {
     "duration": 0.046531,
     "end_time": "2025-05-13T05:28:53.261548",
     "exception": false,
     "start_time": "2025-05-13T05:28:53.215017",
     "status": "completed"
    },
    "tags": []
   },
   "outputs": [
    {
     "data": {
      "text/plain": [
       "(891,)"
      ]
     },
     "execution_count": 17,
     "metadata": {},
     "output_type": "execute_result"
    }
   ],
   "source": [
    "# Created dummy variablesfrom categories (also can use OneHotEncoder)\n",
    "df_dummies = pd.get_dummies(df[['Pclass', 'Sex', 'Age', 'SibSp',\n",
    "       'Parch', 'Embarked', 'train_set',\n",
    "       'CabinGroup', 'CabinCnt', 'Fare_log', 'Title',\n",
    "       'TicketGroup', 'FamilyGroup','FamilySize']])\n",
    "\n",
    "X_train = df_dummies[df_dummies.train_set == 1].drop(['train_set'],axis=1)\n",
    "X_test = df_dummies[df_dummies.train_set == 0].drop(['train_set'], axis=1)\n",
    "\n",
    "y_train = df[df.train_set==1].Survived\n",
    "y_train.shape"
   ]
  },
  {
   "cell_type": "code",
   "execution_count": 18,
   "id": "20553e2f",
   "metadata": {
    "execution": {
     "iopub.execute_input": "2025-05-13T05:28:53.305494Z",
     "iopub.status.busy": "2025-05-13T05:28:53.304837Z",
     "iopub.status.idle": "2025-05-13T05:28:53.344250Z",
     "shell.execute_reply": "2025-05-13T05:28:53.343387Z"
    },
    "papermill": {
     "duration": 0.062638,
     "end_time": "2025-05-13T05:28:53.345648",
     "exception": false,
     "start_time": "2025-05-13T05:28:53.283010",
     "status": "completed"
    },
    "tags": []
   },
   "outputs": [
    {
     "data": {
      "text/html": [
       "<div>\n",
       "<style scoped>\n",
       "    .dataframe tbody tr th:only-of-type {\n",
       "        vertical-align: middle;\n",
       "    }\n",
       "\n",
       "    .dataframe tbody tr th {\n",
       "        vertical-align: top;\n",
       "    }\n",
       "\n",
       "    .dataframe thead th {\n",
       "        text-align: right;\n",
       "    }\n",
       "</style>\n",
       "<table border=\"1\" class=\"dataframe\">\n",
       "  <thead>\n",
       "    <tr style=\"text-align: right;\">\n",
       "      <th></th>\n",
       "      <th>Age</th>\n",
       "      <th>SibSp</th>\n",
       "      <th>Parch</th>\n",
       "      <th>CabinCnt</th>\n",
       "      <th>Fare_log</th>\n",
       "      <th>Pclass_1</th>\n",
       "      <th>Pclass_2</th>\n",
       "      <th>Pclass_3</th>\n",
       "      <th>Sex_female</th>\n",
       "      <th>Sex_male</th>\n",
       "      <th>Embarked_C</th>\n",
       "      <th>Embarked_Q</th>\n",
       "      <th>Embarked_S</th>\n",
       "      <th>CabinGroup_A</th>\n",
       "      <th>CabinGroup_B</th>\n",
       "      <th>CabinGroup_C</th>\n",
       "      <th>CabinGroup_D</th>\n",
       "      <th>CabinGroup_E</th>\n",
       "      <th>CabinGroup_F</th>\n",
       "      <th>CabinGroup_G</th>\n",
       "      <th>CabinGroup_T</th>\n",
       "      <th>CabinGroup_U</th>\n",
       "      <th>Title_Capt</th>\n",
       "      <th>Title_Col</th>\n",
       "      <th>Title_Don</th>\n",
       "      <th>Title_Dona</th>\n",
       "      <th>Title_Dr</th>\n",
       "      <th>Title_Jonkheer</th>\n",
       "      <th>Title_Lady</th>\n",
       "      <th>Title_Major</th>\n",
       "      <th>Title_Master</th>\n",
       "      <th>Title_Miss</th>\n",
       "      <th>Title_Mlle</th>\n",
       "      <th>Title_Mme</th>\n",
       "      <th>Title_Mr</th>\n",
       "      <th>Title_Mrs</th>\n",
       "      <th>Title_Ms</th>\n",
       "      <th>Title_Rev</th>\n",
       "      <th>Title_Sir</th>\n",
       "      <th>Title_the Countess</th>\n",
       "      <th>TicketGroup_A4</th>\n",
       "      <th>TicketGroup_A5</th>\n",
       "      <th>TicketGroup_AS</th>\n",
       "      <th>TicketGroup_C</th>\n",
       "      <th>TicketGroup_CA</th>\n",
       "      <th>TicketGroup_CASOTON</th>\n",
       "      <th>TicketGroup_FC</th>\n",
       "      <th>TicketGroup_FCC</th>\n",
       "      <th>TicketGroup_Fa</th>\n",
       "      <th>TicketGroup_LINE</th>\n",
       "      <th>TicketGroup_PC</th>\n",
       "      <th>TicketGroup_PP</th>\n",
       "      <th>TicketGroup_PPP</th>\n",
       "      <th>TicketGroup_SC</th>\n",
       "      <th>TicketGroup_SCA4</th>\n",
       "      <th>TicketGroup_SCAH</th>\n",
       "      <th>TicketGroup_SCOW</th>\n",
       "      <th>TicketGroup_SCPARIS</th>\n",
       "      <th>TicketGroup_SCParis</th>\n",
       "      <th>TicketGroup_SOC</th>\n",
       "      <th>TicketGroup_SOP</th>\n",
       "      <th>TicketGroup_SOPP</th>\n",
       "      <th>TicketGroup_SOTONO2</th>\n",
       "      <th>TicketGroup_SOTONOQ</th>\n",
       "      <th>TicketGroup_SP</th>\n",
       "      <th>TicketGroup_STONO</th>\n",
       "      <th>TicketGroup_STONO2</th>\n",
       "      <th>TicketGroup_SWPP</th>\n",
       "      <th>TicketGroup_WC</th>\n",
       "      <th>TicketGroup_WEP</th>\n",
       "      <th>TicketGroup_XXX</th>\n",
       "      <th>FamilyGroup_Large Family</th>\n",
       "      <th>FamilyGroup_Small Family</th>\n",
       "      <th>FamilyGroup_Solo</th>\n",
       "      <th>FamilySize_1</th>\n",
       "      <th>FamilySize_11</th>\n",
       "      <th>FamilySize_2</th>\n",
       "      <th>FamilySize_3</th>\n",
       "      <th>FamilySize_4</th>\n",
       "      <th>FamilySize_5</th>\n",
       "      <th>FamilySize_6</th>\n",
       "      <th>FamilySize_7</th>\n",
       "      <th>FamilySize_8</th>\n",
       "    </tr>\n",
       "  </thead>\n",
       "  <tbody>\n",
       "    <tr>\n",
       "      <th>0</th>\n",
       "      <td>22.0</td>\n",
       "      <td>1</td>\n",
       "      <td>0</td>\n",
       "      <td>0</td>\n",
       "      <td>2.110213</td>\n",
       "      <td>False</td>\n",
       "      <td>False</td>\n",
       "      <td>True</td>\n",
       "      <td>False</td>\n",
       "      <td>True</td>\n",
       "      <td>False</td>\n",
       "      <td>False</td>\n",
       "      <td>True</td>\n",
       "      <td>False</td>\n",
       "      <td>False</td>\n",
       "      <td>False</td>\n",
       "      <td>False</td>\n",
       "      <td>False</td>\n",
       "      <td>False</td>\n",
       "      <td>False</td>\n",
       "      <td>False</td>\n",
       "      <td>True</td>\n",
       "      <td>False</td>\n",
       "      <td>False</td>\n",
       "      <td>False</td>\n",
       "      <td>False</td>\n",
       "      <td>False</td>\n",
       "      <td>False</td>\n",
       "      <td>False</td>\n",
       "      <td>False</td>\n",
       "      <td>False</td>\n",
       "      <td>False</td>\n",
       "      <td>False</td>\n",
       "      <td>False</td>\n",
       "      <td>True</td>\n",
       "      <td>False</td>\n",
       "      <td>False</td>\n",
       "      <td>False</td>\n",
       "      <td>False</td>\n",
       "      <td>False</td>\n",
       "      <td>False</td>\n",
       "      <td>True</td>\n",
       "      <td>False</td>\n",
       "      <td>False</td>\n",
       "      <td>False</td>\n",
       "      <td>False</td>\n",
       "      <td>False</td>\n",
       "      <td>False</td>\n",
       "      <td>False</td>\n",
       "      <td>False</td>\n",
       "      <td>False</td>\n",
       "      <td>False</td>\n",
       "      <td>False</td>\n",
       "      <td>False</td>\n",
       "      <td>False</td>\n",
       "      <td>False</td>\n",
       "      <td>False</td>\n",
       "      <td>False</td>\n",
       "      <td>False</td>\n",
       "      <td>False</td>\n",
       "      <td>False</td>\n",
       "      <td>False</td>\n",
       "      <td>False</td>\n",
       "      <td>False</td>\n",
       "      <td>False</td>\n",
       "      <td>False</td>\n",
       "      <td>False</td>\n",
       "      <td>False</td>\n",
       "      <td>False</td>\n",
       "      <td>False</td>\n",
       "      <td>False</td>\n",
       "      <td>False</td>\n",
       "      <td>True</td>\n",
       "      <td>False</td>\n",
       "      <td>False</td>\n",
       "      <td>False</td>\n",
       "      <td>True</td>\n",
       "      <td>False</td>\n",
       "      <td>False</td>\n",
       "      <td>False</td>\n",
       "      <td>False</td>\n",
       "      <td>False</td>\n",
       "      <td>False</td>\n",
       "    </tr>\n",
       "    <tr>\n",
       "      <th>1</th>\n",
       "      <td>38.0</td>\n",
       "      <td>1</td>\n",
       "      <td>0</td>\n",
       "      <td>1</td>\n",
       "      <td>4.280593</td>\n",
       "      <td>True</td>\n",
       "      <td>False</td>\n",
       "      <td>False</td>\n",
       "      <td>True</td>\n",
       "      <td>False</td>\n",
       "      <td>True</td>\n",
       "      <td>False</td>\n",
       "      <td>False</td>\n",
       "      <td>False</td>\n",
       "      <td>False</td>\n",
       "      <td>True</td>\n",
       "      <td>False</td>\n",
       "      <td>False</td>\n",
       "      <td>False</td>\n",
       "      <td>False</td>\n",
       "      <td>False</td>\n",
       "      <td>False</td>\n",
       "      <td>False</td>\n",
       "      <td>False</td>\n",
       "      <td>False</td>\n",
       "      <td>False</td>\n",
       "      <td>False</td>\n",
       "      <td>False</td>\n",
       "      <td>False</td>\n",
       "      <td>False</td>\n",
       "      <td>False</td>\n",
       "      <td>False</td>\n",
       "      <td>False</td>\n",
       "      <td>False</td>\n",
       "      <td>False</td>\n",
       "      <td>True</td>\n",
       "      <td>False</td>\n",
       "      <td>False</td>\n",
       "      <td>False</td>\n",
       "      <td>False</td>\n",
       "      <td>False</td>\n",
       "      <td>False</td>\n",
       "      <td>False</td>\n",
       "      <td>False</td>\n",
       "      <td>False</td>\n",
       "      <td>False</td>\n",
       "      <td>False</td>\n",
       "      <td>False</td>\n",
       "      <td>False</td>\n",
       "      <td>False</td>\n",
       "      <td>True</td>\n",
       "      <td>False</td>\n",
       "      <td>False</td>\n",
       "      <td>False</td>\n",
       "      <td>False</td>\n",
       "      <td>False</td>\n",
       "      <td>False</td>\n",
       "      <td>False</td>\n",
       "      <td>False</td>\n",
       "      <td>False</td>\n",
       "      <td>False</td>\n",
       "      <td>False</td>\n",
       "      <td>False</td>\n",
       "      <td>False</td>\n",
       "      <td>False</td>\n",
       "      <td>False</td>\n",
       "      <td>False</td>\n",
       "      <td>False</td>\n",
       "      <td>False</td>\n",
       "      <td>False</td>\n",
       "      <td>False</td>\n",
       "      <td>False</td>\n",
       "      <td>True</td>\n",
       "      <td>False</td>\n",
       "      <td>False</td>\n",
       "      <td>False</td>\n",
       "      <td>True</td>\n",
       "      <td>False</td>\n",
       "      <td>False</td>\n",
       "      <td>False</td>\n",
       "      <td>False</td>\n",
       "      <td>False</td>\n",
       "      <td>False</td>\n",
       "    </tr>\n",
       "    <tr>\n",
       "      <th>2</th>\n",
       "      <td>26.0</td>\n",
       "      <td>0</td>\n",
       "      <td>0</td>\n",
       "      <td>0</td>\n",
       "      <td>2.188856</td>\n",
       "      <td>False</td>\n",
       "      <td>False</td>\n",
       "      <td>True</td>\n",
       "      <td>True</td>\n",
       "      <td>False</td>\n",
       "      <td>False</td>\n",
       "      <td>False</td>\n",
       "      <td>True</td>\n",
       "      <td>False</td>\n",
       "      <td>False</td>\n",
       "      <td>False</td>\n",
       "      <td>False</td>\n",
       "      <td>False</td>\n",
       "      <td>False</td>\n",
       "      <td>False</td>\n",
       "      <td>False</td>\n",
       "      <td>True</td>\n",
       "      <td>False</td>\n",
       "      <td>False</td>\n",
       "      <td>False</td>\n",
       "      <td>False</td>\n",
       "      <td>False</td>\n",
       "      <td>False</td>\n",
       "      <td>False</td>\n",
       "      <td>False</td>\n",
       "      <td>False</td>\n",
       "      <td>True</td>\n",
       "      <td>False</td>\n",
       "      <td>False</td>\n",
       "      <td>False</td>\n",
       "      <td>False</td>\n",
       "      <td>False</td>\n",
       "      <td>False</td>\n",
       "      <td>False</td>\n",
       "      <td>False</td>\n",
       "      <td>False</td>\n",
       "      <td>False</td>\n",
       "      <td>False</td>\n",
       "      <td>False</td>\n",
       "      <td>False</td>\n",
       "      <td>False</td>\n",
       "      <td>False</td>\n",
       "      <td>False</td>\n",
       "      <td>False</td>\n",
       "      <td>False</td>\n",
       "      <td>False</td>\n",
       "      <td>False</td>\n",
       "      <td>False</td>\n",
       "      <td>False</td>\n",
       "      <td>False</td>\n",
       "      <td>False</td>\n",
       "      <td>False</td>\n",
       "      <td>False</td>\n",
       "      <td>False</td>\n",
       "      <td>False</td>\n",
       "      <td>False</td>\n",
       "      <td>False</td>\n",
       "      <td>False</td>\n",
       "      <td>False</td>\n",
       "      <td>False</td>\n",
       "      <td>False</td>\n",
       "      <td>True</td>\n",
       "      <td>False</td>\n",
       "      <td>False</td>\n",
       "      <td>False</td>\n",
       "      <td>False</td>\n",
       "      <td>False</td>\n",
       "      <td>False</td>\n",
       "      <td>True</td>\n",
       "      <td>True</td>\n",
       "      <td>False</td>\n",
       "      <td>False</td>\n",
       "      <td>False</td>\n",
       "      <td>False</td>\n",
       "      <td>False</td>\n",
       "      <td>False</td>\n",
       "      <td>False</td>\n",
       "      <td>False</td>\n",
       "    </tr>\n",
       "    <tr>\n",
       "      <th>3</th>\n",
       "      <td>35.0</td>\n",
       "      <td>1</td>\n",
       "      <td>0</td>\n",
       "      <td>1</td>\n",
       "      <td>3.990834</td>\n",
       "      <td>True</td>\n",
       "      <td>False</td>\n",
       "      <td>False</td>\n",
       "      <td>True</td>\n",
       "      <td>False</td>\n",
       "      <td>False</td>\n",
       "      <td>False</td>\n",
       "      <td>True</td>\n",
       "      <td>False</td>\n",
       "      <td>False</td>\n",
       "      <td>True</td>\n",
       "      <td>False</td>\n",
       "      <td>False</td>\n",
       "      <td>False</td>\n",
       "      <td>False</td>\n",
       "      <td>False</td>\n",
       "      <td>False</td>\n",
       "      <td>False</td>\n",
       "      <td>False</td>\n",
       "      <td>False</td>\n",
       "      <td>False</td>\n",
       "      <td>False</td>\n",
       "      <td>False</td>\n",
       "      <td>False</td>\n",
       "      <td>False</td>\n",
       "      <td>False</td>\n",
       "      <td>False</td>\n",
       "      <td>False</td>\n",
       "      <td>False</td>\n",
       "      <td>False</td>\n",
       "      <td>True</td>\n",
       "      <td>False</td>\n",
       "      <td>False</td>\n",
       "      <td>False</td>\n",
       "      <td>False</td>\n",
       "      <td>False</td>\n",
       "      <td>False</td>\n",
       "      <td>False</td>\n",
       "      <td>False</td>\n",
       "      <td>False</td>\n",
       "      <td>False</td>\n",
       "      <td>False</td>\n",
       "      <td>False</td>\n",
       "      <td>False</td>\n",
       "      <td>False</td>\n",
       "      <td>False</td>\n",
       "      <td>False</td>\n",
       "      <td>False</td>\n",
       "      <td>False</td>\n",
       "      <td>False</td>\n",
       "      <td>False</td>\n",
       "      <td>False</td>\n",
       "      <td>False</td>\n",
       "      <td>False</td>\n",
       "      <td>False</td>\n",
       "      <td>False</td>\n",
       "      <td>False</td>\n",
       "      <td>False</td>\n",
       "      <td>False</td>\n",
       "      <td>False</td>\n",
       "      <td>False</td>\n",
       "      <td>False</td>\n",
       "      <td>False</td>\n",
       "      <td>False</td>\n",
       "      <td>False</td>\n",
       "      <td>True</td>\n",
       "      <td>False</td>\n",
       "      <td>True</td>\n",
       "      <td>False</td>\n",
       "      <td>False</td>\n",
       "      <td>False</td>\n",
       "      <td>True</td>\n",
       "      <td>False</td>\n",
       "      <td>False</td>\n",
       "      <td>False</td>\n",
       "      <td>False</td>\n",
       "      <td>False</td>\n",
       "      <td>False</td>\n",
       "    </tr>\n",
       "    <tr>\n",
       "      <th>4</th>\n",
       "      <td>35.0</td>\n",
       "      <td>0</td>\n",
       "      <td>0</td>\n",
       "      <td>0</td>\n",
       "      <td>2.202765</td>\n",
       "      <td>False</td>\n",
       "      <td>False</td>\n",
       "      <td>True</td>\n",
       "      <td>False</td>\n",
       "      <td>True</td>\n",
       "      <td>False</td>\n",
       "      <td>False</td>\n",
       "      <td>True</td>\n",
       "      <td>False</td>\n",
       "      <td>False</td>\n",
       "      <td>False</td>\n",
       "      <td>False</td>\n",
       "      <td>False</td>\n",
       "      <td>False</td>\n",
       "      <td>False</td>\n",
       "      <td>False</td>\n",
       "      <td>True</td>\n",
       "      <td>False</td>\n",
       "      <td>False</td>\n",
       "      <td>False</td>\n",
       "      <td>False</td>\n",
       "      <td>False</td>\n",
       "      <td>False</td>\n",
       "      <td>False</td>\n",
       "      <td>False</td>\n",
       "      <td>False</td>\n",
       "      <td>False</td>\n",
       "      <td>False</td>\n",
       "      <td>False</td>\n",
       "      <td>True</td>\n",
       "      <td>False</td>\n",
       "      <td>False</td>\n",
       "      <td>False</td>\n",
       "      <td>False</td>\n",
       "      <td>False</td>\n",
       "      <td>False</td>\n",
       "      <td>False</td>\n",
       "      <td>False</td>\n",
       "      <td>False</td>\n",
       "      <td>False</td>\n",
       "      <td>False</td>\n",
       "      <td>False</td>\n",
       "      <td>False</td>\n",
       "      <td>False</td>\n",
       "      <td>False</td>\n",
       "      <td>False</td>\n",
       "      <td>False</td>\n",
       "      <td>False</td>\n",
       "      <td>False</td>\n",
       "      <td>False</td>\n",
       "      <td>False</td>\n",
       "      <td>False</td>\n",
       "      <td>False</td>\n",
       "      <td>False</td>\n",
       "      <td>False</td>\n",
       "      <td>False</td>\n",
       "      <td>False</td>\n",
       "      <td>False</td>\n",
       "      <td>False</td>\n",
       "      <td>False</td>\n",
       "      <td>False</td>\n",
       "      <td>False</td>\n",
       "      <td>False</td>\n",
       "      <td>False</td>\n",
       "      <td>False</td>\n",
       "      <td>True</td>\n",
       "      <td>False</td>\n",
       "      <td>False</td>\n",
       "      <td>True</td>\n",
       "      <td>True</td>\n",
       "      <td>False</td>\n",
       "      <td>False</td>\n",
       "      <td>False</td>\n",
       "      <td>False</td>\n",
       "      <td>False</td>\n",
       "      <td>False</td>\n",
       "      <td>False</td>\n",
       "      <td>False</td>\n",
       "    </tr>\n",
       "  </tbody>\n",
       "</table>\n",
       "</div>"
      ],
      "text/plain": [
       "    Age  SibSp  Parch  CabinCnt  Fare_log  Pclass_1  Pclass_2  Pclass_3  \\\n",
       "0  22.0      1      0         0  2.110213     False     False      True   \n",
       "1  38.0      1      0         1  4.280593      True     False     False   \n",
       "2  26.0      0      0         0  2.188856     False     False      True   \n",
       "3  35.0      1      0         1  3.990834      True     False     False   \n",
       "4  35.0      0      0         0  2.202765     False     False      True   \n",
       "\n",
       "   Sex_female  Sex_male  Embarked_C  Embarked_Q  Embarked_S  CabinGroup_A  \\\n",
       "0       False      True       False       False        True         False   \n",
       "1        True     False        True       False       False         False   \n",
       "2        True     False       False       False        True         False   \n",
       "3        True     False       False       False        True         False   \n",
       "4       False      True       False       False        True         False   \n",
       "\n",
       "   CabinGroup_B  CabinGroup_C  CabinGroup_D  CabinGroup_E  CabinGroup_F  \\\n",
       "0         False         False         False         False         False   \n",
       "1         False          True         False         False         False   \n",
       "2         False         False         False         False         False   \n",
       "3         False          True         False         False         False   \n",
       "4         False         False         False         False         False   \n",
       "\n",
       "   CabinGroup_G  CabinGroup_T  CabinGroup_U  Title_Capt  Title_Col  Title_Don  \\\n",
       "0         False         False          True       False      False      False   \n",
       "1         False         False         False       False      False      False   \n",
       "2         False         False          True       False      False      False   \n",
       "3         False         False         False       False      False      False   \n",
       "4         False         False          True       False      False      False   \n",
       "\n",
       "   Title_Dona  Title_Dr  Title_Jonkheer  Title_Lady  Title_Major  \\\n",
       "0       False     False           False       False        False   \n",
       "1       False     False           False       False        False   \n",
       "2       False     False           False       False        False   \n",
       "3       False     False           False       False        False   \n",
       "4       False     False           False       False        False   \n",
       "\n",
       "   Title_Master  Title_Miss  Title_Mlle  Title_Mme  Title_Mr  Title_Mrs  \\\n",
       "0         False       False       False      False      True      False   \n",
       "1         False       False       False      False     False       True   \n",
       "2         False        True       False      False     False      False   \n",
       "3         False       False       False      False     False       True   \n",
       "4         False       False       False      False      True      False   \n",
       "\n",
       "   Title_Ms  Title_Rev  Title_Sir  Title_the Countess  TicketGroup_A4  \\\n",
       "0     False      False      False               False           False   \n",
       "1     False      False      False               False           False   \n",
       "2     False      False      False               False           False   \n",
       "3     False      False      False               False           False   \n",
       "4     False      False      False               False           False   \n",
       "\n",
       "   TicketGroup_A5  TicketGroup_AS  TicketGroup_C  TicketGroup_CA  \\\n",
       "0            True           False          False           False   \n",
       "1           False           False          False           False   \n",
       "2           False           False          False           False   \n",
       "3           False           False          False           False   \n",
       "4           False           False          False           False   \n",
       "\n",
       "   TicketGroup_CASOTON  TicketGroup_FC  TicketGroup_FCC  TicketGroup_Fa  \\\n",
       "0                False           False            False           False   \n",
       "1                False           False            False           False   \n",
       "2                False           False            False           False   \n",
       "3                False           False            False           False   \n",
       "4                False           False            False           False   \n",
       "\n",
       "   TicketGroup_LINE  TicketGroup_PC  TicketGroup_PP  TicketGroup_PPP  \\\n",
       "0             False           False           False            False   \n",
       "1             False            True           False            False   \n",
       "2             False           False           False            False   \n",
       "3             False           False           False            False   \n",
       "4             False           False           False            False   \n",
       "\n",
       "   TicketGroup_SC  TicketGroup_SCA4  TicketGroup_SCAH  TicketGroup_SCOW  \\\n",
       "0           False             False             False             False   \n",
       "1           False             False             False             False   \n",
       "2           False             False             False             False   \n",
       "3           False             False             False             False   \n",
       "4           False             False             False             False   \n",
       "\n",
       "   TicketGroup_SCPARIS  TicketGroup_SCParis  TicketGroup_SOC  TicketGroup_SOP  \\\n",
       "0                False                False            False            False   \n",
       "1                False                False            False            False   \n",
       "2                False                False            False            False   \n",
       "3                False                False            False            False   \n",
       "4                False                False            False            False   \n",
       "\n",
       "   TicketGroup_SOPP  TicketGroup_SOTONO2  TicketGroup_SOTONOQ  TicketGroup_SP  \\\n",
       "0             False                False                False           False   \n",
       "1             False                False                False           False   \n",
       "2             False                False                False           False   \n",
       "3             False                False                False           False   \n",
       "4             False                False                False           False   \n",
       "\n",
       "   TicketGroup_STONO  TicketGroup_STONO2  TicketGroup_SWPP  TicketGroup_WC  \\\n",
       "0              False               False             False           False   \n",
       "1              False               False             False           False   \n",
       "2              False                True             False           False   \n",
       "3              False               False             False           False   \n",
       "4              False               False             False           False   \n",
       "\n",
       "   TicketGroup_WEP  TicketGroup_XXX  FamilyGroup_Large Family  \\\n",
       "0            False            False                     False   \n",
       "1            False            False                     False   \n",
       "2            False            False                     False   \n",
       "3            False             True                     False   \n",
       "4            False             True                     False   \n",
       "\n",
       "   FamilyGroup_Small Family  FamilyGroup_Solo  FamilySize_1  FamilySize_11  \\\n",
       "0                      True             False         False          False   \n",
       "1                      True             False         False          False   \n",
       "2                     False              True          True          False   \n",
       "3                      True             False         False          False   \n",
       "4                     False              True          True          False   \n",
       "\n",
       "   FamilySize_2  FamilySize_3  FamilySize_4  FamilySize_5  FamilySize_6  \\\n",
       "0          True         False         False         False         False   \n",
       "1          True         False         False         False         False   \n",
       "2         False         False         False         False         False   \n",
       "3          True         False         False         False         False   \n",
       "4         False         False         False         False         False   \n",
       "\n",
       "   FamilySize_7  FamilySize_8  \n",
       "0         False         False  \n",
       "1         False         False  \n",
       "2         False         False  \n",
       "3         False         False  \n",
       "4         False         False  "
      ]
     },
     "execution_count": 18,
     "metadata": {},
     "output_type": "execute_result"
    }
   ],
   "source": [
    "X_train.head()"
   ]
  },
  {
   "cell_type": "code",
   "execution_count": 19,
   "id": "4ddee3fe",
   "metadata": {
    "execution": {
     "iopub.execute_input": "2025-05-13T05:28:53.390112Z",
     "iopub.status.busy": "2025-05-13T05:28:53.389801Z",
     "iopub.status.idle": "2025-05-13T05:28:53.394953Z",
     "shell.execute_reply": "2025-05-13T05:28:53.394283Z"
    },
    "papermill": {
     "duration": 0.028565,
     "end_time": "2025-05-13T05:28:53.396201",
     "exception": false,
     "start_time": "2025-05-13T05:28:53.367636",
     "status": "completed"
    },
    "tags": []
   },
   "outputs": [
    {
     "data": {
      "text/plain": [
       "(891, 83)"
      ]
     },
     "execution_count": 19,
     "metadata": {},
     "output_type": "execute_result"
    }
   ],
   "source": [
    "X_train.shape"
   ]
  },
  {
   "cell_type": "markdown",
   "id": "09be0de0",
   "metadata": {
    "papermill": {
     "duration": 0.021237,
     "end_time": "2025-05-13T05:28:53.439503",
     "exception": false,
     "start_time": "2025-05-13T05:28:53.418266",
     "status": "completed"
    },
    "tags": []
   },
   "source": [
    "[go to top](#top)  "
   ]
  },
  {
   "cell_type": "markdown",
   "id": "ce344b1d",
   "metadata": {
    "papermill": {
     "duration": 0.022119,
     "end_time": "2025-05-13T05:28:53.483462",
     "exception": false,
     "start_time": "2025-05-13T05:28:53.461343",
     "status": "completed"
    },
    "tags": []
   },
   "source": [
    "<div class=\"alert alert-block alert-info\">\n",
    "<img style=\"float: left\" src=\"https://i.imgur.com/HVpiyd6.png[/img\" width=\"60\">\n",
    "<b style = \"font-family: Arial; font-size: 16px\">Inference:</b><p style = \"font-family:Verdana; font-size:14px\">\n",
    "\n",
    "<ol> We have identified features that are correlated with the survival rate on the Titanic:\n",
    "    <li><b>The top 5 features positively correlated with survival are: \n",
    "        <ul>\n",
    "            <li>Sex (Female) <li>Title (Mrs and Miss) <li>Fare_log <li>PClass = 1 (first class) available when string  <li>Family Group = (small)</ul>\n",
    "    <li><b>The top 5 features negatively correlated with survival are:\n",
    "        <ul>\n",
    "            <li>Title (Mr) <li>Sex (Male)<li>Fare_log <li>PClass = 3 (third class) (no class if integer)<li>CabinGroup = unknown (missing cabin) <li>Family Size = 1<li>Family Group = (solo)</ul> \n",
    "</ol>\n",
    "</div>"
   ]
  },
  {
   "cell_type": "markdown",
   "id": "7ddde401",
   "metadata": {
    "papermill": {
     "duration": 0.0216,
     "end_time": "2025-05-13T05:28:53.526965",
     "exception": false,
     "start_time": "2025-05-13T05:28:53.505365",
     "status": "completed"
    },
    "tags": []
   },
   "source": [
    "[go to top](#top)  "
   ]
  },
  {
   "cell_type": "markdown",
   "id": "95d9deaa",
   "metadata": {
    "papermill": {
     "duration": 0.022451,
     "end_time": "2025-05-13T05:28:53.571135",
     "exception": false,
     "start_time": "2025-05-13T05:28:53.548684",
     "status": "completed"
    },
    "tags": []
   },
   "source": [
    "## Hyperparameter Tuning (1st)\n",
    "### Random Forest"
   ]
  },
  {
   "cell_type": "code",
   "execution_count": 20,
   "id": "19d79630",
   "metadata": {
    "execution": {
     "iopub.execute_input": "2025-05-13T05:28:53.615589Z",
     "iopub.status.busy": "2025-05-13T05:28:53.615282Z",
     "iopub.status.idle": "2025-05-13T05:28:53.621781Z",
     "shell.execute_reply": "2025-05-13T05:28:53.621166Z"
    },
    "papermill": {
     "duration": 0.030135,
     "end_time": "2025-05-13T05:28:53.622928",
     "exception": false,
     "start_time": "2025-05-13T05:28:53.592793",
     "status": "completed"
    },
    "tags": []
   },
   "outputs": [],
   "source": [
    "def model_rf_selection(X_train, y_train, cv=5, scoring='accuracy', class_weight=False):\n",
    "    \"\"\"\n",
    "    Performs hyperparameter tuning for RandomForestClassifier using GridSearchCV.\n",
    "\n",
    "    Parameters:\n",
    "        X_train (pd.DataFrame): Training features.\n",
    "        y_train (pd.Series or np.array): Training target.\n",
    "        cv (int): Number of cross-validation folds (default is 5).\n",
    "        scoring (str): Scoring metric (default is 'accuracy').\n",
    "        class_weight (bool): Whether to apply class_weight='balanced' (default is False).\n",
    "\n",
    "    Returns:\n",
    "        GridSearchCV object (fitted)\n",
    "    \"\"\"\n",
    "    \n",
    "    # Set class_weight\n",
    "    class_weight = 'balanced' if class_weight else None\n",
    "\n",
    "    pipe_rf = Pipeline([\n",
    "        ('scaler', StandardScaler()),\n",
    "        ('classifier', RandomForestClassifier(random_state=42, class_weight=class_weight))\n",
    "    ])\n",
    "\n",
    "    param_grid = {\n",
    "        'classifier__max_depth': [4, 6, 8, 9, 10],\n",
    "        'classifier__n_estimators': [50, 100],\n",
    "        'classifier__max_features': ['sqrt', 'log2'],\n",
    "        'classifier__min_samples_split': [2, 3, 10],\n",
    "        'classifier__min_samples_leaf': [1, 3, 10],\n",
    "        'classifier__bootstrap': [True],\n",
    "        'classifier__oob_score': [True, False],\n",
    "        'classifier__criterion': ['gini', 'entropy', 'log_loss']\n",
    "    }\n",
    "\n",
    "    grid_search = GridSearchCV(pipe_rf, param_grid, cv=cv, scoring=scoring, n_jobs=-1)\n",
    "    grid_search.fit(X_train, y_train)\n",
    "\n",
    "    print(\"Best Parameters:\", grid_search.best_params_)\n",
    "    print(f\"Best {scoring.capitalize()} Score: {grid_search.best_score_:.4f}\")\n",
    "    \n",
    "    return grid_search"
   ]
  },
  {
   "cell_type": "markdown",
   "id": "9d2412ea",
   "metadata": {
    "papermill": {
     "duration": 0.020816,
     "end_time": "2025-05-13T05:28:53.665804",
     "exception": false,
     "start_time": "2025-05-13T05:28:53.644988",
     "status": "completed"
    },
    "tags": []
   },
   "source": [
    "#### Revisit Model 1: Random forest, lighly imbalanced data and 83 features"
   ]
  },
  {
   "cell_type": "code",
   "execution_count": 21,
   "id": "39f39ba6",
   "metadata": {
    "execution": {
     "iopub.execute_input": "2025-05-13T05:28:53.709744Z",
     "iopub.status.busy": "2025-05-13T05:28:53.709058Z",
     "iopub.status.idle": "2025-05-13T05:28:53.713968Z",
     "shell.execute_reply": "2025-05-13T05:28:53.713270Z"
    },
    "papermill": {
     "duration": 0.028113,
     "end_time": "2025-05-13T05:28:53.715272",
     "exception": false,
     "start_time": "2025-05-13T05:28:53.687159",
     "status": "completed"
    },
    "tags": []
   },
   "outputs": [
    {
     "name": "stdout",
     "output_type": "stream",
     "text": [
      "CPU times: user 3 µs, sys: 1e+03 ns, total: 4 µs\n",
      "Wall time: 7.63 µs\n"
     ]
    }
   ],
   "source": [
    "%%time\n",
    "#6min 24s\n",
    "#model_rf_1 = model_rf_selection(X_train, y_train, cv=5, scoring='accuracy', class_weight=False)"
   ]
  },
  {
   "cell_type": "code",
   "execution_count": 22,
   "id": "eeceaa85",
   "metadata": {
    "execution": {
     "iopub.execute_input": "2025-05-13T05:28:53.759648Z",
     "iopub.status.busy": "2025-05-13T05:28:53.759366Z",
     "iopub.status.idle": "2025-05-13T05:28:53.806606Z",
     "shell.execute_reply": "2025-05-13T05:28:53.805662Z"
    },
    "papermill": {
     "duration": 0.071303,
     "end_time": "2025-05-13T05:28:53.808269",
     "exception": false,
     "start_time": "2025-05-13T05:28:53.736966",
     "status": "completed"
    },
    "tags": []
   },
   "outputs": [],
   "source": [
    "# Save to file after fitting\n",
    "#dump(model_rf_1, 'model_rf_1.joblib')\n",
    "#model_rf_1.best_estimator_\n",
    "\n",
    "# Load it later when needed\n",
    "grid_loaded = load('/kaggle/input/task001-p03-ml-models/scikitlearn/default/1/model_rf_1.joblib')\n",
    "\n",
    "# Access best estimator\n",
    "model_rf_1 = grid_loaded.best_estimator_"
   ]
  },
  {
   "cell_type": "markdown",
   "id": "5a097983",
   "metadata": {
    "papermill": {
     "duration": 0.021058,
     "end_time": "2025-05-13T05:28:53.851283",
     "exception": false,
     "start_time": "2025-05-13T05:28:53.830225",
     "status": "completed"
    },
    "tags": []
   },
   "source": [
    "<h4> When feature engineering is done, we usually tend to decrease the dimensionality by selecting the \"right\" number of features that capture the essential.\n",
    "In fact, feature selection comes with many benefits:\n",
    "<ul>\n",
    "    <li>It decreases redundancy among the data\n",
    "    <li>It speeds up the training process\n",
    "    <li>It reduces overfitting</ul>\n",
    "Tree-based estimators can be used to compute feature importances, which in turn can be used to discard irrelevant features.\n",
    "</h4>"
   ]
  },
  {
   "cell_type": "code",
   "execution_count": 23,
   "id": "cc0d9794",
   "metadata": {
    "execution": {
     "iopub.execute_input": "2025-05-13T05:28:53.904708Z",
     "iopub.status.busy": "2025-05-13T05:28:53.904415Z",
     "iopub.status.idle": "2025-05-13T05:28:53.912196Z",
     "shell.execute_reply": "2025-05-13T05:28:53.910777Z"
    },
    "papermill": {
     "duration": 0.037732,
     "end_time": "2025-05-13T05:28:53.913720",
     "exception": false,
     "start_time": "2025-05-13T05:28:53.875988",
     "status": "completed"
    },
    "tags": []
   },
   "outputs": [],
   "source": [
    "def train_and_predict(model, X_train, y_train, X_test, test_ids, cv=5, submission_name='submission.csv'):\n",
    "    \"\"\"\n",
    "    Trains the model, performs cross-validation, and makes predictions on the test set.\n",
    "\n",
    "    Parameters:\n",
    "    - model: Machine learning model with fit/predict methods\n",
    "    - X_train: Training features\n",
    "    - y_train: Training labels\n",
    "    - X_test: Test features\n",
    "    - test_ids: IDs for submission (e.g., PassengerId)\n",
    "    - cv: Number of cross-validation folds (default=5)\n",
    "    - submission_name: Filename for the CSV submission\n",
    "    \"\"\"\n",
    "    \n",
    "    # Step 1: Train the model\n",
    "    model.fit(X_train, y_train)\n",
    "    \n",
    "    # Step 2: Cross-validation\n",
    "    scores = cross_val_score(model, X_train, y_train, cv=cv)\n",
    "    print(\"Cross-validation scores:\", scores)\n",
    "    print(\"Mean cross-validation score:\", scores.mean())\n",
    "    \n",
    "    # Step 3: Retrain (optional here, just to match original process)\n",
    "    model.fit(X_train, y_train)\n",
    "    \n",
    "    # Step 4: Predict\n",
    "    y_pred = model.predict(X_test).astype(int)\n",
    "    \n",
    "    # Step 5: Create submission\n",
    "    submission = pd.DataFrame({\n",
    "        'PassengerId': test_ids,\n",
    "        'Survived': y_pred\n",
    "    })\n",
    "    \n",
    "    submission.to_csv(submission_name, index=False)\n",
    "    print(f\"Submission saved to {submission_name}\")"
   ]
  },
  {
   "cell_type": "code",
   "execution_count": 24,
   "id": "2b5f9956",
   "metadata": {
    "execution": {
     "iopub.execute_input": "2025-05-13T05:28:53.959623Z",
     "iopub.status.busy": "2025-05-13T05:28:53.959313Z",
     "iopub.status.idle": "2025-05-13T05:28:53.965985Z",
     "shell.execute_reply": "2025-05-13T05:28:53.965113Z"
    },
    "papermill": {
     "duration": 0.031017,
     "end_time": "2025-05-13T05:28:53.967412",
     "exception": false,
     "start_time": "2025-05-13T05:28:53.936395",
     "status": "completed"
    },
    "tags": []
   },
   "outputs": [],
   "source": [
    "def compute_metrics_df(models, X, y, cv):\n",
    "    \"\"\"\n",
    "    Computes cross-validated metrics for a list of models and returns a sorted DataFrame.\n",
    "    \n",
    "    Parameters:\n",
    "        models (list): List of tuples like [('Model Name', model_instance), ...]\n",
    "        X (pd.DataFrame): Feature data.\n",
    "        y (pd.Series or np.array): Target values.\n",
    "    \n",
    "    Returns:\n",
    "        pd.DataFrame: DataFrame of metrics sorted by Accuracy Mean.\n",
    "    \"\"\"\n",
    "    results = []\n",
    "\n",
    "    for name, model in models:\n",
    "        # Cross-validated accuracy scores\n",
    "        accuracy_scores = cross_val_score(model, X, y, cv=cv, scoring='accuracy')\n",
    "\n",
    "        # Cross-validated predictions and predicted probabilities\n",
    "        y_pred = cross_val_predict(model, X, y, cv=cv)\n",
    "        y_proba = cross_val_predict(model, X, y, cv=cv, method='predict_proba')[:, 1]\n",
    "\n",
    "        # Collect metrics\n",
    "        metrics = {\n",
    "            'Model': name,\n",
    "            'Accuracy Mean': np.mean(accuracy_scores),\n",
    "            'Accuracy Std': np.std(accuracy_scores),\n",
    "            'AUC': roc_auc_score(y, y_proba),\n",
    "            'F1 Score': f1_score(y, y_pred),\n",
    "            'Precision': precision_score(y, y_pred),\n",
    "            'Recall': recall_score(y, y_pred)\n",
    "        }\n",
    "        results.append(metrics)\n",
    "\n",
    "    # Convert to DataFrame and sort\n",
    "    metrics_df = pd.DataFrame(results)\n",
    "    metrics_df.sort_values(by='Accuracy Mean', ascending=False, inplace=True)\n",
    "    \n",
    "    return metrics_df"
   ]
  },
  {
   "cell_type": "code",
   "execution_count": 25,
   "id": "ff32ec11",
   "metadata": {
    "execution": {
     "iopub.execute_input": "2025-05-13T05:28:54.012624Z",
     "iopub.status.busy": "2025-05-13T05:28:54.012326Z",
     "iopub.status.idle": "2025-05-13T05:28:54.869179Z",
     "shell.execute_reply": "2025-05-13T05:28:54.868091Z"
    },
    "papermill": {
     "duration": 0.881188,
     "end_time": "2025-05-13T05:28:54.870712",
     "exception": false,
     "start_time": "2025-05-13T05:28:53.989524",
     "status": "completed"
    },
    "tags": []
   },
   "outputs": [
    {
     "name": "stdout",
     "output_type": "stream",
     "text": [
      "Cross-validation scores: [0.83798883 0.8258427  0.83707865 0.80898876 0.87640449]\n",
      "Mean cross-validation score: 0.8372606867114432\n",
      "Submission saved to submit_rf_1.csv\n",
      "CPU times: user 832 ms, sys: 6.87 ms, total: 838 ms\n",
      "Wall time: 852 ms\n"
     ]
    }
   ],
   "source": [
    "%%time\n",
    "#566 ms\n",
    "train_and_predict(\n",
    "    model=model_rf_1, # Tweak to find the best model and try other ml models\n",
    "    X_train=X_train, # Tweak the features (e.g. add feature engineering or drop feature(s), features importance )\n",
    "    y_train=y_train,\n",
    "    X_test=X_test, # follow the changes in X_train\n",
    "    test_ids=df[891:]['PassengerId'],\n",
    "    cv=5, # Tweak the cv\n",
    "    submission_name='submit_rf_1.csv'\n",
    ")"
   ]
  },
  {
   "cell_type": "code",
   "execution_count": 26,
   "id": "99fcb79f",
   "metadata": {
    "execution": {
     "iopub.execute_input": "2025-05-13T05:28:54.920586Z",
     "iopub.status.busy": "2025-05-13T05:28:54.920285Z",
     "iopub.status.idle": "2025-05-13T05:28:56.625546Z",
     "shell.execute_reply": "2025-05-13T05:28:56.624766Z"
    },
    "papermill": {
     "duration": 1.728979,
     "end_time": "2025-05-13T05:28:56.626777",
     "exception": false,
     "start_time": "2025-05-13T05:28:54.897798",
     "status": "completed"
    },
    "tags": []
   },
   "outputs": [
    {
     "data": {
      "text/html": [
       "<div>\n",
       "<style scoped>\n",
       "    .dataframe tbody tr th:only-of-type {\n",
       "        vertical-align: middle;\n",
       "    }\n",
       "\n",
       "    .dataframe tbody tr th {\n",
       "        vertical-align: top;\n",
       "    }\n",
       "\n",
       "    .dataframe thead th {\n",
       "        text-align: right;\n",
       "    }\n",
       "</style>\n",
       "<table border=\"1\" class=\"dataframe\">\n",
       "  <thead>\n",
       "    <tr style=\"text-align: right;\">\n",
       "      <th></th>\n",
       "      <th>Model</th>\n",
       "      <th>Accuracy Mean</th>\n",
       "      <th>Accuracy Std</th>\n",
       "      <th>AUC</th>\n",
       "      <th>F1 Score</th>\n",
       "      <th>Precision</th>\n",
       "      <th>Recall</th>\n",
       "    </tr>\n",
       "  </thead>\n",
       "  <tbody>\n",
       "    <tr>\n",
       "      <th>0</th>\n",
       "      <td>Random Forest</td>\n",
       "      <td>0.837261</td>\n",
       "      <td>0.022192</td>\n",
       "      <td>0.869862</td>\n",
       "      <td>0.778626</td>\n",
       "      <td>0.814696</td>\n",
       "      <td>0.745614</td>\n",
       "    </tr>\n",
       "  </tbody>\n",
       "</table>\n",
       "</div>"
      ],
      "text/plain": [
       "           Model  Accuracy Mean  Accuracy Std       AUC  F1 Score  Precision  \\\n",
       "0  Random Forest       0.837261      0.022192  0.869862  0.778626   0.814696   \n",
       "\n",
       "     Recall  \n",
       "0  0.745614  "
      ]
     },
     "execution_count": 26,
     "metadata": {},
     "output_type": "execute_result"
    }
   ],
   "source": [
    "# Define your model list\n",
    "models = [\n",
    "    ('Random Forest', model_rf_1),\n",
    "    # Add more models if needed\n",
    "]\n",
    "\n",
    "# Get the metrics DataFrame\n",
    "metrics_df = compute_metrics_df(models, X_train, y_train, cv=5)\n",
    "metrics_df"
   ]
  },
  {
   "cell_type": "markdown",
   "id": "a9784132",
   "metadata": {
    "papermill": {
     "duration": 0.021698,
     "end_time": "2025-05-13T05:28:56.670727",
     "exception": false,
     "start_time": "2025-05-13T05:28:56.649029",
     "status": "completed"
    },
    "tags": []
   },
   "source": [
    "#### Score at kaggle 78.5%"
   ]
  },
  {
   "cell_type": "markdown",
   "id": "ecd525f7",
   "metadata": {
    "papermill": {
     "duration": 0.022009,
     "end_time": "2025-05-13T05:28:56.714673",
     "exception": false,
     "start_time": "2025-05-13T05:28:56.692664",
     "status": "completed"
    },
    "tags": []
   },
   "source": [
    "## Feature Importance\n",
    "### Random Forest"
   ]
  },
  {
   "cell_type": "code",
   "execution_count": 27,
   "id": "2b9b95b4",
   "metadata": {
    "execution": {
     "iopub.execute_input": "2025-05-13T05:28:56.761039Z",
     "iopub.status.busy": "2025-05-13T05:28:56.760510Z",
     "iopub.status.idle": "2025-05-13T05:28:56.768764Z",
     "shell.execute_reply": "2025-05-13T05:28:56.767879Z"
    },
    "papermill": {
     "duration": 0.032638,
     "end_time": "2025-05-13T05:28:56.770053",
     "exception": false,
     "start_time": "2025-05-13T05:28:56.737415",
     "status": "completed"
    },
    "tags": []
   },
   "outputs": [],
   "source": [
    "def top_feature_importance_plot(model, X_train, top_n='pareto', classifier_step='classifier', figsize=(10, 8), save_path=None):\n",
    "    \"\"\"\n",
    "    Plot feature importances using either Pareto principle (80% cumulative) or top N features.\n",
    "\n",
    "    Parameters:\n",
    "    - model: fitted pipeline model (e.g., Pipeline with classifier step)\n",
    "    - X_train: training dataset used to retrieve feature names\n",
    "    - top_n: 'pareto' to use 80% cumulative importance, or integer for top N features\n",
    "    - classifier_step: name of the classifier step in pipeline (default: 'classifier')\n",
    "    - figsize: size of the plot\n",
    "    - save_path: if provided, saves the plot to the given file path\n",
    "    \"\"\"\n",
    "    # Get feature names\n",
    "    feature_names = X_train.columns if hasattr(X_train, 'columns') else [f'feature_{i}' for i in range(X_train.shape[1])]\n",
    "    \n",
    "    # Extract feature importances\n",
    "    importances = model.named_steps[classifier_step].feature_importances_\n",
    "    sorted_idx = np.argsort(importances)[::-1]  # descending order\n",
    "\n",
    "    if top_n == 'pareto':\n",
    "        # Compute cumulative importances\n",
    "        cum_importance = np.cumsum(importances[sorted_idx])\n",
    "        # Find cutoff for 80% cumulative importance\n",
    "        pareto_cutoff = np.argmax(cum_importance >= 0.8) + 1\n",
    "        selected_idx = sorted_idx[:pareto_cutoff]\n",
    "        title_suffix = 'Top Features (Pareto 80%)'\n",
    "    elif isinstance(top_n, int):\n",
    "        selected_idx = sorted_idx[:top_n]\n",
    "        title_suffix = f'Top {top_n} Features'\n",
    "    else:\n",
    "        raise ValueError(\"top_n must be an integer or 'pareto'\")\n",
    "\n",
    "    # Plot\n",
    "    plt.figure(figsize=figsize)\n",
    "    plt.barh(\n",
    "        [feature_names[i] for i in selected_idx][::-1],\n",
    "        importances[selected_idx][::-1],\n",
    "        color='skyblue'\n",
    "    )\n",
    "    plt.xlabel('Gini Importance', fontsize=12)\n",
    "    plt.title(f'Feature Importance - {title_suffix}', fontsize=14, pad=20)\n",
    "    plt.gca().invert_yaxis()\n",
    "    plt.grid(axis='x', linestyle='--', alpha=0.7)\n",
    "    plt.tight_layout()\n",
    "    \n",
    "    # Save or show\n",
    "    if save_path:\n",
    "        plt.savefig(save_path, dpi=300, bbox_inches='tight')\n",
    "    plt.show()"
   ]
  },
  {
   "cell_type": "code",
   "execution_count": 28,
   "id": "20215217",
   "metadata": {
    "execution": {
     "iopub.execute_input": "2025-05-13T05:28:56.817675Z",
     "iopub.status.busy": "2025-05-13T05:28:56.817384Z",
     "iopub.status.idle": "2025-05-13T05:28:56.824923Z",
     "shell.execute_reply": "2025-05-13T05:28:56.824069Z"
    },
    "papermill": {
     "duration": 0.031937,
     "end_time": "2025-05-13T05:28:56.826396",
     "exception": false,
     "start_time": "2025-05-13T05:28:56.794459",
     "status": "completed"
    },
    "tags": []
   },
   "outputs": [],
   "source": [
    "def reduce_features_with_importance(model, X_train, X_test, classifier_step='classifier', threshold='pareto'):\n",
    "    \"\"\"\n",
    "    Reduces features in X_train and X_test based on feature importances using:\n",
    "    - 'pareto' (default): top features that cumulatively contribute to 80% of total importance\n",
    "    - 'mean': selects features above the mean importance\n",
    "    - float: custom importance threshold\n",
    "\n",
    "    Parameters:\n",
    "    - model: fitted pipeline model (e.g., Pipeline with a classifier)\n",
    "    - X_train: training data (DataFrame or ndarray)\n",
    "    - X_test: test data (same structure as X_train)\n",
    "    - classifier_step: name of the classifier step in the pipeline\n",
    "    - threshold: 'pareto' (default), 'mean', float, or valid SelectFromModel threshold\n",
    "\n",
    "    Returns:\n",
    "    - X_train_reduced: training data with selected features\n",
    "    - X_test_reduced: test data with selected features\n",
    "    - selected_feature_names: list of retained feature names\n",
    "    \"\"\"\n",
    "    clf = model.named_steps[classifier_step]\n",
    "    importances = clf.feature_importances_\n",
    "\n",
    "    feature_names = (\n",
    "        X_train.columns if hasattr(X_train, 'columns')\n",
    "        else [f'feature_{i}' for i in range(X_train.shape[1])]\n",
    "    )\n",
    "\n",
    "    if threshold == 'pareto':\n",
    "        sorted_idx = np.argsort(importances)[::-1]\n",
    "        sorted_importances = importances[sorted_idx]\n",
    "        cumulative = np.cumsum(sorted_importances)\n",
    "        pareto_cutoff = np.argmax(cumulative >= 0.8) + 1\n",
    "        threshold_value = sorted_importances[pareto_cutoff - 1]\n",
    "        selector = SelectFromModel(clf, threshold=threshold_value, prefit=True)\n",
    "    else:\n",
    "        selector = SelectFromModel(clf, threshold=threshold, prefit=True)\n",
    "\n",
    "    # Transform the data\n",
    "    X_train_reduced = selector.transform(X_train)\n",
    "    X_test_reduced = selector.transform(X_test)\n",
    "\n",
    "    # Get selected feature names\n",
    "    selected_mask = selector.get_support()\n",
    "    selected_feature_names = [name for name, selected in zip(feature_names, selected_mask) if selected]\n",
    "\n",
    "    print(\"Reduced X_train shape:\", X_train_reduced.shape)\n",
    "    print(\"Reduced X_test shape:\", X_test_reduced.shape)\n",
    "\n",
    "    return X_train_reduced, X_test_reduced, selected_feature_names"
   ]
  },
  {
   "cell_type": "code",
   "execution_count": 29,
   "id": "986cb22c",
   "metadata": {
    "execution": {
     "iopub.execute_input": "2025-05-13T05:28:56.872162Z",
     "iopub.status.busy": "2025-05-13T05:28:56.871872Z",
     "iopub.status.idle": "2025-05-13T05:28:56.898162Z",
     "shell.execute_reply": "2025-05-13T05:28:56.897197Z"
    },
    "papermill": {
     "duration": 0.050218,
     "end_time": "2025-05-13T05:28:56.899484",
     "exception": false,
     "start_time": "2025-05-13T05:28:56.849266",
     "status": "completed"
    },
    "tags": []
   },
   "outputs": [
    {
     "name": "stdout",
     "output_type": "stream",
     "text": [
      "Reduced X_train shape: (891, 17)\n",
      "Reduced X_test shape: (418, 17)\n",
      "Selected Features: ['Age', 'SibSp', 'Parch', 'CabinCnt', 'Fare_log', 'Pclass_1', 'Pclass_2', 'Pclass_3', 'Sex_female', 'Sex_male', 'CabinGroup_U', 'Title_Master', 'Title_Miss', 'Title_Mr', 'Title_Mrs', 'FamilyGroup_Large Family', 'FamilyGroup_Small Family']\n"
     ]
    },
    {
     "name": "stderr",
     "output_type": "stream",
     "text": [
      "X has feature names, but SelectFromModel was fitted without feature names\n",
      "X has feature names, but SelectFromModel was fitted without feature names\n"
     ]
    }
   ],
   "source": [
    "X_train_reduced_1, X_test_reduced_1, selected_features = reduce_features_with_importance(model_rf_1, X_train, X_test, \n",
    "                                                                                         classifier_step='classifier', \n",
    "                                                                                         threshold='mean')\n",
    "print(\"Selected Features:\", selected_features)"
   ]
  },
  {
   "cell_type": "markdown",
   "id": "46f80787",
   "metadata": {
    "papermill": {
     "duration": 0.022151,
     "end_time": "2025-05-13T05:28:56.944238",
     "exception": false,
     "start_time": "2025-05-13T05:28:56.922087",
     "status": "completed"
    },
    "tags": []
   },
   "source": [
    "#### Revisit Model 4: Random forest, lightly imbalanced data and 17 features"
   ]
  },
  {
   "cell_type": "code",
   "execution_count": 30,
   "id": "ae251e22",
   "metadata": {
    "execution": {
     "iopub.execute_input": "2025-05-13T05:28:56.989595Z",
     "iopub.status.busy": "2025-05-13T05:28:56.989047Z",
     "iopub.status.idle": "2025-05-13T05:28:56.993920Z",
     "shell.execute_reply": "2025-05-13T05:28:56.993065Z"
    },
    "papermill": {
     "duration": 0.02927,
     "end_time": "2025-05-13T05:28:56.995383",
     "exception": false,
     "start_time": "2025-05-13T05:28:56.966113",
     "status": "completed"
    },
    "tags": []
   },
   "outputs": [
    {
     "name": "stdout",
     "output_type": "stream",
     "text": [
      "CPU times: user 3 µs, sys: 0 ns, total: 3 µs\n",
      "Wall time: 7.63 µs\n"
     ]
    }
   ],
   "source": [
    "%%time\n",
    "#5min 51s\n",
    "#model_rf_3 = model_rf_selection(X_train_reduced_1, y_train, cv=5, scoring='accuracy', class_weight=False)"
   ]
  },
  {
   "cell_type": "code",
   "execution_count": 31,
   "id": "09c62989",
   "metadata": {
    "execution": {
     "iopub.execute_input": "2025-05-13T05:28:57.041738Z",
     "iopub.status.busy": "2025-05-13T05:28:57.041008Z",
     "iopub.status.idle": "2025-05-13T05:28:57.095812Z",
     "shell.execute_reply": "2025-05-13T05:28:57.094854Z"
    },
    "papermill": {
     "duration": 0.079776,
     "end_time": "2025-05-13T05:28:57.097463",
     "exception": false,
     "start_time": "2025-05-13T05:28:57.017687",
     "status": "completed"
    },
    "tags": []
   },
   "outputs": [],
   "source": [
    "# Save to file after fitting\n",
    "#dump(model_rf_3, 'model_rf_3.joblib')\n",
    "#model_rf_3.best_estimator_\n",
    "\n",
    "# Load it later when needed\n",
    "grid_loaded = load('/kaggle/input/task001-p03-ml-models/scikitlearn/default/1/model_rf_3.joblib')\n",
    "\n",
    "# Access best estimator\n",
    "model_rf_3 = grid_loaded.best_estimator_"
   ]
  },
  {
   "cell_type": "code",
   "execution_count": 32,
   "id": "32a3af97",
   "metadata": {
    "execution": {
     "iopub.execute_input": "2025-05-13T05:28:57.144233Z",
     "iopub.status.busy": "2025-05-13T05:28:57.143690Z",
     "iopub.status.idle": "2025-05-13T05:28:58.558008Z",
     "shell.execute_reply": "2025-05-13T05:28:58.556988Z"
    },
    "papermill": {
     "duration": 1.439656,
     "end_time": "2025-05-13T05:28:58.559604",
     "exception": false,
     "start_time": "2025-05-13T05:28:57.119948",
     "status": "completed"
    },
    "tags": []
   },
   "outputs": [
    {
     "name": "stdout",
     "output_type": "stream",
     "text": [
      "Cross-validation scores: [0.8547486  0.82022472 0.8258427  0.81460674 0.85955056]\n",
      "Mean cross-validation score: 0.8349946644906158\n",
      "Submission saved to submit_rf_3.csv\n",
      "CPU times: user 1.4 s, sys: 6.7 ms, total: 1.41 s\n",
      "Wall time: 1.41 s\n"
     ]
    }
   ],
   "source": [
    "%%time\n",
    "#1.5s\n",
    "train_and_predict(\n",
    "    model=model_rf_3, # Tweak to find the best model and try other ml models\n",
    "    X_train=X_train_reduced_1, # Tweak the features (e.g. add feature engineering or drop feature(s), features importance )\n",
    "    y_train=y_train,\n",
    "    X_test=X_test_reduced_1, # follow the changes in X_train\n",
    "    test_ids=df[891:]['PassengerId'],\n",
    "    cv=5, # Tweak the cv\n",
    "    submission_name='submit_rf_3.csv'\n",
    ")"
   ]
  },
  {
   "cell_type": "markdown",
   "id": "6c1df3fc",
   "metadata": {
    "papermill": {
     "duration": 0.025751,
     "end_time": "2025-05-13T05:28:58.608729",
     "exception": false,
     "start_time": "2025-05-13T05:28:58.582978",
     "status": "completed"
    },
    "tags": []
   },
   "source": [
    "#### Score at kaggle 79,2%"
   ]
  },
  {
   "cell_type": "markdown",
   "id": "fe4fde4b",
   "metadata": {
    "papermill": {
     "duration": 0.022013,
     "end_time": "2025-05-13T05:28:58.652832",
     "exception": false,
     "start_time": "2025-05-13T05:28:58.630819",
     "status": "completed"
    },
    "tags": []
   },
   "source": [
    "#### Continue to model 10: Random forest, lightly imbalanced data, reduced treshold to pareto"
   ]
  },
  {
   "cell_type": "code",
   "execution_count": 33,
   "id": "8c78d8ac",
   "metadata": {
    "execution": {
     "iopub.execute_input": "2025-05-13T05:28:58.709004Z",
     "iopub.status.busy": "2025-05-13T05:28:58.708519Z",
     "iopub.status.idle": "2025-05-13T05:28:58.738881Z",
     "shell.execute_reply": "2025-05-13T05:28:58.738014Z"
    },
    "papermill": {
     "duration": 0.065575,
     "end_time": "2025-05-13T05:28:58.740689",
     "exception": false,
     "start_time": "2025-05-13T05:28:58.675114",
     "status": "completed"
    },
    "tags": []
   },
   "outputs": [
    {
     "name": "stdout",
     "output_type": "stream",
     "text": [
      "Reduced X_train shape: (891, 13)\n",
      "Reduced X_test shape: (418, 13)\n",
      "Selected Features: ['Age', 'CabinCnt', 'Fare_log', 'Pclass_1', 'Pclass_3', 'Sex_female', 'Sex_male', 'CabinGroup_U', 'Title_Miss', 'Title_Mr', 'Title_Mrs', 'FamilyGroup_Large Family', 'FamilyGroup_Small Family']\n"
     ]
    },
    {
     "name": "stderr",
     "output_type": "stream",
     "text": [
      "X has feature names, but SelectFromModel was fitted without feature names\n",
      "X has feature names, but SelectFromModel was fitted without feature names\n"
     ]
    }
   ],
   "source": [
    "X_train_reduced_5, X_test_reduced_5, selected_features_5 = reduce_features_with_importance(model_rf_1, X_train, X_test, \n",
    "                                                                                         classifier_step='classifier', \n",
    "                                                                                         threshold='pareto')\n",
    "print(\"Selected Features:\", selected_features_5)"
   ]
  },
  {
   "cell_type": "code",
   "execution_count": 34,
   "id": "0cc4403f",
   "metadata": {
    "execution": {
     "iopub.execute_input": "2025-05-13T05:28:58.789861Z",
     "iopub.status.busy": "2025-05-13T05:28:58.789566Z",
     "iopub.status.idle": "2025-05-13T05:28:58.794811Z",
     "shell.execute_reply": "2025-05-13T05:28:58.793891Z"
    },
    "papermill": {
     "duration": 0.032063,
     "end_time": "2025-05-13T05:28:58.796085",
     "exception": false,
     "start_time": "2025-05-13T05:28:58.764022",
     "status": "completed"
    },
    "tags": []
   },
   "outputs": [
    {
     "name": "stdout",
     "output_type": "stream",
     "text": [
      "CPU times: user 3 µs, sys: 1e+03 ns, total: 4 µs\n",
      "Wall time: 6.91 µs\n"
     ]
    }
   ],
   "source": [
    "%%time\n",
    "#5min 51s\n",
    "#model_rf_10 = model_rf_selection(X_train_reduced_5, y_train, cv=5, scoring='accuracy', class_weight=False)"
   ]
  },
  {
   "cell_type": "code",
   "execution_count": 35,
   "id": "c72de8a1",
   "metadata": {
    "execution": {
     "iopub.execute_input": "2025-05-13T05:28:58.847778Z",
     "iopub.status.busy": "2025-05-13T05:28:58.847462Z",
     "iopub.status.idle": "2025-05-13T05:28:58.940328Z",
     "shell.execute_reply": "2025-05-13T05:28:58.939230Z"
    },
    "papermill": {
     "duration": 0.123584,
     "end_time": "2025-05-13T05:28:58.942439",
     "exception": false,
     "start_time": "2025-05-13T05:28:58.818855",
     "status": "completed"
    },
    "tags": []
   },
   "outputs": [],
   "source": [
    "# Save to file after fitting\n",
    "#dump(model_rf_10, 'model_rf_10.joblib')\n",
    "#model_rf_10.best_estimator_\n",
    "\n",
    "# Load it later when needed\n",
    "grid_loaded = load('/kaggle/input/task001-p03-ml-models/scikitlearn/default/1/model_rf_10.joblib')\n",
    "\n",
    "# Access best estimator\n",
    "model_rf_10 = grid_loaded.best_estimator_"
   ]
  },
  {
   "cell_type": "code",
   "execution_count": 36,
   "id": "fc1df2b8",
   "metadata": {
    "execution": {
     "iopub.execute_input": "2025-05-13T05:28:58.993200Z",
     "iopub.status.busy": "2025-05-13T05:28:58.992891Z",
     "iopub.status.idle": "2025-05-13T05:29:00.415601Z",
     "shell.execute_reply": "2025-05-13T05:29:00.414667Z"
    },
    "papermill": {
     "duration": 1.44814,
     "end_time": "2025-05-13T05:29:00.417061",
     "exception": false,
     "start_time": "2025-05-13T05:28:58.968921",
     "status": "completed"
    },
    "tags": []
   },
   "outputs": [
    {
     "name": "stdout",
     "output_type": "stream",
     "text": [
      "Cross-validation scores: [0.83240223 0.80898876 0.86516854 0.79775281 0.87078652]\n",
      "Mean cross-validation score: 0.835019772770071\n",
      "Submission saved to submit_rf_10.csv\n",
      "CPU times: user 1.42 s, sys: 2.2 ms, total: 1.42 s\n",
      "Wall time: 1.42 s\n"
     ]
    }
   ],
   "source": [
    "%%time\n",
    "#1.5s\n",
    "train_and_predict(\n",
    "    model=model_rf_10, # Tweak to find the best model and try other ml models\n",
    "    X_train=X_train_reduced_5, # Tweak the features (e.g. add feature engineering or drop feature(s), features importance )\n",
    "    y_train=y_train,\n",
    "    X_test=X_test_reduced_5, # follow the changes in X_train\n",
    "    test_ids=df[891:]['PassengerId'],\n",
    "    cv=5, # Tweak the cv\n",
    "    submission_name='submit_rf_10.csv'\n",
    ")"
   ]
  },
  {
   "cell_type": "markdown",
   "id": "4472ac57",
   "metadata": {
    "papermill": {
     "duration": 0.022,
     "end_time": "2025-05-13T05:29:00.461643",
     "exception": false,
     "start_time": "2025-05-13T05:29:00.439643",
     "status": "completed"
    },
    "tags": []
   },
   "source": [
    "#### Score at kaggle 77.3%"
   ]
  },
  {
   "cell_type": "markdown",
   "id": "be6f138b",
   "metadata": {
    "papermill": {
     "duration": 0.022162,
     "end_time": "2025-05-13T05:29:00.506711",
     "exception": false,
     "start_time": "2025-05-13T05:29:00.484549",
     "status": "completed"
    },
    "tags": []
   },
   "source": [
    "#### Model 11: Random forest, lightly imbalanced data, reduced treshold to 0.0075 21 Features"
   ]
  },
  {
   "cell_type": "code",
   "execution_count": 37,
   "id": "b3a84c1d",
   "metadata": {
    "execution": {
     "iopub.execute_input": "2025-05-13T05:29:00.553114Z",
     "iopub.status.busy": "2025-05-13T05:29:00.552461Z",
     "iopub.status.idle": "2025-05-13T05:29:00.575605Z",
     "shell.execute_reply": "2025-05-13T05:29:00.574692Z"
    },
    "papermill": {
     "duration": 0.047552,
     "end_time": "2025-05-13T05:29:00.576871",
     "exception": false,
     "start_time": "2025-05-13T05:29:00.529319",
     "status": "completed"
    },
    "tags": []
   },
   "outputs": [
    {
     "name": "stdout",
     "output_type": "stream",
     "text": [
      "Reduced X_train shape: (891, 21)\n",
      "Reduced X_test shape: (418, 21)\n",
      "Selected Features: ['Age', 'SibSp', 'Parch', 'CabinCnt', 'Fare_log', 'Pclass_1', 'Pclass_2', 'Pclass_3', 'Sex_female', 'Sex_male', 'Embarked_C', 'Embarked_S', 'CabinGroup_U', 'Title_Master', 'Title_Miss', 'Title_Mr', 'Title_Mrs', 'FamilyGroup_Large Family', 'FamilyGroup_Small Family', 'FamilySize_1', 'FamilySize_3']\n"
     ]
    },
    {
     "name": "stderr",
     "output_type": "stream",
     "text": [
      "X has feature names, but SelectFromModel was fitted without feature names\n",
      "X has feature names, but SelectFromModel was fitted without feature names\n"
     ]
    }
   ],
   "source": [
    "X_train_reduced_6, X_test_reduced_6, selected_features_6 = reduce_features_with_importance(model_rf_1, X_train, X_test, \n",
    "                                                                                         classifier_step='classifier', \n",
    "                                                                                         threshold=0.0075)\n",
    "print(\"Selected Features:\", selected_features_6)"
   ]
  },
  {
   "cell_type": "code",
   "execution_count": 38,
   "id": "08b19c01",
   "metadata": {
    "execution": {
     "iopub.execute_input": "2025-05-13T05:29:00.623515Z",
     "iopub.status.busy": "2025-05-13T05:29:00.622764Z",
     "iopub.status.idle": "2025-05-13T05:29:00.627581Z",
     "shell.execute_reply": "2025-05-13T05:29:00.626571Z"
    },
    "papermill": {
     "duration": 0.029191,
     "end_time": "2025-05-13T05:29:00.628824",
     "exception": false,
     "start_time": "2025-05-13T05:29:00.599633",
     "status": "completed"
    },
    "tags": []
   },
   "outputs": [
    {
     "name": "stdout",
     "output_type": "stream",
     "text": [
      "CPU times: user 4 µs, sys: 0 ns, total: 4 µs\n",
      "Wall time: 7.15 µs\n"
     ]
    }
   ],
   "source": [
    "%%time\n",
    "#5min 43s\n",
    "#model_rf_11 = model_rf_selection(X_train_reduced_6, y_train, cv=5, scoring='accuracy', class_weight=False)"
   ]
  },
  {
   "cell_type": "code",
   "execution_count": 39,
   "id": "3b5b7e41",
   "metadata": {
    "execution": {
     "iopub.execute_input": "2025-05-13T05:29:00.675711Z",
     "iopub.status.busy": "2025-05-13T05:29:00.675096Z",
     "iopub.status.idle": "2025-05-13T05:29:00.728783Z",
     "shell.execute_reply": "2025-05-13T05:29:00.728131Z"
    },
    "papermill": {
     "duration": 0.078858,
     "end_time": "2025-05-13T05:29:00.730274",
     "exception": false,
     "start_time": "2025-05-13T05:29:00.651416",
     "status": "completed"
    },
    "tags": []
   },
   "outputs": [],
   "source": [
    "# Save to file after fitting\n",
    "#dump(model_rf_11, 'model_rf_11.joblib')\n",
    "#model_rf_11.best_estimator_\n",
    "\n",
    "# Load it later when needed\n",
    "grid_loaded = load('/kaggle/input/task001-p03-ml-models/scikitlearn/default/1/model_rf_11.joblib')\n",
    "\n",
    "# Access best estimator\n",
    "model_rf_11 = grid_loaded.best_estimator_"
   ]
  },
  {
   "cell_type": "code",
   "execution_count": 40,
   "id": "7bba636c",
   "metadata": {
    "execution": {
     "iopub.execute_input": "2025-05-13T05:29:00.777460Z",
     "iopub.status.busy": "2025-05-13T05:29:00.776706Z",
     "iopub.status.idle": "2025-05-13T05:29:02.127967Z",
     "shell.execute_reply": "2025-05-13T05:29:02.127164Z"
    },
    "papermill": {
     "duration": 1.376542,
     "end_time": "2025-05-13T05:29:02.129586",
     "exception": false,
     "start_time": "2025-05-13T05:29:00.753044",
     "status": "completed"
    },
    "tags": []
   },
   "outputs": [
    {
     "name": "stdout",
     "output_type": "stream",
     "text": [
      "Cross-validation scores: [0.8603352  0.82022472 0.83146067 0.80898876 0.85393258]\n",
      "Mean cross-validation score: 0.8349883874207521\n",
      "Submission saved to submit_rf_11.csv\n",
      "CPU times: user 1.34 s, sys: 4.57 ms, total: 1.35 s\n",
      "Wall time: 1.35 s\n"
     ]
    }
   ],
   "source": [
    "%%time\n",
    "#1.5s\n",
    "train_and_predict(\n",
    "    model=model_rf_11, # Tweak to find the best model and try other ml models\n",
    "    X_train=X_train_reduced_6, # Tweak the features (e.g. add feature engineering or drop feature(s), features importance )\n",
    "    y_train=y_train,\n",
    "    X_test=X_test_reduced_6, # follow the changes in X_train\n",
    "    test_ids=df[891:]['PassengerId'],\n",
    "    cv=5, # Tweak the cv\n",
    "    submission_name='submit_rf_11.csv'\n",
    ")"
   ]
  },
  {
   "cell_type": "markdown",
   "id": "ec6df255",
   "metadata": {
    "papermill": {
     "duration": 0.02208,
     "end_time": "2025-05-13T05:29:02.175452",
     "exception": false,
     "start_time": "2025-05-13T05:29:02.153372",
     "status": "completed"
    },
    "tags": []
   },
   "source": [
    "#### Score at kaggle 77.9%\n",
    "\n",
    "#### "
   ]
  },
  {
   "cell_type": "markdown",
   "id": "5aa73907",
   "metadata": {
    "papermill": {
     "duration": 0.022553,
     "end_time": "2025-05-13T05:29:02.220923",
     "exception": false,
     "start_time": "2025-05-13T05:29:02.198370",
     "status": "completed"
    },
    "tags": []
   },
   "source": [
    "#### Model 12: Random Forest with Hyperparameter tuning model_rf_3"
   ]
  },
  {
   "cell_type": "code",
   "execution_count": 41,
   "id": "b68328dd",
   "metadata": {
    "execution": {
     "iopub.execute_input": "2025-05-13T05:29:02.267416Z",
     "iopub.status.busy": "2025-05-13T05:29:02.266876Z",
     "iopub.status.idle": "2025-05-13T05:29:02.271567Z",
     "shell.execute_reply": "2025-05-13T05:29:02.270910Z"
    },
    "papermill": {
     "duration": 0.028962,
     "end_time": "2025-05-13T05:29:02.272706",
     "exception": false,
     "start_time": "2025-05-13T05:29:02.243744",
     "status": "completed"
    },
    "tags": []
   },
   "outputs": [],
   "source": [
    "# Define the pipeline with fixed parameters\n",
    "model_rf_12 = Pipeline([\n",
    "    ('scaler', StandardScaler()),\n",
    "    ('classifier', RandomForestClassifier(\n",
    "        max_depth=4,\n",
    "        n_estimators=100,\n",
    "        max_features='sqrt',\n",
    "        min_samples_split=10,\n",
    "        min_samples_leaf=1,\n",
    "        bootstrap=True,\n",
    "        oob_score=True,\n",
    "        criterion='entropy',\n",
    "        random_state=42,\n",
    "        class_weight=None\n",
    "    ))\n",
    "])"
   ]
  },
  {
   "cell_type": "code",
   "execution_count": 42,
   "id": "ee103a0e",
   "metadata": {
    "execution": {
     "iopub.execute_input": "2025-05-13T05:29:02.319045Z",
     "iopub.status.busy": "2025-05-13T05:29:02.318733Z",
     "iopub.status.idle": "2025-05-13T05:29:03.666197Z",
     "shell.execute_reply": "2025-05-13T05:29:03.665275Z"
    },
    "papermill": {
     "duration": 1.372702,
     "end_time": "2025-05-13T05:29:03.667820",
     "exception": false,
     "start_time": "2025-05-13T05:29:02.295118",
     "status": "completed"
    },
    "tags": []
   },
   "outputs": [
    {
     "name": "stdout",
     "output_type": "stream",
     "text": [
      "Cross-validation scores: [0.83798883 0.82022472 0.82022472 0.80337079 0.85393258]\n",
      "Mean cross-validation score: 0.8271483271608814\n",
      "Submission saved to submit_rf_12.csv\n"
     ]
    }
   ],
   "source": [
    "# Call the function\n",
    "train_and_predict(\n",
    "    model=model_rf_12,\n",
    "    X_train=X_train_reduced_5,\n",
    "    y_train=y_train,\n",
    "    X_test=X_test_reduced_5,\n",
    "    test_ids=df[891:]['PassengerId'],\n",
    "    cv=5,\n",
    "    submission_name='submit_rf_12.csv'\n",
    ")"
   ]
  },
  {
   "cell_type": "markdown",
   "id": "3273c90f",
   "metadata": {
    "papermill": {
     "duration": 0.022755,
     "end_time": "2025-05-13T05:29:03.714589",
     "exception": false,
     "start_time": "2025-05-13T05:29:03.691834",
     "status": "completed"
    },
    "tags": []
   },
   "source": [
    "#### Kaggle score 77,9%"
   ]
  },
  {
   "cell_type": "code",
   "execution_count": 43,
   "id": "d502f7fb",
   "metadata": {
    "execution": {
     "iopub.execute_input": "2025-05-13T05:29:03.761425Z",
     "iopub.status.busy": "2025-05-13T05:29:03.760694Z",
     "iopub.status.idle": "2025-05-13T05:29:05.119381Z",
     "shell.execute_reply": "2025-05-13T05:29:05.118462Z"
    },
    "papermill": {
     "duration": 1.383836,
     "end_time": "2025-05-13T05:29:05.120803",
     "exception": false,
     "start_time": "2025-05-13T05:29:03.736967",
     "status": "completed"
    },
    "tags": []
   },
   "outputs": [
    {
     "name": "stdout",
     "output_type": "stream",
     "text": [
      "Cross-validation scores: [0.8547486  0.82022472 0.8258427  0.80898876 0.84831461]\n",
      "Mean cross-validation score: 0.8316238779737619\n",
      "Submission saved to submit_rf_13.csv\n"
     ]
    }
   ],
   "source": [
    "# Call the function\n",
    "train_and_predict(\n",
    "    model=model_rf_12,\n",
    "    X_train=X_train_reduced_6,\n",
    "    y_train=y_train,\n",
    "    X_test=X_test_reduced_6,\n",
    "    test_ids=df[891:]['PassengerId'],\n",
    "    cv=5,\n",
    "    submission_name='submit_rf_13.csv'\n",
    ")"
   ]
  },
  {
   "cell_type": "markdown",
   "id": "85ae24f1",
   "metadata": {
    "papermill": {
     "duration": 0.022155,
     "end_time": "2025-05-13T05:29:05.165993",
     "exception": false,
     "start_time": "2025-05-13T05:29:05.143838",
     "status": "completed"
    },
    "tags": []
   },
   "source": [
    "#### Kaggle score 77,9%"
   ]
  },
  {
   "cell_type": "code",
   "execution_count": 44,
   "id": "7d7dded1",
   "metadata": {
    "execution": {
     "iopub.execute_input": "2025-05-13T05:29:05.212751Z",
     "iopub.status.busy": "2025-05-13T05:29:05.211933Z",
     "iopub.status.idle": "2025-05-13T05:29:06.636934Z",
     "shell.execute_reply": "2025-05-13T05:29:06.636065Z"
    },
    "papermill": {
     "duration": 1.449711,
     "end_time": "2025-05-13T05:29:06.638413",
     "exception": false,
     "start_time": "2025-05-13T05:29:05.188702",
     "status": "completed"
    },
    "tags": []
   },
   "outputs": [
    {
     "name": "stdout",
     "output_type": "stream",
     "text": [
      "Cross-validation scores: [0.83240223 0.82022472 0.81460674 0.7752809  0.83146067]\n",
      "Mean cross-validation score: 0.8147950536689473\n",
      "Submission saved to submit_rf_14.csv\n"
     ]
    }
   ],
   "source": [
    "# Call the function\n",
    "train_and_predict(\n",
    "    model=model_rf_12,\n",
    "    X_train=X_train,\n",
    "    y_train=y_train,\n",
    "    X_test=X_test,\n",
    "    test_ids=df[891:]['PassengerId'],\n",
    "    cv=5,\n",
    "    submission_name='submit_rf_14.csv'\n",
    ")"
   ]
  },
  {
   "cell_type": "markdown",
   "id": "e4a13fa9",
   "metadata": {
    "papermill": {
     "duration": 0.022098,
     "end_time": "2025-05-13T05:29:06.683451",
     "exception": false,
     "start_time": "2025-05-13T05:29:06.661353",
     "status": "completed"
    },
    "tags": []
   },
   "source": [
    "#### Kaggle score 77,8%"
   ]
  },
  {
   "cell_type": "code",
   "execution_count": 45,
   "id": "8f96b1b2",
   "metadata": {
    "execution": {
     "iopub.execute_input": "2025-05-13T05:29:06.729602Z",
     "iopub.status.busy": "2025-05-13T05:29:06.729299Z",
     "iopub.status.idle": "2025-05-13T05:29:08.089876Z",
     "shell.execute_reply": "2025-05-13T05:29:08.089036Z"
    },
    "papermill": {
     "duration": 1.385372,
     "end_time": "2025-05-13T05:29:08.091365",
     "exception": false,
     "start_time": "2025-05-13T05:29:06.705993",
     "status": "completed"
    },
    "tags": []
   },
   "outputs": [
    {
     "name": "stdout",
     "output_type": "stream",
     "text": [
      "Cross-validation scores: [0.8547486  0.82022472 0.8258427  0.81460674 0.85955056]\n",
      "Mean cross-validation score: 0.8349946644906158\n",
      "Submission saved to submit_rf_15.csv\n"
     ]
    }
   ],
   "source": [
    "# Call the function\n",
    "train_and_predict(\n",
    "    model=model_rf_12,\n",
    "    X_train=X_train_reduced_1,\n",
    "    y_train=y_train,\n",
    "    X_test=X_test_reduced_1,\n",
    "    test_ids=df[891:]['PassengerId'],\n",
    "    cv=5,\n",
    "    submission_name='submit_rf_15.csv'\n",
    ")"
   ]
  },
  {
   "cell_type": "markdown",
   "id": "f5bb6c14",
   "metadata": {
    "papermill": {
     "duration": 0.022831,
     "end_time": "2025-05-13T05:29:08.137323",
     "exception": false,
     "start_time": "2025-05-13T05:29:08.114492",
     "status": "completed"
    },
    "tags": []
   },
   "source": [
    "We have accuracy of 85.91%, precision 81.4%"
   ]
  },
  {
   "cell_type": "markdown",
   "id": "b972fca8",
   "metadata": {
    "papermill": {
     "duration": 0.022639,
     "end_time": "2025-05-13T05:29:08.182477",
     "exception": false,
     "start_time": "2025-05-13T05:29:08.159838",
     "status": "completed"
    },
    "tags": []
   },
   "source": [
    "#### Kaggle score 79,2%"
   ]
  },
  {
   "cell_type": "markdown",
   "id": "5e3a289d",
   "metadata": {
    "papermill": {
     "duration": 0.02194,
     "end_time": "2025-05-13T05:29:08.227108",
     "exception": false,
     "start_time": "2025-05-13T05:29:08.205168",
     "status": "completed"
    },
    "tags": []
   },
   "source": [
    "#### Model 13: Random Forest with Hyperparameter tuning model_rf_3"
   ]
  },
  {
   "cell_type": "code",
   "execution_count": 46,
   "id": "db1c3266",
   "metadata": {
    "execution": {
     "iopub.execute_input": "2025-05-13T05:29:08.273329Z",
     "iopub.status.busy": "2025-05-13T05:29:08.272993Z",
     "iopub.status.idle": "2025-05-13T05:29:08.277699Z",
     "shell.execute_reply": "2025-05-13T05:29:08.276965Z"
    },
    "papermill": {
     "duration": 0.029393,
     "end_time": "2025-05-13T05:29:08.278966",
     "exception": false,
     "start_time": "2025-05-13T05:29:08.249573",
     "status": "completed"
    },
    "tags": []
   },
   "outputs": [],
   "source": [
    "# Define the pipeline with fixed parameters\n",
    "model_rf_13 = Pipeline([\n",
    "    ('scaler', StandardScaler()),\n",
    "    ('classifier', RandomForestClassifier(\n",
    "        max_depth=9,\n",
    "        n_estimators=200,\n",
    "        max_features='sqrt',\n",
    "        min_samples_split=40,\n",
    "        min_samples_leaf=1,\n",
    "        bootstrap=True,\n",
    "        oob_score=True,\n",
    "        criterion='gini',\n",
    "        random_state=42,\n",
    "        class_weight=None\n",
    "    ))\n",
    "])"
   ]
  },
  {
   "cell_type": "code",
   "execution_count": 47,
   "id": "91a6e4f7",
   "metadata": {
    "execution": {
     "iopub.execute_input": "2025-05-13T05:29:08.325257Z",
     "iopub.status.busy": "2025-05-13T05:29:08.324957Z",
     "iopub.status.idle": "2025-05-13T05:29:11.118989Z",
     "shell.execute_reply": "2025-05-13T05:29:11.118056Z"
    },
    "papermill": {
     "duration": 2.818401,
     "end_time": "2025-05-13T05:29:11.120373",
     "exception": false,
     "start_time": "2025-05-13T05:29:08.301972",
     "status": "completed"
    },
    "tags": []
   },
   "outputs": [
    {
     "name": "stdout",
     "output_type": "stream",
     "text": [
      "Cross-validation scores: [0.84916201 0.80898876 0.82022472 0.80337079 0.85955056]\n",
      "Mean cross-validation score: 0.8282593685267716\n",
      "Submission saved to submit_rf_16.csv\n"
     ]
    }
   ],
   "source": [
    "# Call the function\n",
    "train_and_predict(\n",
    "    model=model_rf_13,\n",
    "    X_train=X_train_reduced_1,\n",
    "    y_train=y_train,\n",
    "    X_test=X_test_reduced_1,\n",
    "    test_ids=df[891:]['PassengerId'],\n",
    "    cv=5,\n",
    "    submission_name='submit_rf_16.csv'\n",
    ")"
   ]
  },
  {
   "cell_type": "markdown",
   "id": "36ce41c6",
   "metadata": {
    "papermill": {
     "duration": 0.023079,
     "end_time": "2025-05-13T05:29:11.166443",
     "exception": false,
     "start_time": "2025-05-13T05:29:11.143364",
     "status": "completed"
    },
    "tags": []
   },
   "source": [
    "We have accuracy of 84.91%, precision 80.33%"
   ]
  },
  {
   "cell_type": "code",
   "execution_count": 48,
   "id": "54273a90",
   "metadata": {
    "execution": {
     "iopub.execute_input": "2025-05-13T05:29:11.213297Z",
     "iopub.status.busy": "2025-05-13T05:29:11.212663Z",
     "iopub.status.idle": "2025-05-13T05:29:14.068104Z",
     "shell.execute_reply": "2025-05-13T05:29:14.067267Z"
    },
    "papermill": {
     "duration": 2.880428,
     "end_time": "2025-05-13T05:29:14.069511",
     "exception": false,
     "start_time": "2025-05-13T05:29:11.189083",
     "status": "completed"
    },
    "tags": []
   },
   "outputs": [
    {
     "name": "stdout",
     "output_type": "stream",
     "text": [
      "Cross-validation scores: [0.82122905 0.82022472 0.83146067 0.80337079 0.85393258]\n",
      "Mean cross-validation score: 0.8260435628648548\n",
      "Submission saved to submit_rf_17.csv\n"
     ]
    }
   ],
   "source": [
    "# Call the function\n",
    "train_and_predict(\n",
    "    model=model_rf_13,\n",
    "    X_train=X_train,\n",
    "    y_train=y_train,\n",
    "    X_test=X_test,\n",
    "    test_ids=df[891:]['PassengerId'],\n",
    "    cv=5,\n",
    "    submission_name='submit_rf_17.csv'\n",
    ")"
   ]
  },
  {
   "cell_type": "markdown",
   "id": "90eb94d1",
   "metadata": {
    "papermill": {
     "duration": 0.022969,
     "end_time": "2025-05-13T05:29:14.116388",
     "exception": false,
     "start_time": "2025-05-13T05:29:14.093419",
     "status": "completed"
    },
    "tags": []
   },
   "source": [
    "#### Get the best RF param 79.4%\n",
    "#### Model 14: Random Forest with Hyperparameter tuning model_rf_3_1"
   ]
  },
  {
   "cell_type": "code",
   "execution_count": 49,
   "id": "a2baf27d",
   "metadata": {
    "execution": {
     "iopub.execute_input": "2025-05-13T05:29:14.164549Z",
     "iopub.status.busy": "2025-05-13T05:29:14.164246Z",
     "iopub.status.idle": "2025-05-13T05:29:14.225259Z",
     "shell.execute_reply": "2025-05-13T05:29:14.224566Z"
    },
    "papermill": {
     "duration": 0.086489,
     "end_time": "2025-05-13T05:29:14.226790",
     "exception": false,
     "start_time": "2025-05-13T05:29:14.140301",
     "status": "completed"
    },
    "tags": []
   },
   "outputs": [],
   "source": [
    "# Load it later when needed\n",
    "grid_loaded = load('/kaggle/input/best_rf_1/scikitlearn/default/11/model_rf_3_1.joblib')\n",
    "\n",
    "# Access best estimator\n",
    "model_rf_3_1 = grid_loaded.best_estimator_"
   ]
  },
  {
   "cell_type": "code",
   "execution_count": 50,
   "id": "5496a118",
   "metadata": {
    "execution": {
     "iopub.execute_input": "2025-05-13T05:29:14.274365Z",
     "iopub.status.busy": "2025-05-13T05:29:14.274059Z",
     "iopub.status.idle": "2025-05-13T05:29:14.278558Z",
     "shell.execute_reply": "2025-05-13T05:29:14.277945Z"
    },
    "papermill": {
     "duration": 0.029655,
     "end_time": "2025-05-13T05:29:14.279838",
     "exception": false,
     "start_time": "2025-05-13T05:29:14.250183",
     "status": "completed"
    },
    "tags": []
   },
   "outputs": [],
   "source": [
    "# Define the pipeline with fixed parameters\n",
    "model_rf_14 = Pipeline([\n",
    "    ('scaler', StandardScaler()),\n",
    "    ('classifier', RandomForestClassifier(\n",
    "        max_depth=6,\n",
    "        n_estimators=100,\n",
    "        max_features='sqrt',\n",
    "        min_samples_split=10,\n",
    "        min_samples_leaf=1,\n",
    "        bootstrap=True,\n",
    "        oob_score=True,\n",
    "        criterion='entropy',\n",
    "        random_state=42,\n",
    "        class_weight=None\n",
    "    ))\n",
    "])"
   ]
  },
  {
   "cell_type": "code",
   "execution_count": 51,
   "id": "f718d31d",
   "metadata": {
    "execution": {
     "iopub.execute_input": "2025-05-13T05:29:14.339124Z",
     "iopub.status.busy": "2025-05-13T05:29:14.338820Z",
     "iopub.status.idle": "2025-05-13T05:29:15.759461Z",
     "shell.execute_reply": "2025-05-13T05:29:15.758642Z"
    },
    "papermill": {
     "duration": 1.451394,
     "end_time": "2025-05-13T05:29:15.760876",
     "exception": false,
     "start_time": "2025-05-13T05:29:14.309482",
     "status": "completed"
    },
    "tags": []
   },
   "outputs": [
    {
     "name": "stdout",
     "output_type": "stream",
     "text": [
      "Cross-validation scores: [0.83798883 0.82022472 0.8258427  0.80337079 0.85955056]\n",
      "Mean cross-validation score: 0.8293955181721173\n",
      "Submission saved to submit_rf_18.csv\n"
     ]
    }
   ],
   "source": [
    "# Call the function\n",
    "train_and_predict(\n",
    "    model=model_rf_14,\n",
    "    X_train=X_train_reduced_1,\n",
    "    y_train=y_train,\n",
    "    X_test=X_test_reduced_1,\n",
    "    test_ids=df[891:]['PassengerId'],\n",
    "    cv=5,\n",
    "    submission_name='submit_rf_18.csv'\n",
    ")"
   ]
  },
  {
   "cell_type": "code",
   "execution_count": 52,
   "id": "629e8bf3",
   "metadata": {
    "execution": {
     "iopub.execute_input": "2025-05-13T05:29:15.809180Z",
     "iopub.status.busy": "2025-05-13T05:29:15.808870Z",
     "iopub.status.idle": "2025-05-13T05:29:15.813961Z",
     "shell.execute_reply": "2025-05-13T05:29:15.813336Z"
    },
    "papermill": {
     "duration": 0.030736,
     "end_time": "2025-05-13T05:29:15.815132",
     "exception": false,
     "start_time": "2025-05-13T05:29:15.784396",
     "status": "completed"
    },
    "tags": []
   },
   "outputs": [
    {
     "data": {
      "text/plain": [
       "(891, 17)"
      ]
     },
     "execution_count": 52,
     "metadata": {},
     "output_type": "execute_result"
    }
   ],
   "source": [
    "X_train_reduced_1.shape"
   ]
  },
  {
   "cell_type": "code",
   "execution_count": 53,
   "id": "7e163e62",
   "metadata": {
    "execution": {
     "iopub.execute_input": "2025-05-13T05:29:15.864316Z",
     "iopub.status.busy": "2025-05-13T05:29:15.863714Z",
     "iopub.status.idle": "2025-05-13T05:29:17.354433Z",
     "shell.execute_reply": "2025-05-13T05:29:17.353554Z"
    },
    "papermill": {
     "duration": 1.515822,
     "end_time": "2025-05-13T05:29:17.355718",
     "exception": false,
     "start_time": "2025-05-13T05:29:15.839896",
     "status": "completed"
    },
    "tags": []
   },
   "outputs": [
    {
     "name": "stdout",
     "output_type": "stream",
     "text": [
      "Cross-validation scores: [0.83798883 0.82022472 0.8258427  0.80898876 0.85955056]\n",
      "Mean cross-validation score: 0.8305191136777352\n",
      "Submission saved to submit_rf_19.csv\n"
     ]
    }
   ],
   "source": [
    "# Call the function\n",
    "train_and_predict(\n",
    "    model=model_rf_14,\n",
    "    X_train=X_train,\n",
    "    y_train=y_train,\n",
    "    X_test=X_test,\n",
    "    test_ids=df[891:]['PassengerId'],\n",
    "    cv=5,\n",
    "    submission_name='submit_rf_19.csv'\n",
    ")"
   ]
  },
  {
   "cell_type": "code",
   "execution_count": 54,
   "id": "acd62760",
   "metadata": {
    "execution": {
     "iopub.execute_input": "2025-05-13T05:29:17.404302Z",
     "iopub.status.busy": "2025-05-13T05:29:17.403591Z",
     "iopub.status.idle": "2025-05-13T05:29:17.408686Z",
     "shell.execute_reply": "2025-05-13T05:29:17.408007Z"
    },
    "papermill": {
     "duration": 0.03036,
     "end_time": "2025-05-13T05:29:17.409841",
     "exception": false,
     "start_time": "2025-05-13T05:29:17.379481",
     "status": "completed"
    },
    "tags": []
   },
   "outputs": [
    {
     "data": {
      "text/plain": [
       "(891, 83)"
      ]
     },
     "execution_count": 54,
     "metadata": {},
     "output_type": "execute_result"
    }
   ],
   "source": [
    "X_train.shape"
   ]
  },
  {
   "cell_type": "markdown",
   "id": "97d6dc10",
   "metadata": {
    "papermill": {
     "duration": 0.023499,
     "end_time": "2025-05-13T05:29:17.457378",
     "exception": false,
     "start_time": "2025-05-13T05:29:17.433879",
     "status": "completed"
    },
    "tags": []
   },
   "source": [
    "### X_train_1 drop 'Family_size'"
   ]
  },
  {
   "cell_type": "code",
   "execution_count": 55,
   "id": "209191a8",
   "metadata": {
    "execution": {
     "iopub.execute_input": "2025-05-13T05:29:17.507002Z",
     "iopub.status.busy": "2025-05-13T05:29:17.506485Z",
     "iopub.status.idle": "2025-05-13T05:29:17.524278Z",
     "shell.execute_reply": "2025-05-13T05:29:17.523387Z"
    },
    "papermill": {
     "duration": 0.044555,
     "end_time": "2025-05-13T05:29:17.525699",
     "exception": false,
     "start_time": "2025-05-13T05:29:17.481144",
     "status": "completed"
    },
    "tags": []
   },
   "outputs": [
    {
     "data": {
      "text/plain": [
       "(891,)"
      ]
     },
     "execution_count": 55,
     "metadata": {},
     "output_type": "execute_result"
    }
   ],
   "source": [
    "# Created dummy variablesfrom categories (also can use OneHotEncoder)\n",
    "df_dummies = pd.get_dummies(df[['Pclass', 'Sex', 'Age', 'SibSp',\n",
    "       'Parch', 'Embarked', 'train_set',\n",
    "       'CabinGroup', 'CabinCnt', 'Fare_log', 'Title',\n",
    "       'TicketGroup', 'FamilyGroup']])\n",
    "\n",
    "X_train_1 = df_dummies[df_dummies.train_set == 1].drop(['train_set'],axis=1)\n",
    "X_test_1 = df_dummies[df_dummies.train_set == 0].drop(['train_set'], axis=1)\n",
    "\n",
    "y_train = df[df.train_set==1].Survived\n",
    "y_train.shape"
   ]
  },
  {
   "cell_type": "code",
   "execution_count": 56,
   "id": "157ff02f",
   "metadata": {
    "execution": {
     "iopub.execute_input": "2025-05-13T05:29:17.574039Z",
     "iopub.status.busy": "2025-05-13T05:29:17.573763Z",
     "iopub.status.idle": "2025-05-13T05:29:17.578630Z",
     "shell.execute_reply": "2025-05-13T05:29:17.577996Z"
    },
    "papermill": {
     "duration": 0.030546,
     "end_time": "2025-05-13T05:29:17.579854",
     "exception": false,
     "start_time": "2025-05-13T05:29:17.549308",
     "status": "completed"
    },
    "tags": []
   },
   "outputs": [
    {
     "data": {
      "text/plain": [
       "(891, 74)"
      ]
     },
     "execution_count": 56,
     "metadata": {},
     "output_type": "execute_result"
    }
   ],
   "source": [
    "X_train_1.shape"
   ]
  },
  {
   "cell_type": "code",
   "execution_count": 57,
   "id": "f1fed6cc",
   "metadata": {
    "execution": {
     "iopub.execute_input": "2025-05-13T05:29:17.629284Z",
     "iopub.status.busy": "2025-05-13T05:29:17.628964Z",
     "iopub.status.idle": "2025-05-13T05:29:19.129840Z",
     "shell.execute_reply": "2025-05-13T05:29:19.128839Z"
    },
    "papermill": {
     "duration": 1.527564,
     "end_time": "2025-05-13T05:29:19.131285",
     "exception": false,
     "start_time": "2025-05-13T05:29:17.603721",
     "status": "completed"
    },
    "tags": []
   },
   "outputs": [
    {
     "name": "stdout",
     "output_type": "stream",
     "text": [
      "Cross-validation scores: [0.84916201 0.82022472 0.83707865 0.80898876 0.85955056]\n",
      "Mean cross-validation score: 0.8350009415604795\n",
      "Submission saved to submit_rf_20.csv\n"
     ]
    }
   ],
   "source": [
    "# Call the function\n",
    "train_and_predict(\n",
    "    model=model_rf_14,\n",
    "    X_train=X_train_1,\n",
    "    y_train=y_train,\n",
    "    X_test=X_test_1,\n",
    "    test_ids=df[891:]['PassengerId'],\n",
    "    cv=5,\n",
    "    submission_name='submit_rf_20.csv'\n",
    ")"
   ]
  },
  {
   "cell_type": "markdown",
   "id": "92693310",
   "metadata": {
    "papermill": {
     "duration": 0.025934,
     "end_time": "2025-05-13T05:29:19.181962",
     "exception": false,
     "start_time": "2025-05-13T05:29:19.156028",
     "status": "completed"
    },
    "tags": []
   },
   "source": [
    "We have accuracy of 84.91%, precision 80.89%"
   ]
  },
  {
   "cell_type": "markdown",
   "id": "000d7f3d",
   "metadata": {
    "papermill": {
     "duration": 0.024386,
     "end_time": "2025-05-13T05:29:19.230839",
     "exception": false,
     "start_time": "2025-05-13T05:29:19.206453",
     "status": "completed"
    },
    "tags": []
   },
   "source": [
    "#### Model 15: Expand params"
   ]
  },
  {
   "cell_type": "code",
   "execution_count": 58,
   "id": "87332b2c",
   "metadata": {
    "execution": {
     "iopub.execute_input": "2025-05-13T05:29:19.279490Z",
     "iopub.status.busy": "2025-05-13T05:29:19.278845Z",
     "iopub.status.idle": "2025-05-13T05:29:19.283629Z",
     "shell.execute_reply": "2025-05-13T05:29:19.283003Z"
    },
    "papermill": {
     "duration": 0.030478,
     "end_time": "2025-05-13T05:29:19.284865",
     "exception": false,
     "start_time": "2025-05-13T05:29:19.254387",
     "status": "completed"
    },
    "tags": []
   },
   "outputs": [],
   "source": [
    "# Define the pipeline with fixed parameters\n",
    "model_rf_15 = Pipeline([\n",
    "    ('scaler', StandardScaler()),\n",
    "    ('classifier', RandomForestClassifier(\n",
    "        max_depth=9,\n",
    "        n_estimators=40,\n",
    "        max_features='sqrt',\n",
    "        min_samples_split=10,\n",
    "        max_leaf_nodes=None,\n",
    "        min_samples_leaf=3,\n",
    "        min_weight_fraction_leaf=0.0,\n",
    "        n_jobs=1,\n",
    "        verbose=0,\n",
    "        bootstrap=True,\n",
    "        oob_score=False,\n",
    "        criterion='gini',\n",
    "        random_state=42,\n",
    "        class_weight=None,\n",
    "        warm_start=False\n",
    "    ))\n",
    "])"
   ]
  },
  {
   "cell_type": "code",
   "execution_count": 59,
   "id": "700419eb",
   "metadata": {
    "execution": {
     "iopub.execute_input": "2025-05-13T05:29:19.334318Z",
     "iopub.status.busy": "2025-05-13T05:29:19.333706Z",
     "iopub.status.idle": "2025-05-13T05:29:19.854253Z",
     "shell.execute_reply": "2025-05-13T05:29:19.853272Z"
    },
    "papermill": {
     "duration": 0.546563,
     "end_time": "2025-05-13T05:29:19.855664",
     "exception": false,
     "start_time": "2025-05-13T05:29:19.309101",
     "status": "completed"
    },
    "tags": []
   },
   "outputs": [
    {
     "name": "stdout",
     "output_type": "stream",
     "text": [
      "Cross-validation scores: [0.82122905 0.80898876 0.84269663 0.79775281 0.85393258]\n",
      "Mean cross-validation score: 0.8249199673592367\n",
      "Submission saved to submit_rf_21.csv\n"
     ]
    }
   ],
   "source": [
    "# Call the function\n",
    "train_and_predict(\n",
    "    model=model_rf_15,\n",
    "    X_train=X_train_1,\n",
    "    y_train=y_train,\n",
    "    X_test=X_test_1,\n",
    "    test_ids=df[891:]['PassengerId'],\n",
    "    cv=5,\n",
    "    submission_name='submit_rf_21.csv'\n",
    ")"
   ]
  },
  {
   "cell_type": "code",
   "execution_count": 60,
   "id": "3cc6e440",
   "metadata": {
    "execution": {
     "iopub.execute_input": "2025-05-13T05:29:19.906978Z",
     "iopub.status.busy": "2025-05-13T05:29:19.906235Z",
     "iopub.status.idle": "2025-05-13T05:29:21.322521Z",
     "shell.execute_reply": "2025-05-13T05:29:21.321777Z"
    },
    "papermill": {
     "duration": 1.442715,
     "end_time": "2025-05-13T05:29:21.323686",
     "exception": false,
     "start_time": "2025-05-13T05:29:19.880971",
     "status": "completed"
    },
    "tags": []
   },
   "outputs": [
    {
     "name": "stdout",
     "output_type": "stream",
     "text": [
      "Cross-validation scores: [0.83798883 0.82022472 0.8258427  0.80337079 0.85955056]\n",
      "Mean cross-validation score: 0.8293955181721173\n",
      "Submission saved to submit_rf_22.csv\n"
     ]
    }
   ],
   "source": [
    "# Call the function\n",
    "train_and_predict(\n",
    "    model=model_rf_14,\n",
    "    X_train=X_train_reduced_1,\n",
    "    y_train=y_train,\n",
    "    X_test=X_test_reduced_1,\n",
    "    test_ids=df[891:]['PassengerId'],\n",
    "    cv=5,\n",
    "    submission_name='submit_rf_22.csv'\n",
    ")"
   ]
  },
  {
   "cell_type": "code",
   "execution_count": 61,
   "id": "61dd8bcf",
   "metadata": {
    "execution": {
     "iopub.execute_input": "2025-05-13T05:29:21.372184Z",
     "iopub.status.busy": "2025-05-13T05:29:21.371881Z",
     "iopub.status.idle": "2025-05-13T05:29:21.890350Z",
     "shell.execute_reply": "2025-05-13T05:29:21.889377Z"
    },
    "papermill": {
     "duration": 0.54437,
     "end_time": "2025-05-13T05:29:21.891828",
     "exception": false,
     "start_time": "2025-05-13T05:29:21.347458",
     "status": "completed"
    },
    "tags": []
   },
   "outputs": [
    {
     "name": "stdout",
     "output_type": "stream",
     "text": [
      "Cross-validation scores: [0.82122905 0.80898876 0.84269663 0.79775281 0.85393258]\n",
      "Mean cross-validation score: 0.8249199673592367\n",
      "Submission saved to submit_rf_23.csv\n"
     ]
    }
   ],
   "source": [
    "# Call the function\n",
    "train_and_predict(\n",
    "    model=model_rf_15,\n",
    "    X_train=X_train_1,\n",
    "    y_train=y_train,\n",
    "    X_test=X_test_1,\n",
    "    test_ids=df[891:]['PassengerId'],\n",
    "    cv=5,\n",
    "    submission_name='submit_rf_23.csv'\n",
    ")"
   ]
  },
  {
   "cell_type": "markdown",
   "id": "8f9667b8",
   "metadata": {
    "papermill": {
     "duration": 0.023402,
     "end_time": "2025-05-13T05:29:21.940051",
     "exception": false,
     "start_time": "2025-05-13T05:29:21.916649",
     "status": "completed"
    },
    "tags": []
   },
   "source": [
    "### The best base by far (Base 83 features, reduced 17 features, lightly imbalance) - 79.2%\n",
    "#### Model 12: Back to SVC"
   ]
  },
  {
   "cell_type": "code",
   "execution_count": 62,
   "id": "f565f89d",
   "metadata": {
    "execution": {
     "iopub.execute_input": "2025-05-13T05:29:21.990120Z",
     "iopub.status.busy": "2025-05-13T05:29:21.989828Z",
     "iopub.status.idle": "2025-05-13T05:29:21.997513Z",
     "shell.execute_reply": "2025-05-13T05:29:21.996660Z"
    },
    "papermill": {
     "duration": 0.034608,
     "end_time": "2025-05-13T05:29:21.999032",
     "exception": false,
     "start_time": "2025-05-13T05:29:21.964424",
     "status": "completed"
    },
    "tags": []
   },
   "outputs": [],
   "source": [
    "def model_svc_selection(X_train, y_train, cv=5, scoring='accuracy', class_weight=False):\n",
    "    \"\"\"\n",
    "    Performs hyperparameter tuning for SVC using GridSearchCV and displays ranked results.\n",
    "\n",
    "    Parameters:\n",
    "        X_train (pd.DataFrame): Training features.\n",
    "        y_train (pd.Series or np.array): Training target.\n",
    "        cv (int): Number of cross-validation folds (default is 5).\n",
    "        scoring (str): Scoring metric (default is 'accuracy').\n",
    "        class_weight (bool): Whether to apply class_weight='balanced' (default is False).\n",
    "\n",
    "    Returns:\n",
    "        GridSearchCV object (fitted)\n",
    "    \"\"\"\n",
    "    \n",
    "    # Set class_weight\n",
    "    class_weight = 'balanced' if class_weight else None\n",
    "\n",
    "    pipe_svc = Pipeline([\n",
    "        ('scaler', StandardScaler()),\n",
    "        ('classifier', SVC(class_weight=class_weight, random_state=42))\n",
    "    ])\n",
    "\n",
    "    param_grid = {\n",
    "        'classifier__C': [0.1, 1, 10, 100, 1000],\n",
    "        'classifier__kernel': ['rbf'],\n",
    "        'classifier__gamma': [0.0001, 0.001, 0.01, 0.1],\n",
    "        'classifier__shrinking': [True, False],\n",
    "        'classifier__tol': [1e-3, 1e-4]\n",
    "    }\n",
    "\n",
    "    grid_search = GridSearchCV(pipe_svc, param_grid, cv=cv, scoring=scoring, n_jobs=-1, return_train_score=True)\n",
    "    grid_search.fit(X_train, y_train)\n",
    "\n",
    "    print(\"Best Parameters:\", grid_search.best_params_)\n",
    "    print(f\"Best {scoring.capitalize()} Score: {grid_search.best_score_:.4f}\")\n",
    "\n",
    "    # Create a DataFrame to show rank and scores\n",
    "    results_df = pd.DataFrame(grid_search.cv_results_)\n",
    "    \n",
    "    # Use correct parameter names with 'param_' prefix\n",
    "    display_cols = ['rank_test_score', 'mean_test_score', 'mean_train_score'] + \\\n",
    "                   [f'param_{key}' for key in param_grid.keys()]\n",
    "    \n",
    "    results_df = results_df.sort_values('rank_test_score')[display_cols]\n",
    "    \n",
    "    print(\"\\nRanked Grid Search Results (Top 10):\")\n",
    "    display(results_df.head(10))\n",
    "    \n",
    "    return grid_search"
   ]
  },
  {
   "cell_type": "code",
   "execution_count": 63,
   "id": "be009a62",
   "metadata": {
    "execution": {
     "iopub.execute_input": "2025-05-13T05:29:22.048978Z",
     "iopub.status.busy": "2025-05-13T05:29:22.048449Z",
     "iopub.status.idle": "2025-05-13T05:29:45.898326Z",
     "shell.execute_reply": "2025-05-13T05:29:45.897096Z"
    },
    "papermill": {
     "duration": 23.876571,
     "end_time": "2025-05-13T05:29:45.899868",
     "exception": false,
     "start_time": "2025-05-13T05:29:22.023297",
     "status": "completed"
    },
    "tags": []
   },
   "outputs": [
    {
     "name": "stdout",
     "output_type": "stream",
     "text": [
      "Best Parameters: {'classifier__C': 10, 'classifier__gamma': 0.0001, 'classifier__kernel': 'rbf', 'classifier__shrinking': True, 'classifier__tol': 0.001}\n",
      "Best Accuracy Score: 0.8271\n",
      "\n",
      "Ranked Grid Search Results (Top 10):\n"
     ]
    },
    {
     "data": {
      "text/html": [
       "<div>\n",
       "<style scoped>\n",
       "    .dataframe tbody tr th:only-of-type {\n",
       "        vertical-align: middle;\n",
       "    }\n",
       "\n",
       "    .dataframe tbody tr th {\n",
       "        vertical-align: top;\n",
       "    }\n",
       "\n",
       "    .dataframe thead th {\n",
       "        text-align: right;\n",
       "    }\n",
       "</style>\n",
       "<table border=\"1\" class=\"dataframe\">\n",
       "  <thead>\n",
       "    <tr style=\"text-align: right;\">\n",
       "      <th></th>\n",
       "      <th>rank_test_score</th>\n",
       "      <th>mean_test_score</th>\n",
       "      <th>mean_train_score</th>\n",
       "      <th>param_classifier__C</th>\n",
       "      <th>param_classifier__kernel</th>\n",
       "      <th>param_classifier__gamma</th>\n",
       "      <th>param_classifier__shrinking</th>\n",
       "      <th>param_classifier__tol</th>\n",
       "    </tr>\n",
       "  </thead>\n",
       "  <tbody>\n",
       "    <tr>\n",
       "      <th>35</th>\n",
       "      <td>1</td>\n",
       "      <td>0.827136</td>\n",
       "      <td>0.835016</td>\n",
       "      <td>10</td>\n",
       "      <td>rbf</td>\n",
       "      <td>0.0001</td>\n",
       "      <td>False</td>\n",
       "      <td>0.0001</td>\n",
       "    </tr>\n",
       "    <tr>\n",
       "      <th>33</th>\n",
       "      <td>1</td>\n",
       "      <td>0.827136</td>\n",
       "      <td>0.835016</td>\n",
       "      <td>10</td>\n",
       "      <td>rbf</td>\n",
       "      <td>0.0001</td>\n",
       "      <td>True</td>\n",
       "      <td>0.0001</td>\n",
       "    </tr>\n",
       "    <tr>\n",
       "      <th>32</th>\n",
       "      <td>1</td>\n",
       "      <td>0.827136</td>\n",
       "      <td>0.835016</td>\n",
       "      <td>10</td>\n",
       "      <td>rbf</td>\n",
       "      <td>0.0001</td>\n",
       "      <td>True</td>\n",
       "      <td>0.001</td>\n",
       "    </tr>\n",
       "    <tr>\n",
       "      <th>34</th>\n",
       "      <td>1</td>\n",
       "      <td>0.827136</td>\n",
       "      <td>0.835016</td>\n",
       "      <td>10</td>\n",
       "      <td>rbf</td>\n",
       "      <td>0.0001</td>\n",
       "      <td>False</td>\n",
       "      <td>0.001</td>\n",
       "    </tr>\n",
       "    <tr>\n",
       "      <th>36</th>\n",
       "      <td>5</td>\n",
       "      <td>0.822673</td>\n",
       "      <td>0.845398</td>\n",
       "      <td>10</td>\n",
       "      <td>rbf</td>\n",
       "      <td>0.001</td>\n",
       "      <td>True</td>\n",
       "      <td>0.001</td>\n",
       "    </tr>\n",
       "    <tr>\n",
       "      <th>37</th>\n",
       "      <td>5</td>\n",
       "      <td>0.822673</td>\n",
       "      <td>0.845398</td>\n",
       "      <td>10</td>\n",
       "      <td>rbf</td>\n",
       "      <td>0.001</td>\n",
       "      <td>True</td>\n",
       "      <td>0.0001</td>\n",
       "    </tr>\n",
       "    <tr>\n",
       "      <th>38</th>\n",
       "      <td>5</td>\n",
       "      <td>0.822673</td>\n",
       "      <td>0.845398</td>\n",
       "      <td>10</td>\n",
       "      <td>rbf</td>\n",
       "      <td>0.001</td>\n",
       "      <td>False</td>\n",
       "      <td>0.001</td>\n",
       "    </tr>\n",
       "    <tr>\n",
       "      <th>39</th>\n",
       "      <td>5</td>\n",
       "      <td>0.822673</td>\n",
       "      <td>0.845398</td>\n",
       "      <td>10</td>\n",
       "      <td>rbf</td>\n",
       "      <td>0.001</td>\n",
       "      <td>False</td>\n",
       "      <td>0.0001</td>\n",
       "    </tr>\n",
       "    <tr>\n",
       "      <th>65</th>\n",
       "      <td>9</td>\n",
       "      <td>0.821562</td>\n",
       "      <td>0.847642</td>\n",
       "      <td>1000</td>\n",
       "      <td>rbf</td>\n",
       "      <td>0.0001</td>\n",
       "      <td>True</td>\n",
       "      <td>0.0001</td>\n",
       "    </tr>\n",
       "    <tr>\n",
       "      <th>67</th>\n",
       "      <td>9</td>\n",
       "      <td>0.821562</td>\n",
       "      <td>0.847642</td>\n",
       "      <td>1000</td>\n",
       "      <td>rbf</td>\n",
       "      <td>0.0001</td>\n",
       "      <td>False</td>\n",
       "      <td>0.0001</td>\n",
       "    </tr>\n",
       "  </tbody>\n",
       "</table>\n",
       "</div>"
      ],
      "text/plain": [
       "    rank_test_score  mean_test_score  mean_train_score param_classifier__C  \\\n",
       "35                1         0.827136          0.835016                  10   \n",
       "33                1         0.827136          0.835016                  10   \n",
       "32                1         0.827136          0.835016                  10   \n",
       "34                1         0.827136          0.835016                  10   \n",
       "36                5         0.822673          0.845398                  10   \n",
       "37                5         0.822673          0.845398                  10   \n",
       "38                5         0.822673          0.845398                  10   \n",
       "39                5         0.822673          0.845398                  10   \n",
       "65                9         0.821562          0.847642                1000   \n",
       "67                9         0.821562          0.847642                1000   \n",
       "\n",
       "   param_classifier__kernel param_classifier__gamma  \\\n",
       "35                      rbf                  0.0001   \n",
       "33                      rbf                  0.0001   \n",
       "32                      rbf                  0.0001   \n",
       "34                      rbf                  0.0001   \n",
       "36                      rbf                   0.001   \n",
       "37                      rbf                   0.001   \n",
       "38                      rbf                   0.001   \n",
       "39                      rbf                   0.001   \n",
       "65                      rbf                  0.0001   \n",
       "67                      rbf                  0.0001   \n",
       "\n",
       "   param_classifier__shrinking param_classifier__tol  \n",
       "35                       False                0.0001  \n",
       "33                        True                0.0001  \n",
       "32                        True                 0.001  \n",
       "34                       False                 0.001  \n",
       "36                        True                 0.001  \n",
       "37                        True                0.0001  \n",
       "38                       False                 0.001  \n",
       "39                       False                0.0001  \n",
       "65                        True                0.0001  \n",
       "67                       False                0.0001  "
      ]
     },
     "metadata": {},
     "output_type": "display_data"
    },
    {
     "name": "stdout",
     "output_type": "stream",
     "text": [
      "CPU times: user 1.08 s, sys: 211 ms, total: 1.29 s\n",
      "Wall time: 23.8 s\n"
     ]
    }
   ],
   "source": [
    "%%time\n",
    "#5min 51s\n",
    "model_svc_1 = model_svc_selection(X_train, y_train, cv=5, scoring='accuracy', class_weight=False)"
   ]
  },
  {
   "cell_type": "markdown",
   "id": "c1b1d427",
   "metadata": {
    "papermill": {
     "duration": 0.025909,
     "end_time": "2025-05-13T05:29:45.950401",
     "exception": false,
     "start_time": "2025-05-13T05:29:45.924492",
     "status": "completed"
    },
    "tags": []
   },
   "source": [
    "#### Model_svc_1: 83 Features (with 10, rbf, 0.0001, False, 0.0001)"
   ]
  },
  {
   "cell_type": "code",
   "execution_count": 64,
   "id": "52fa8a71",
   "metadata": {
    "execution": {
     "iopub.execute_input": "2025-05-13T05:29:46.001527Z",
     "iopub.status.busy": "2025-05-13T05:29:46.000694Z",
     "iopub.status.idle": "2025-05-13T05:29:46.005629Z",
     "shell.execute_reply": "2025-05-13T05:29:46.004975Z"
    },
    "papermill": {
     "duration": 0.031524,
     "end_time": "2025-05-13T05:29:46.006820",
     "exception": false,
     "start_time": "2025-05-13T05:29:45.975296",
     "status": "completed"
    },
    "tags": []
   },
   "outputs": [],
   "source": [
    "# Define the pipeline with fixed SVC parameters\n",
    "model_svc_1 = Pipeline([\n",
    "    ('scaler', StandardScaler()),\n",
    "    ('classifier', SVC(\n",
    "        C=10,\n",
    "        kernel='rbf',\n",
    "        gamma=0.0001,\n",
    "        shrinking=True,\n",
    "        tol=1e-4,\n",
    "        random_state=42\n",
    "    ))\n",
    "])"
   ]
  },
  {
   "cell_type": "code",
   "execution_count": 65,
   "id": "6b6b30ee",
   "metadata": {
    "execution": {
     "iopub.execute_input": "2025-05-13T05:29:46.056370Z",
     "iopub.status.busy": "2025-05-13T05:29:46.055744Z",
     "iopub.status.idle": "2025-05-13T05:29:46.362715Z",
     "shell.execute_reply": "2025-05-13T05:29:46.361825Z"
    },
    "papermill": {
     "duration": 0.332826,
     "end_time": "2025-05-13T05:29:46.363986",
     "exception": false,
     "start_time": "2025-05-13T05:29:46.031160",
     "status": "completed"
    },
    "tags": []
   },
   "outputs": [
    {
     "name": "stdout",
     "output_type": "stream",
     "text": [
      "Cross-validation scores: [0.84916201 0.82022472 0.82022472 0.79213483 0.85393258]\n",
      "Mean cross-validation score: 0.8271357730211537\n",
      "Submission saved to submit_svc_1.csv\n"
     ]
    }
   ],
   "source": [
    "# Call the function\n",
    "train_and_predict(\n",
    "    model=model_svc_1,\n",
    "    X_train=X_train,\n",
    "    y_train=y_train,\n",
    "    X_test=X_test,\n",
    "    test_ids=df[891:]['PassengerId'],\n",
    "    cv=5,\n",
    "    submission_name='submit_svc_1.csv'\n",
    ")"
   ]
  },
  {
   "cell_type": "markdown",
   "id": "5b3768bd",
   "metadata": {
    "papermill": {
     "duration": 0.025178,
     "end_time": "2025-05-13T05:29:46.413727",
     "exception": false,
     "start_time": "2025-05-13T05:29:46.388549",
     "status": "completed"
    },
    "tags": []
   },
   "source": [
    "Cross-validation scores: [0.84916201 0.82022472 0.82022472 0.79213483 0.85393258]\n",
    "Mean cross-validation score: 0.8271357730211537\n",
    "Submission saved to submit_svc_1.csv\n",
    "CPU times: user 313 ms, sys: 997 µs, total: 314 ms\n",
    "Wall time: 315 ms\n",
    "Kaggle score 76.1%"
   ]
  },
  {
   "cell_type": "markdown",
   "id": "c1c52d98",
   "metadata": {
    "papermill": {
     "duration": 0.024239,
     "end_time": "2025-05-13T05:29:46.462278",
     "exception": false,
     "start_time": "2025-05-13T05:29:46.438039",
     "status": "completed"
    },
    "tags": []
   },
   "source": [
    "#### We have accuracy of 84.91%, precision 79.21% has Kaggle score 76.1%"
   ]
  },
  {
   "cell_type": "code",
   "execution_count": 66,
   "id": "53f84292",
   "metadata": {
    "execution": {
     "iopub.execute_input": "2025-05-13T05:29:46.511583Z",
     "iopub.status.busy": "2025-05-13T05:29:46.511288Z",
     "iopub.status.idle": "2025-05-13T05:29:46.680993Z",
     "shell.execute_reply": "2025-05-13T05:29:46.680088Z"
    },
    "papermill": {
     "duration": 0.196103,
     "end_time": "2025-05-13T05:29:46.682427",
     "exception": false,
     "start_time": "2025-05-13T05:29:46.486324",
     "status": "completed"
    },
    "tags": []
   },
   "outputs": [
    {
     "name": "stdout",
     "output_type": "stream",
     "text": [
      "Cross-validation scores: [0.8547486  0.8258427  0.80898876 0.75280899 0.79775281]\n",
      "Mean cross-validation score: 0.8080283723557843\n",
      "Submission saved to submit_svc_2.csv\n"
     ]
    }
   ],
   "source": [
    "# Call the function\n",
    "train_and_predict(\n",
    "    model=model_svc_1,\n",
    "    X_train=X_train_reduced_1,\n",
    "    y_train=y_train,\n",
    "    X_test=X_test_reduced_1,\n",
    "    test_ids=df[891:]['PassengerId'],\n",
    "    cv=5,\n",
    "    submission_name='submit_svc_2.csv'\n",
    ")"
   ]
  },
  {
   "cell_type": "markdown",
   "id": "eddadf6a",
   "metadata": {
    "papermill": {
     "duration": 0.024051,
     "end_time": "2025-05-13T05:29:46.731320",
     "exception": false,
     "start_time": "2025-05-13T05:29:46.707269",
     "status": "completed"
    },
    "tags": []
   },
   "source": [
    "#### Kaggle score 77.5%"
   ]
  },
  {
   "cell_type": "markdown",
   "id": "639ee0f0",
   "metadata": {
    "papermill": {
     "duration": 0.02375,
     "end_time": "2025-05-13T05:29:46.779056",
     "exception": false,
     "start_time": "2025-05-13T05:29:46.755306",
     "status": "completed"
    },
    "tags": []
   },
   "source": [
    "#### Hyperparameter tuning 1"
   ]
  },
  {
   "cell_type": "code",
   "execution_count": 67,
   "id": "23ff4c6e",
   "metadata": {
    "execution": {
     "iopub.execute_input": "2025-05-13T05:29:46.829992Z",
     "iopub.status.busy": "2025-05-13T05:29:46.829687Z",
     "iopub.status.idle": "2025-05-13T05:29:46.834485Z",
     "shell.execute_reply": "2025-05-13T05:29:46.833767Z"
    },
    "papermill": {
     "duration": 0.032263,
     "end_time": "2025-05-13T05:29:46.835733",
     "exception": false,
     "start_time": "2025-05-13T05:29:46.803470",
     "status": "completed"
    },
    "tags": []
   },
   "outputs": [],
   "source": [
    "# Define the pipeline with fixed SVC parameters\n",
    "model_svc_2 = Pipeline([\n",
    "    ('scaler', StandardScaler()),\n",
    "    ('classifier', SVC(\n",
    "        C=1000, # Changed from svc_1\n",
    "        kernel='rbf',\n",
    "        gamma=0.0001,\n",
    "        shrinking=True,\n",
    "        tol=1e-4,\n",
    "        random_state=42\n",
    "    ))\n",
    "])"
   ]
  },
  {
   "cell_type": "code",
   "execution_count": 68,
   "id": "ebdc5641",
   "metadata": {
    "execution": {
     "iopub.execute_input": "2025-05-13T05:29:46.886905Z",
     "iopub.status.busy": "2025-05-13T05:29:46.886604Z",
     "iopub.status.idle": "2025-05-13T05:29:47.557810Z",
     "shell.execute_reply": "2025-05-13T05:29:47.556900Z"
    },
    "papermill": {
     "duration": 0.699137,
     "end_time": "2025-05-13T05:29:47.559310",
     "exception": false,
     "start_time": "2025-05-13T05:29:46.860173",
     "status": "completed"
    },
    "tags": []
   },
   "outputs": [
    {
     "name": "stdout",
     "output_type": "stream",
     "text": [
      "Cross-validation scores: [0.81005587 0.81460674 0.82022472 0.80898876 0.85393258]\n",
      "Mean cross-validation score: 0.8215617349821104\n",
      "Submission saved to submit_svc_3.csv\n"
     ]
    }
   ],
   "source": [
    "# Call the function\n",
    "train_and_predict(\n",
    "    model=model_svc_2,\n",
    "    X_train=X_train,\n",
    "    y_train=y_train,\n",
    "    X_test=X_test,\n",
    "    test_ids=df[891:]['PassengerId'],\n",
    "    cv=5,\n",
    "    submission_name='submit_svc_3.csv'\n",
    ")"
   ]
  },
  {
   "cell_type": "code",
   "execution_count": 69,
   "id": "79822164",
   "metadata": {
    "execution": {
     "iopub.execute_input": "2025-05-13T05:29:47.610643Z",
     "iopub.status.busy": "2025-05-13T05:29:47.610379Z",
     "iopub.status.idle": "2025-05-13T05:29:48.319406Z",
     "shell.execute_reply": "2025-05-13T05:29:48.318473Z"
    },
    "papermill": {
     "duration": 0.735954,
     "end_time": "2025-05-13T05:29:48.320848",
     "exception": false,
     "start_time": "2025-05-13T05:29:47.584894",
     "status": "completed"
    },
    "tags": []
   },
   "outputs": [
    {
     "name": "stdout",
     "output_type": "stream",
     "text": [
      "Cross-validation scores: [0.8547486  0.8258427  0.82022472 0.80898876 0.85393258]\n",
      "Mean cross-validation score: 0.8327474734793799\n",
      "Submission saved to submit_svc_4.csv\n"
     ]
    }
   ],
   "source": [
    "# Call the function\n",
    "train_and_predict(\n",
    "    model=model_svc_2,\n",
    "    X_train=X_train_reduced_1,\n",
    "    y_train=y_train,\n",
    "    X_test=X_test_reduced_1,\n",
    "    test_ids=df[891:]['PassengerId'],\n",
    "    cv=5,\n",
    "    submission_name='submit_svc_4.csv'\n",
    ")"
   ]
  },
  {
   "cell_type": "markdown",
   "id": "0863669f",
   "metadata": {
    "papermill": {
     "duration": 0.023919,
     "end_time": "2025-05-13T05:29:48.369970",
     "exception": false,
     "start_time": "2025-05-13T05:29:48.346051",
     "status": "completed"
    },
    "tags": []
   },
   "source": [
    "#### We have accuracy of 85.47%, precision 80.89%"
   ]
  },
  {
   "cell_type": "markdown",
   "id": "1f43b004",
   "metadata": {
    "papermill": {
     "duration": 0.023894,
     "end_time": "2025-05-13T05:29:48.418563",
     "exception": false,
     "start_time": "2025-05-13T05:29:48.394669",
     "status": "completed"
    },
    "tags": []
   },
   "source": [
    "#### Kaggle score 75.6%"
   ]
  },
  {
   "cell_type": "markdown",
   "id": "f67db79c",
   "metadata": {
    "papermill": {
     "duration": 0.02394,
     "end_time": "2025-05-13T05:29:48.466588",
     "exception": false,
     "start_time": "2025-05-13T05:29:48.442648",
     "status": "completed"
    },
    "tags": []
   },
   "source": [
    "### Grid search 2"
   ]
  },
  {
   "cell_type": "code",
   "execution_count": 70,
   "id": "b4dc78bd",
   "metadata": {
    "execution": {
     "iopub.execute_input": "2025-05-13T05:29:48.516586Z",
     "iopub.status.busy": "2025-05-13T05:29:48.516303Z",
     "iopub.status.idle": "2025-05-13T05:29:48.521008Z",
     "shell.execute_reply": "2025-05-13T05:29:48.520147Z"
    },
    "papermill": {
     "duration": 0.031471,
     "end_time": "2025-05-13T05:29:48.522325",
     "exception": false,
     "start_time": "2025-05-13T05:29:48.490854",
     "status": "completed"
    },
    "tags": []
   },
   "outputs": [],
   "source": [
    "# Define the pipeline with fixed SVC parameters\n",
    "model_svc_3 = Pipeline([\n",
    "    ('scaler', StandardScaler()),\n",
    "    ('classifier', SVC(\n",
    "        C=3, # Changed from svc_1\n",
    "        kernel='rbf',\n",
    "        gamma=0.0001,\n",
    "        shrinking=True,\n",
    "        tol=1e-4,\n",
    "        random_state=42\n",
    "    ))\n",
    "])"
   ]
  },
  {
   "cell_type": "code",
   "execution_count": 71,
   "id": "1a29ff1c",
   "metadata": {
    "execution": {
     "iopub.execute_input": "2025-05-13T05:29:48.575525Z",
     "iopub.status.busy": "2025-05-13T05:29:48.574771Z",
     "iopub.status.idle": "2025-05-13T05:29:48.781330Z",
     "shell.execute_reply": "2025-05-13T05:29:48.780353Z"
    },
    "papermill": {
     "duration": 0.234618,
     "end_time": "2025-05-13T05:29:48.782594",
     "exception": false,
     "start_time": "2025-05-13T05:29:48.547976",
     "status": "completed"
    },
    "tags": []
   },
   "outputs": [
    {
     "name": "stdout",
     "output_type": "stream",
     "text": [
      "Cross-validation scores: [0.81564246 0.81460674 0.80337079 0.7752809  0.81460674]\n",
      "Mean cross-validation score: 0.8047015253279769\n",
      "Submission saved to submit_svc_5.csv\n"
     ]
    }
   ],
   "source": [
    "# Call the function\n",
    "train_and_predict(\n",
    "    model=model_svc_3,\n",
    "    X_train=X_train_reduced_1,\n",
    "    y_train=y_train,\n",
    "    X_test=X_test_reduced_1,\n",
    "    test_ids=df[891:]['PassengerId'],\n",
    "    cv=5,\n",
    "    submission_name='submit_svc_5.csv'\n",
    ")"
   ]
  },
  {
   "cell_type": "code",
   "execution_count": 72,
   "id": "5d7bb0ab",
   "metadata": {
    "execution": {
     "iopub.execute_input": "2025-05-13T05:29:48.833786Z",
     "iopub.status.busy": "2025-05-13T05:29:48.833503Z",
     "iopub.status.idle": "2025-05-13T05:29:48.839656Z",
     "shell.execute_reply": "2025-05-13T05:29:48.838423Z"
    },
    "papermill": {
     "duration": 0.033399,
     "end_time": "2025-05-13T05:29:48.841314",
     "exception": false,
     "start_time": "2025-05-13T05:29:48.807915",
     "status": "completed"
    },
    "tags": []
   },
   "outputs": [],
   "source": [
    "# Define the pipeline with fixed SVC parameters\n",
    "model_svc_4 = Pipeline([\n",
    "    ('scaler', StandardScaler()),\n",
    "    ('classifier', SVC(\n",
    "        C=5, # Changed from svc_1\n",
    "        kernel='rbf',\n",
    "        gamma=0.01,\n",
    "        shrinking=True,\n",
    "        tol=1e-4,\n",
    "        random_state=42\n",
    "    ))\n",
    "])"
   ]
  },
  {
   "cell_type": "code",
   "execution_count": 73,
   "id": "51b809e0",
   "metadata": {
    "execution": {
     "iopub.execute_input": "2025-05-13T05:29:48.915016Z",
     "iopub.status.busy": "2025-05-13T05:29:48.914685Z",
     "iopub.status.idle": "2025-05-13T05:29:49.154660Z",
     "shell.execute_reply": "2025-05-13T05:29:49.153749Z"
    },
    "papermill": {
     "duration": 0.278088,
     "end_time": "2025-05-13T05:29:49.155948",
     "exception": false,
     "start_time": "2025-05-13T05:29:48.877860",
     "status": "completed"
    },
    "tags": []
   },
   "outputs": [
    {
     "name": "stdout",
     "output_type": "stream",
     "text": [
      "Cross-validation scores: [0.8547486  0.8258427  0.82022472 0.80337079 0.85955056]\n",
      "Mean cross-validation score: 0.8327474734793799\n",
      "Submission saved to submit_svc_6.csv\n"
     ]
    }
   ],
   "source": [
    "# Call the function\n",
    "train_and_predict(\n",
    "    model=model_svc_4,\n",
    "    X_train=X_train_reduced_1,\n",
    "    y_train=y_train,\n",
    "    X_test=X_test_reduced_1,\n",
    "    test_ids=df[891:]['PassengerId'],\n",
    "    cv=5,\n",
    "    submission_name='submit_svc_6.csv'\n",
    ")"
   ]
  },
  {
   "cell_type": "markdown",
   "id": "571408c6",
   "metadata": {
    "papermill": {
     "duration": 0.024518,
     "end_time": "2025-05-13T05:29:49.205159",
     "exception": false,
     "start_time": "2025-05-13T05:29:49.180641",
     "status": "completed"
    },
    "tags": []
   },
   "source": [
    "#### Kaggle Score 76%"
   ]
  },
  {
   "cell_type": "code",
   "execution_count": 74,
   "id": "691189e9",
   "metadata": {
    "execution": {
     "iopub.execute_input": "2025-05-13T05:29:49.256018Z",
     "iopub.status.busy": "2025-05-13T05:29:49.255756Z",
     "iopub.status.idle": "2025-05-13T05:29:49.261596Z",
     "shell.execute_reply": "2025-05-13T05:29:49.260924Z"
    },
    "papermill": {
     "duration": 0.032516,
     "end_time": "2025-05-13T05:29:49.262800",
     "exception": false,
     "start_time": "2025-05-13T05:29:49.230284",
     "status": "completed"
    },
    "tags": []
   },
   "outputs": [],
   "source": [
    "def train_and_predict_2(model, X_train, y_train, X_test, test_ids,\n",
    "                      cv=5, submission_name='submission.csv',\n",
    "                      model_name='saved_model.pkl'):\n",
    "    \"\"\"\n",
    "    Trains the model, performs cross-validation, saves the model, and makes predictions on the test set.\n",
    "\n",
    "    Parameters:\n",
    "    - model: Machine learning model with fit/predict methods\n",
    "    - X_train: Training features\n",
    "    - y_train: Training labels\n",
    "    - X_test: Test features\n",
    "    - test_ids: IDs for submission (e.g., PassengerId)\n",
    "    - cv: Number of cross-validation folds (default=5)\n",
    "    - submission_name: Filename for the CSV submission\n",
    "    - model_name: Filename to save the trained model (default='saved_model.pkl')\n",
    "    \"\"\"\n",
    "\n",
    "    # Step 1: Train the model\n",
    "    model.fit(X_train, y_train)\n",
    "\n",
    "    # Step 2: Cross-validation\n",
    "    scores = cross_val_score(model, X_train, y_train, cv=cv)\n",
    "    print(\"Cross-validation scores:\", scores)\n",
    "    print(\"Mean cross-validation score:\", scores.mean())\n",
    "\n",
    "    # Step 3: Save the trained model\n",
    "    joblib.dump(model, model_name)\n",
    "    print(f\"Model saved to {model_name}\")\n",
    "\n",
    "    # Step 4: Predict on test set\n",
    "    y_pred = model.predict(X_test).astype(int)\n",
    "\n",
    "    # Step 5: Create submission file\n",
    "    submission = pd.DataFrame({\n",
    "        'PassengerId': test_ids,\n",
    "        'Survived': y_pred\n",
    "    })\n",
    "    \n",
    "    submission.to_csv(submission_name, index=False)\n",
    "    print(f\"Submission saved to {submission_name}\")"
   ]
  },
  {
   "cell_type": "markdown",
   "id": "05e6a2bc",
   "metadata": {
    "papermill": {
     "duration": 0.024454,
     "end_time": "2025-05-13T05:29:49.311624",
     "exception": false,
     "start_time": "2025-05-13T05:29:49.287170",
     "status": "completed"
    },
    "tags": []
   },
   "source": [
    "#### Kernel = linear"
   ]
  },
  {
   "cell_type": "code",
   "execution_count": 75,
   "id": "1e9eeb50",
   "metadata": {
    "execution": {
     "iopub.execute_input": "2025-05-13T05:29:49.360690Z",
     "iopub.status.busy": "2025-05-13T05:29:49.360390Z",
     "iopub.status.idle": "2025-05-13T05:29:49.365075Z",
     "shell.execute_reply": "2025-05-13T05:29:49.364202Z"
    },
    "papermill": {
     "duration": 0.030693,
     "end_time": "2025-05-13T05:29:49.366480",
     "exception": false,
     "start_time": "2025-05-13T05:29:49.335787",
     "status": "completed"
    },
    "tags": []
   },
   "outputs": [],
   "source": [
    "# Define the pipeline with fixed SVC parameters\n",
    "model_svc_5 = Pipeline([\n",
    "    ('scaler', StandardScaler()),\n",
    "    ('classifier', SVC(\n",
    "        C=10,\n",
    "        kernel='linear',\n",
    "        #degree=2,\n",
    "        gamma=0.001,\n",
    "        shrinking=True,\n",
    "        tol=1e-4,\n",
    "        probability=True  # Enable if you want to use random_state in poly kernel\n",
    "    ))\n",
    "])"
   ]
  },
  {
   "cell_type": "code",
   "execution_count": 76,
   "id": "ebcb4a40",
   "metadata": {
    "execution": {
     "iopub.execute_input": "2025-05-13T05:29:49.417467Z",
     "iopub.status.busy": "2025-05-13T05:29:49.416734Z",
     "iopub.status.idle": "2025-05-13T05:29:49.421819Z",
     "shell.execute_reply": "2025-05-13T05:29:49.420878Z"
    },
    "papermill": {
     "duration": 0.031947,
     "end_time": "2025-05-13T05:29:49.423273",
     "exception": false,
     "start_time": "2025-05-13T05:29:49.391326",
     "status": "completed"
    },
    "tags": []
   },
   "outputs": [
    {
     "name": "stdout",
     "output_type": "stream",
     "text": [
      "CPU times: user 6 µs, sys: 0 ns, total: 6 µs\n",
      "Wall time: 10 µs\n"
     ]
    }
   ],
   "source": [
    "%%time\n",
    "#4min 51s\n",
    "# Call the function\n",
    "#train_and_predict_2(\n",
    "    #model=model_svc_5,\n",
    "    #X_train=X_train_reduced_1,\n",
    "    #y_train=y_train,\n",
    "    #X_test=X_test_reduced_1,\n",
    "    #test_ids=df[891:]['PassengerId'],\n",
    "    #cv=5,\n",
    "    #submission_name='submit_svc_7.csv',\n",
    "    #model_name='model_svc_linear_1.pkl'\n",
    "#)"
   ]
  },
  {
   "cell_type": "code",
   "execution_count": 77,
   "id": "16d54088",
   "metadata": {
    "execution": {
     "iopub.execute_input": "2025-05-13T05:29:49.474369Z",
     "iopub.status.busy": "2025-05-13T05:29:49.474050Z",
     "iopub.status.idle": "2025-05-13T05:29:49.477931Z",
     "shell.execute_reply": "2025-05-13T05:29:49.477293Z"
    },
    "papermill": {
     "duration": 0.031133,
     "end_time": "2025-05-13T05:29:49.479206",
     "exception": false,
     "start_time": "2025-05-13T05:29:49.448073",
     "status": "completed"
    },
    "tags": []
   },
   "outputs": [],
   "source": [
    "# Load model from file\n",
    "#loaded_model = joblib.load('/kaggle/input/best_rf_1/scikitlearn/default/12/model_svc_linear_1.pkl')\n",
    "\n",
    "# Make predictions\n",
    "#predictions = loaded_model.predict(X_test)\n",
    "\n",
    "# If you want to display predictions directly\n",
    "#print(\"Sample predictions:\\n\", predictions[:10])  # Show first 10 predictions\n",
    "\n",
    "# If you're working with Titanic test data and have 'PassengerId':\n",
    "#submission = pd.DataFrame({\n",
    "    #'PassengerId': test_ids,  # Make sure you have this variable from test data\n",
    "    #'Survived': predictions.astype(int)\n",
    "#})\n",
    "\n",
    "# Display head of the submission\n",
    "#print(\"\\nSubmission preview:\")\n",
    "#display(submission.head())\n",
    "\n",
    "# Optionally save to CSV if needed (Kaggle output folder)\n",
    "#submission.to_csv('submit_svc_linear_1.csv', index=False)"
   ]
  },
  {
   "cell_type": "markdown",
   "id": "c291842b",
   "metadata": {
    "papermill": {
     "duration": 0.024555,
     "end_time": "2025-05-13T05:29:49.528754",
     "exception": false,
     "start_time": "2025-05-13T05:29:49.504199",
     "status": "completed"
    },
    "tags": []
   },
   "source": [
    "need longer time and results some similar to rbf"
   ]
  },
  {
   "cell_type": "markdown",
   "id": "a87d1970",
   "metadata": {
    "papermill": {
     "duration": 0.023672,
     "end_time": "2025-05-13T05:29:49.577619",
     "exception": false,
     "start_time": "2025-05-13T05:29:49.553947",
     "status": "completed"
    },
    "tags": []
   },
   "source": [
    "#### Kernel = 'poly'"
   ]
  },
  {
   "cell_type": "markdown",
   "id": "9320fb5c",
   "metadata": {
    "papermill": {
     "duration": 0.024517,
     "end_time": "2025-05-13T05:29:49.626362",
     "exception": false,
     "start_time": "2025-05-13T05:29:49.601845",
     "status": "completed"
    },
    "tags": []
   },
   "source": [
    "Trying degree below 4 and gamma below 0.1 result below 80%"
   ]
  },
  {
   "cell_type": "code",
   "execution_count": 78,
   "id": "c3435c5a",
   "metadata": {
    "execution": {
     "iopub.execute_input": "2025-05-13T05:29:49.676734Z",
     "iopub.status.busy": "2025-05-13T05:29:49.676195Z",
     "iopub.status.idle": "2025-05-13T05:29:49.680527Z",
     "shell.execute_reply": "2025-05-13T05:29:49.679708Z"
    },
    "papermill": {
     "duration": 0.031327,
     "end_time": "2025-05-13T05:29:49.681810",
     "exception": false,
     "start_time": "2025-05-13T05:29:49.650483",
     "status": "completed"
    },
    "tags": []
   },
   "outputs": [],
   "source": [
    "# Define the pipeline with fixed SVC parameters\n",
    "model_svc_6 = Pipeline([\n",
    "    ('scaler', StandardScaler()),\n",
    "    ('classifier', SVC(\n",
    "        C=5,\n",
    "        kernel='poly',\n",
    "        degree=4,\n",
    "        gamma=0.1,\n",
    "        shrinking=True,\n",
    "        tol=1e-4,\n",
    "        probability=True  # Enable if you want to use random_state in poly kernel\n",
    "    ))\n",
    "])"
   ]
  },
  {
   "cell_type": "code",
   "execution_count": 79,
   "id": "0e56ef7b",
   "metadata": {
    "execution": {
     "iopub.execute_input": "2025-05-13T05:29:49.734071Z",
     "iopub.status.busy": "2025-05-13T05:29:49.733047Z",
     "iopub.status.idle": "2025-05-13T05:29:50.855444Z",
     "shell.execute_reply": "2025-05-13T05:29:50.854456Z"
    },
    "papermill": {
     "duration": 1.14963,
     "end_time": "2025-05-13T05:29:50.856729",
     "exception": false,
     "start_time": "2025-05-13T05:29:49.707099",
     "status": "completed"
    },
    "tags": []
   },
   "outputs": [
    {
     "name": "stdout",
     "output_type": "stream",
     "text": [
      "Cross-validation scores: [0.80446927 0.78089888 0.82022472 0.78651685 0.84269663]\n",
      "Mean cross-validation score: 0.8069612704789405\n",
      "Submission saved to submit_svc_poly_1.csv\n",
      "CPU times: user 1.12 s, sys: 0 ns, total: 1.12 s\n",
      "Wall time: 1.12 s\n"
     ]
    }
   ],
   "source": [
    "%%time\n",
    "# Call the function\n",
    "train_and_predict(\n",
    "    model=model_svc_6,\n",
    "    X_train=X_train_reduced_1,\n",
    "    y_train=y_train,\n",
    "    X_test=X_test_reduced_1,\n",
    "    test_ids=df[891:]['PassengerId'],\n",
    "    cv=5,\n",
    "    submission_name='submit_svc_poly_1.csv'\n",
    ")"
   ]
  },
  {
   "cell_type": "markdown",
   "id": "28d211ad",
   "metadata": {
    "papermill": {
     "duration": 0.025054,
     "end_time": "2025-05-13T05:29:50.907112",
     "exception": false,
     "start_time": "2025-05-13T05:29:50.882058",
     "status": "completed"
    },
    "tags": []
   },
   "source": [
    "#### Kaggle score 74.2%"
   ]
  },
  {
   "cell_type": "markdown",
   "id": "22824e45",
   "metadata": {
    "papermill": {
     "duration": 0.026496,
     "end_time": "2025-05-13T05:29:50.957962",
     "exception": false,
     "start_time": "2025-05-13T05:29:50.931466",
     "status": "completed"
    },
    "tags": []
   },
   "source": [
    "#### Apply rule"
   ]
  },
  {
   "cell_type": "code",
   "execution_count": 80,
   "id": "1eea2bd7",
   "metadata": {
    "execution": {
     "iopub.execute_input": "2025-05-13T05:29:51.009165Z",
     "iopub.status.busy": "2025-05-13T05:29:51.008661Z",
     "iopub.status.idle": "2025-05-13T05:29:51.014827Z",
     "shell.execute_reply": "2025-05-13T05:29:51.014141Z"
    },
    "papermill": {
     "duration": 0.033005,
     "end_time": "2025-05-13T05:29:51.016105",
     "exception": false,
     "start_time": "2025-05-13T05:29:50.983100",
     "status": "completed"
    },
    "tags": []
   },
   "outputs": [],
   "source": [
    "def apply_group_rules(df):\n",
    "    \"\"\"\n",
    "    Apply prediction rules based on demographic and family survival likelihood.\n",
    "    - Predict '0' (die) for highest fatality group.\n",
    "    - Predict '1' (live) for highest survival group.\n",
    "    - Leave others as NaN for ML model to predict later.\n",
    "    \"\"\"\n",
    "    # Ensure necessary columns exist\n",
    "    required_cols = ['Sex', 'Title', 'AgeGroup', 'FamilyGroup']\n",
    "    for col in required_cols:\n",
    "        if col not in df.columns:\n",
    "            raise ValueError(f\"Missing required column: {col}\")\n",
    "\n",
    "    # Create a new column to store predictions\n",
    "    df['Survived_Predict'] = np.nan\n",
    "\n",
    "    # --- Rule 1: Predict Die for Highest Fatality Group ---\n",
    "    cond_die = (\n",
    "        (df['Sex'] == 'male') &\n",
    "        (df['Title'] == 'Mr') &\n",
    "        (df['AgeGroup'].isin(['Teen', 'Young Adult', 'Adult', 'Senior'])) &\n",
    "        (df['FamilyGroup'].isin(['Solo', 'Small']))\n",
    "    )\n",
    "    df.loc[cond_die, 'Survived_Predict'] = 0\n",
    "\n",
    "    # --- Rule 2: Predict Live for Highest Survival Group ---\n",
    "    cond_live = (\n",
    "        (df['Sex'] == 'female') &\n",
    "        (df['Title'].isin(['Miss', 'Mrs'])) &\n",
    "        (df['AgeGroup'].isin(['Adult', 'Senior'])) &\n",
    "        (df['FamilyGroup'].isin(['Solo', 'Small']))\n",
    "    )\n",
    "    df.loc[cond_live,\n",
    "    'Survived_Predict'] = 1\n",
    "\n",
    "    return df"
   ]
  },
  {
   "cell_type": "code",
   "execution_count": 81,
   "id": "ce9561a9",
   "metadata": {
    "execution": {
     "iopub.execute_input": "2025-05-13T05:29:51.067317Z",
     "iopub.status.busy": "2025-05-13T05:29:51.066968Z",
     "iopub.status.idle": "2025-05-13T05:29:51.080191Z",
     "shell.execute_reply": "2025-05-13T05:29:51.079350Z"
    },
    "papermill": {
     "duration": 0.040375,
     "end_time": "2025-05-13T05:29:51.081769",
     "exception": false,
     "start_time": "2025-05-13T05:29:51.041394",
     "status": "completed"
    },
    "tags": []
   },
   "outputs": [],
   "source": [
    "df_2 = df.copy()\n",
    "# Apply rules to your dataframe\n",
    "df_2 = apply_group_rules(df_2)"
   ]
  },
  {
   "cell_type": "code",
   "execution_count": 82,
   "id": "ce260c75",
   "metadata": {
    "execution": {
     "iopub.execute_input": "2025-05-13T05:29:51.132013Z",
     "iopub.status.busy": "2025-05-13T05:29:51.131678Z",
     "iopub.status.idle": "2025-05-13T05:29:51.137645Z",
     "shell.execute_reply": "2025-05-13T05:29:51.136996Z"
    },
    "papermill": {
     "duration": 0.032428,
     "end_time": "2025-05-13T05:29:51.138962",
     "exception": false,
     "start_time": "2025-05-13T05:29:51.106534",
     "status": "completed"
    },
    "tags": []
   },
   "outputs": [],
   "source": [
    "# Convert the 'Pclass' and 'FamilySize' columns to string (object) type for pd.get_dummies() Using this will acquire 83 features\n",
    "# Let us apply without converting to string\n",
    "df_2[['Survived_Predict']] = df_2[['Survived_Predict']].astype(str)"
   ]
  },
  {
   "cell_type": "code",
   "execution_count": 83,
   "id": "fe4df68b",
   "metadata": {
    "execution": {
     "iopub.execute_input": "2025-05-13T05:29:51.189103Z",
     "iopub.status.busy": "2025-05-13T05:29:51.188811Z",
     "iopub.status.idle": "2025-05-13T05:29:51.204455Z",
     "shell.execute_reply": "2025-05-13T05:29:51.203765Z"
    },
    "papermill": {
     "duration": 0.041766,
     "end_time": "2025-05-13T05:29:51.205822",
     "exception": false,
     "start_time": "2025-05-13T05:29:51.164056",
     "status": "completed"
    },
    "tags": []
   },
   "outputs": [],
   "source": [
    "# Created dummy variablesfrom categories (also can use OneHotEncoder)\n",
    "df_dummies = pd.get_dummies(df_2[['Pclass', 'Sex', 'Age', 'SibSp',\n",
    "       'Parch', 'Embarked', 'train_set',\n",
    "       'CabinGroup', 'CabinCnt', 'Fare_log', 'Title',\n",
    "       'TicketGroup', 'FamilyGroup','FamilySize','Survived_Predict']])\n",
    "\n",
    "X_train_2 = df_dummies[df_dummies.train_set == 1].drop(['train_set'],axis=1)\n",
    "X_test_2 = df_dummies[df_dummies.train_set == 0].drop(['train_set'], axis=1)"
   ]
  },
  {
   "cell_type": "code",
   "execution_count": 84,
   "id": "198ff203",
   "metadata": {
    "execution": {
     "iopub.execute_input": "2025-05-13T05:29:51.255587Z",
     "iopub.status.busy": "2025-05-13T05:29:51.255306Z",
     "iopub.status.idle": "2025-05-13T05:29:51.259974Z",
     "shell.execute_reply": "2025-05-13T05:29:51.259445Z"
    },
    "papermill": {
     "duration": 0.031037,
     "end_time": "2025-05-13T05:29:51.261127",
     "exception": false,
     "start_time": "2025-05-13T05:29:51.230090",
     "status": "completed"
    },
    "tags": []
   },
   "outputs": [
    {
     "data": {
      "text/plain": [
       "(891, 86)"
      ]
     },
     "execution_count": 84,
     "metadata": {},
     "output_type": "execute_result"
    }
   ],
   "source": [
    "X_train_2.shape"
   ]
  },
  {
   "cell_type": "code",
   "execution_count": 85,
   "id": "f3d437b6",
   "metadata": {
    "execution": {
     "iopub.execute_input": "2025-05-13T05:29:51.311249Z",
     "iopub.status.busy": "2025-05-13T05:29:51.310660Z",
     "iopub.status.idle": "2025-05-13T05:35:28.853057Z",
     "shell.execute_reply": "2025-05-13T05:35:28.852107Z"
    },
    "papermill": {
     "duration": 337.612297,
     "end_time": "2025-05-13T05:35:28.897916",
     "exception": false,
     "start_time": "2025-05-13T05:29:51.285619",
     "status": "completed"
    },
    "tags": []
   },
   "outputs": [
    {
     "name": "stdout",
     "output_type": "stream",
     "text": [
      "Best Parameters: {'classifier__bootstrap': True, 'classifier__criterion': 'gini', 'classifier__max_depth': 6, 'classifier__max_features': 'sqrt', 'classifier__min_samples_leaf': 1, 'classifier__min_samples_split': 2, 'classifier__n_estimators': 100, 'classifier__oob_score': True}\n",
      "Best Accuracy Score: 0.8316\n",
      "CPU times: user 14 s, sys: 1.09 s, total: 15.1 s\n",
      "Wall time: 5min 37s\n"
     ]
    }
   ],
   "source": [
    "%%time\n",
    "#6min 17s\n",
    "model_rf_svc = model_rf_selection(X_train_2, y_train, cv=5, scoring='accuracy', class_weight=False)"
   ]
  },
  {
   "cell_type": "code",
   "execution_count": 86,
   "id": "682bb463",
   "metadata": {
    "execution": {
     "iopub.execute_input": "2025-05-13T05:35:28.962812Z",
     "iopub.status.busy": "2025-05-13T05:35:28.962520Z",
     "iopub.status.idle": "2025-05-13T05:35:29.043256Z",
     "shell.execute_reply": "2025-05-13T05:35:29.042540Z"
    },
    "papermill": {
     "duration": 0.108854,
     "end_time": "2025-05-13T05:35:29.044507",
     "exception": false,
     "start_time": "2025-05-13T05:35:28.935653",
     "status": "completed"
    },
    "tags": []
   },
   "outputs": [
    {
     "data": {
      "text/html": [
       "<style>#sk-container-id-1 {color: black;background-color: white;}#sk-container-id-1 pre{padding: 0;}#sk-container-id-1 div.sk-toggleable {background-color: white;}#sk-container-id-1 label.sk-toggleable__label {cursor: pointer;display: block;width: 100%;margin-bottom: 0;padding: 0.3em;box-sizing: border-box;text-align: center;}#sk-container-id-1 label.sk-toggleable__label-arrow:before {content: \"▸\";float: left;margin-right: 0.25em;color: #696969;}#sk-container-id-1 label.sk-toggleable__label-arrow:hover:before {color: black;}#sk-container-id-1 div.sk-estimator:hover label.sk-toggleable__label-arrow:before {color: black;}#sk-container-id-1 div.sk-toggleable__content {max-height: 0;max-width: 0;overflow: hidden;text-align: left;background-color: #f0f8ff;}#sk-container-id-1 div.sk-toggleable__content pre {margin: 0.2em;color: black;border-radius: 0.25em;background-color: #f0f8ff;}#sk-container-id-1 input.sk-toggleable__control:checked~div.sk-toggleable__content {max-height: 200px;max-width: 100%;overflow: auto;}#sk-container-id-1 input.sk-toggleable__control:checked~label.sk-toggleable__label-arrow:before {content: \"▾\";}#sk-container-id-1 div.sk-estimator input.sk-toggleable__control:checked~label.sk-toggleable__label {background-color: #d4ebff;}#sk-container-id-1 div.sk-label input.sk-toggleable__control:checked~label.sk-toggleable__label {background-color: #d4ebff;}#sk-container-id-1 input.sk-hidden--visually {border: 0;clip: rect(1px 1px 1px 1px);clip: rect(1px, 1px, 1px, 1px);height: 1px;margin: -1px;overflow: hidden;padding: 0;position: absolute;width: 1px;}#sk-container-id-1 div.sk-estimator {font-family: monospace;background-color: #f0f8ff;border: 1px dotted black;border-radius: 0.25em;box-sizing: border-box;margin-bottom: 0.5em;}#sk-container-id-1 div.sk-estimator:hover {background-color: #d4ebff;}#sk-container-id-1 div.sk-parallel-item::after {content: \"\";width: 100%;border-bottom: 1px solid gray;flex-grow: 1;}#sk-container-id-1 div.sk-label:hover label.sk-toggleable__label {background-color: #d4ebff;}#sk-container-id-1 div.sk-serial::before {content: \"\";position: absolute;border-left: 1px solid gray;box-sizing: border-box;top: 0;bottom: 0;left: 50%;z-index: 0;}#sk-container-id-1 div.sk-serial {display: flex;flex-direction: column;align-items: center;background-color: white;padding-right: 0.2em;padding-left: 0.2em;position: relative;}#sk-container-id-1 div.sk-item {position: relative;z-index: 1;}#sk-container-id-1 div.sk-parallel {display: flex;align-items: stretch;justify-content: center;background-color: white;position: relative;}#sk-container-id-1 div.sk-item::before, #sk-container-id-1 div.sk-parallel-item::before {content: \"\";position: absolute;border-left: 1px solid gray;box-sizing: border-box;top: 0;bottom: 0;left: 50%;z-index: -1;}#sk-container-id-1 div.sk-parallel-item {display: flex;flex-direction: column;z-index: 1;position: relative;background-color: white;}#sk-container-id-1 div.sk-parallel-item:first-child::after {align-self: flex-end;width: 50%;}#sk-container-id-1 div.sk-parallel-item:last-child::after {align-self: flex-start;width: 50%;}#sk-container-id-1 div.sk-parallel-item:only-child::after {width: 0;}#sk-container-id-1 div.sk-dashed-wrapped {border: 1px dashed gray;margin: 0 0.4em 0.5em 0.4em;box-sizing: border-box;padding-bottom: 0.4em;background-color: white;}#sk-container-id-1 div.sk-label label {font-family: monospace;font-weight: bold;display: inline-block;line-height: 1.2em;}#sk-container-id-1 div.sk-label-container {text-align: center;}#sk-container-id-1 div.sk-container {/* jupyter's `normalize.less` sets `[hidden] { display: none; }` but bootstrap.min.css set `[hidden] { display: none !important; }` so we also need the `!important` here to be able to override the default hidden behavior on the sphinx rendered scikit-learn.org. See: https://github.com/scikit-learn/scikit-learn/issues/21755 */display: inline-block !important;position: relative;}#sk-container-id-1 div.sk-text-repr-fallback {display: none;}</style><div id=\"sk-container-id-1\" class=\"sk-top-container\"><div class=\"sk-text-repr-fallback\"><pre>Pipeline(steps=[(&#x27;scaler&#x27;, StandardScaler()),\n",
       "                (&#x27;classifier&#x27;,\n",
       "                 RandomForestClassifier(max_depth=6, oob_score=True,\n",
       "                                        random_state=42))])</pre><b>In a Jupyter environment, please rerun this cell to show the HTML representation or trust the notebook. <br />On GitHub, the HTML representation is unable to render, please try loading this page with nbviewer.org.</b></div><div class=\"sk-container\" hidden><div class=\"sk-item sk-dashed-wrapped\"><div class=\"sk-label-container\"><div class=\"sk-label sk-toggleable\"><input class=\"sk-toggleable__control sk-hidden--visually\" id=\"sk-estimator-id-1\" type=\"checkbox\" ><label for=\"sk-estimator-id-1\" class=\"sk-toggleable__label sk-toggleable__label-arrow\">Pipeline</label><div class=\"sk-toggleable__content\"><pre>Pipeline(steps=[(&#x27;scaler&#x27;, StandardScaler()),\n",
       "                (&#x27;classifier&#x27;,\n",
       "                 RandomForestClassifier(max_depth=6, oob_score=True,\n",
       "                                        random_state=42))])</pre></div></div></div><div class=\"sk-serial\"><div class=\"sk-item\"><div class=\"sk-estimator sk-toggleable\"><input class=\"sk-toggleable__control sk-hidden--visually\" id=\"sk-estimator-id-2\" type=\"checkbox\" ><label for=\"sk-estimator-id-2\" class=\"sk-toggleable__label sk-toggleable__label-arrow\">StandardScaler</label><div class=\"sk-toggleable__content\"><pre>StandardScaler()</pre></div></div></div><div class=\"sk-item\"><div class=\"sk-estimator sk-toggleable\"><input class=\"sk-toggleable__control sk-hidden--visually\" id=\"sk-estimator-id-3\" type=\"checkbox\" ><label for=\"sk-estimator-id-3\" class=\"sk-toggleable__label sk-toggleable__label-arrow\">RandomForestClassifier</label><div class=\"sk-toggleable__content\"><pre>RandomForestClassifier(max_depth=6, oob_score=True, random_state=42)</pre></div></div></div></div></div></div></div>"
      ],
      "text/plain": [
       "Pipeline(steps=[('scaler', StandardScaler()),\n",
       "                ('classifier',\n",
       "                 RandomForestClassifier(max_depth=6, oob_score=True,\n",
       "                                        random_state=42))])"
      ]
     },
     "execution_count": 86,
     "metadata": {},
     "output_type": "execute_result"
    }
   ],
   "source": [
    "# Save to file after fitting\n",
    "dump(model_rf_svc, 'model_rf_svc.joblib')\n",
    "model_rf_svc.best_estimator_\n",
    "\n",
    "# Load it later when needed\n",
    "#grid_loaded = load('/kaggle/input/task001-p03-ml-models/scikitlearn/default/1/model_rf_10.joblib')\n",
    "\n",
    "# Access best estimator\n",
    "#model_rf_10 = grid_loaded.best_estimator_"
   ]
  },
  {
   "cell_type": "code",
   "execution_count": 87,
   "id": "99612193",
   "metadata": {
    "execution": {
     "iopub.execute_input": "2025-05-13T05:35:29.095272Z",
     "iopub.status.busy": "2025-05-13T05:35:29.094531Z",
     "iopub.status.idle": "2025-05-13T05:35:29.129927Z",
     "shell.execute_reply": "2025-05-13T05:35:29.129121Z"
    },
    "papermill": {
     "duration": 0.062134,
     "end_time": "2025-05-13T05:35:29.131041",
     "exception": false,
     "start_time": "2025-05-13T05:35:29.068907",
     "status": "completed"
    },
    "tags": []
   },
   "outputs": [
    {
     "name": "stdout",
     "output_type": "stream",
     "text": [
      "Reduced X_train shape: (891, 19)\n",
      "Reduced X_test shape: (418, 19)\n"
     ]
    },
    {
     "name": "stderr",
     "output_type": "stream",
     "text": [
      "X has feature names, but SelectFromModel was fitted without feature names\n",
      "X has feature names, but SelectFromModel was fitted without feature names\n"
     ]
    }
   ],
   "source": [
    "# Use the best estimator (a pipeline) from the fitted GridSearchCV object\n",
    "best_pipeline = model_rf_svc.best_estimator_\n",
    "\n",
    "X_train_reduced_7, X_test_reduced_7, selected_features_7 = reduce_features_with_importance(\n",
    "    best_pipeline,\n",
    "    X_train_2,\n",
    "    X_test_2,\n",
    "    classifier_step='classifier',\n",
    "    threshold='mean'\n",
    ")"
   ]
  },
  {
   "cell_type": "code",
   "execution_count": 88,
   "id": "fc92d5dd",
   "metadata": {
    "execution": {
     "iopub.execute_input": "2025-05-13T05:35:29.180673Z",
     "iopub.status.busy": "2025-05-13T05:35:29.179859Z",
     "iopub.status.idle": "2025-05-13T05:35:49.902543Z",
     "shell.execute_reply": "2025-05-13T05:35:49.901679Z"
    },
    "papermill": {
     "duration": 20.748582,
     "end_time": "2025-05-13T05:35:49.903843",
     "exception": false,
     "start_time": "2025-05-13T05:35:29.155261",
     "status": "completed"
    },
    "tags": []
   },
   "outputs": [
    {
     "name": "stdout",
     "output_type": "stream",
     "text": [
      "Best Parameters: {'classifier__C': 10, 'classifier__gamma': 0.0001, 'classifier__kernel': 'rbf', 'classifier__shrinking': True, 'classifier__tol': 0.001}\n",
      "Best Accuracy Score: 0.8294\n",
      "\n",
      "Ranked Grid Search Results (Top 10):\n"
     ]
    },
    {
     "data": {
      "text/html": [
       "<div>\n",
       "<style scoped>\n",
       "    .dataframe tbody tr th:only-of-type {\n",
       "        vertical-align: middle;\n",
       "    }\n",
       "\n",
       "    .dataframe tbody tr th {\n",
       "        vertical-align: top;\n",
       "    }\n",
       "\n",
       "    .dataframe thead th {\n",
       "        text-align: right;\n",
       "    }\n",
       "</style>\n",
       "<table border=\"1\" class=\"dataframe\">\n",
       "  <thead>\n",
       "    <tr style=\"text-align: right;\">\n",
       "      <th></th>\n",
       "      <th>rank_test_score</th>\n",
       "      <th>mean_test_score</th>\n",
       "      <th>mean_train_score</th>\n",
       "      <th>param_classifier__C</th>\n",
       "      <th>param_classifier__kernel</th>\n",
       "      <th>param_classifier__gamma</th>\n",
       "      <th>param_classifier__shrinking</th>\n",
       "      <th>param_classifier__tol</th>\n",
       "    </tr>\n",
       "  </thead>\n",
       "  <tbody>\n",
       "    <tr>\n",
       "      <th>35</th>\n",
       "      <td>1</td>\n",
       "      <td>0.829383</td>\n",
       "      <td>0.833613</td>\n",
       "      <td>10</td>\n",
       "      <td>rbf</td>\n",
       "      <td>0.0001</td>\n",
       "      <td>False</td>\n",
       "      <td>0.0001</td>\n",
       "    </tr>\n",
       "    <tr>\n",
       "      <th>34</th>\n",
       "      <td>1</td>\n",
       "      <td>0.829383</td>\n",
       "      <td>0.833613</td>\n",
       "      <td>10</td>\n",
       "      <td>rbf</td>\n",
       "      <td>0.0001</td>\n",
       "      <td>False</td>\n",
       "      <td>0.001</td>\n",
       "    </tr>\n",
       "    <tr>\n",
       "      <th>33</th>\n",
       "      <td>1</td>\n",
       "      <td>0.829383</td>\n",
       "      <td>0.833613</td>\n",
       "      <td>10</td>\n",
       "      <td>rbf</td>\n",
       "      <td>0.0001</td>\n",
       "      <td>True</td>\n",
       "      <td>0.0001</td>\n",
       "    </tr>\n",
       "    <tr>\n",
       "      <th>32</th>\n",
       "      <td>1</td>\n",
       "      <td>0.829383</td>\n",
       "      <td>0.833613</td>\n",
       "      <td>10</td>\n",
       "      <td>rbf</td>\n",
       "      <td>0.0001</td>\n",
       "      <td>True</td>\n",
       "      <td>0.001</td>\n",
       "    </tr>\n",
       "    <tr>\n",
       "      <th>55</th>\n",
       "      <td>5</td>\n",
       "      <td>0.824914</td>\n",
       "      <td>0.859428</td>\n",
       "      <td>100</td>\n",
       "      <td>rbf</td>\n",
       "      <td>0.001</td>\n",
       "      <td>False</td>\n",
       "      <td>0.0001</td>\n",
       "    </tr>\n",
       "    <tr>\n",
       "      <th>54</th>\n",
       "      <td>5</td>\n",
       "      <td>0.824914</td>\n",
       "      <td>0.859428</td>\n",
       "      <td>100</td>\n",
       "      <td>rbf</td>\n",
       "      <td>0.001</td>\n",
       "      <td>False</td>\n",
       "      <td>0.001</td>\n",
       "    </tr>\n",
       "    <tr>\n",
       "      <th>52</th>\n",
       "      <td>5</td>\n",
       "      <td>0.824914</td>\n",
       "      <td>0.859428</td>\n",
       "      <td>100</td>\n",
       "      <td>rbf</td>\n",
       "      <td>0.001</td>\n",
       "      <td>True</td>\n",
       "      <td>0.001</td>\n",
       "    </tr>\n",
       "    <tr>\n",
       "      <th>53</th>\n",
       "      <td>5</td>\n",
       "      <td>0.824914</td>\n",
       "      <td>0.859428</td>\n",
       "      <td>100</td>\n",
       "      <td>rbf</td>\n",
       "      <td>0.001</td>\n",
       "      <td>True</td>\n",
       "      <td>0.0001</td>\n",
       "    </tr>\n",
       "    <tr>\n",
       "      <th>21</th>\n",
       "      <td>9</td>\n",
       "      <td>0.823771</td>\n",
       "      <td>0.834455</td>\n",
       "      <td>1</td>\n",
       "      <td>rbf</td>\n",
       "      <td>0.001</td>\n",
       "      <td>True</td>\n",
       "      <td>0.0001</td>\n",
       "    </tr>\n",
       "    <tr>\n",
       "      <th>23</th>\n",
       "      <td>9</td>\n",
       "      <td>0.823771</td>\n",
       "      <td>0.834455</td>\n",
       "      <td>1</td>\n",
       "      <td>rbf</td>\n",
       "      <td>0.001</td>\n",
       "      <td>False</td>\n",
       "      <td>0.0001</td>\n",
       "    </tr>\n",
       "  </tbody>\n",
       "</table>\n",
       "</div>"
      ],
      "text/plain": [
       "    rank_test_score  mean_test_score  mean_train_score param_classifier__C  \\\n",
       "35                1         0.829383          0.833613                  10   \n",
       "34                1         0.829383          0.833613                  10   \n",
       "33                1         0.829383          0.833613                  10   \n",
       "32                1         0.829383          0.833613                  10   \n",
       "55                5         0.824914          0.859428                 100   \n",
       "54                5         0.824914          0.859428                 100   \n",
       "52                5         0.824914          0.859428                 100   \n",
       "53                5         0.824914          0.859428                 100   \n",
       "21                9         0.823771          0.834455                   1   \n",
       "23                9         0.823771          0.834455                   1   \n",
       "\n",
       "   param_classifier__kernel param_classifier__gamma  \\\n",
       "35                      rbf                  0.0001   \n",
       "34                      rbf                  0.0001   \n",
       "33                      rbf                  0.0001   \n",
       "32                      rbf                  0.0001   \n",
       "55                      rbf                   0.001   \n",
       "54                      rbf                   0.001   \n",
       "52                      rbf                   0.001   \n",
       "53                      rbf                   0.001   \n",
       "21                      rbf                   0.001   \n",
       "23                      rbf                   0.001   \n",
       "\n",
       "   param_classifier__shrinking param_classifier__tol  \n",
       "35                       False                0.0001  \n",
       "34                       False                 0.001  \n",
       "33                        True                0.0001  \n",
       "32                        True                 0.001  \n",
       "55                       False                0.0001  \n",
       "54                       False                 0.001  \n",
       "52                        True                 0.001  \n",
       "53                        True                0.0001  \n",
       "21                        True                0.0001  \n",
       "23                       False                0.0001  "
      ]
     },
     "metadata": {},
     "output_type": "display_data"
    },
    {
     "name": "stdout",
     "output_type": "stream",
     "text": [
      "CPU times: user 697 ms, sys: 53.8 ms, total: 751 ms\n",
      "Wall time: 20.7 s\n"
     ]
    }
   ],
   "source": [
    "%%time\n",
    "#6min 17s\n",
    "model_svc_7 = model_svc_selection(X_train_2, y_train, cv=5, scoring='accuracy', class_weight=False)"
   ]
  },
  {
   "cell_type": "code",
   "execution_count": 89,
   "id": "8a7a80a7",
   "metadata": {
    "execution": {
     "iopub.execute_input": "2025-05-13T05:35:49.957557Z",
     "iopub.status.busy": "2025-05-13T05:35:49.956820Z",
     "iopub.status.idle": "2025-05-13T05:35:49.960399Z",
     "shell.execute_reply": "2025-05-13T05:35:49.959772Z"
    },
    "papermill": {
     "duration": 0.031945,
     "end_time": "2025-05-13T05:35:49.961552",
     "exception": false,
     "start_time": "2025-05-13T05:35:49.929607",
     "status": "completed"
    },
    "tags": []
   },
   "outputs": [],
   "source": [
    "# Save to file after fitting\n",
    "#dump(model_svc_7, 'model_svc_7.joblib')\n",
    "#model_svc_7.best_estimator_\n",
    "\n",
    "# Load it later when needed\n",
    "#grid_loaded = load('/kaggle/input/task001-p03-ml-models/scikitlearn/default/1/model_rf_10.joblib')\n",
    "\n",
    "# Access best estimator\n",
    "#model_rf_10 = grid_loaded.best_estimator_"
   ]
  },
  {
   "cell_type": "code",
   "execution_count": 90,
   "id": "892c427f",
   "metadata": {
    "execution": {
     "iopub.execute_input": "2025-05-13T05:35:50.012275Z",
     "iopub.status.busy": "2025-05-13T05:35:50.011974Z",
     "iopub.status.idle": "2025-05-13T05:37:23.926709Z",
     "shell.execute_reply": "2025-05-13T05:37:23.925792Z"
    },
    "papermill": {
     "duration": 93.942195,
     "end_time": "2025-05-13T05:37:23.928006",
     "exception": false,
     "start_time": "2025-05-13T05:35:49.985811",
     "status": "completed"
    },
    "tags": []
   },
   "outputs": [
    {
     "name": "stdout",
     "output_type": "stream",
     "text": [
      "Cross-validation scores: [0.81564246 0.82022472 0.82022472 0.79213483 0.83146067]\n",
      "Mean cross-validation score: 0.8159374803841567\n",
      "Submission saved to submit_svc_9.csv\n",
      "CPU times: user 2.91 s, sys: 214 ms, total: 3.13 s\n",
      "Wall time: 1min 33s\n"
     ]
    }
   ],
   "source": [
    "%%time\n",
    "# Call the function\n",
    "train_and_predict(\n",
    "    model=model_svc_7,\n",
    "    X_train=X_train_reduced_7,\n",
    "    y_train=y_train,\n",
    "    X_test=X_test_reduced_7,\n",
    "    test_ids=df[891:]['PassengerId'],\n",
    "    cv=5,\n",
    "    submission_name='submit_svc_9.csv'\n",
    ")"
   ]
  },
  {
   "cell_type": "markdown",
   "id": "7bb32f63",
   "metadata": {
    "papermill": {
     "duration": 0.024692,
     "end_time": "2025-05-13T05:37:23.977738",
     "exception": false,
     "start_time": "2025-05-13T05:37:23.953046",
     "status": "completed"
    },
    "tags": []
   },
   "source": [
    "#### Kaggle score 76.3%"
   ]
  },
  {
   "cell_type": "markdown",
   "id": "f65ff306",
   "metadata": {
    "papermill": {
     "duration": 0.024999,
     "end_time": "2025-05-13T05:37:24.028501",
     "exception": false,
     "start_time": "2025-05-13T05:37:24.003502",
     "status": "completed"
    },
    "tags": []
   },
   "source": [
    "#### Applied rule"
   ]
  },
  {
   "cell_type": "markdown",
   "id": "24cf730a",
   "metadata": {
    "papermill": {
     "duration": 0.025029,
     "end_time": "2025-05-13T05:37:24.078320",
     "exception": false,
     "start_time": "2025-05-13T05:37:24.053291",
     "status": "completed"
    },
    "tags": []
   },
   "source": [
    "[go to top](#top)  "
   ]
  },
  {
   "cell_type": "markdown",
   "id": "1e9367e7",
   "metadata": {
    "papermill": {
     "duration": 0.024382,
     "end_time": "2025-05-13T05:37:24.127946",
     "exception": false,
     "start_time": "2025-05-13T05:37:24.103564",
     "status": "completed"
    },
    "tags": []
   },
   "source": [
    "<img style=\"float:left\" src=\"https://i.imgur.com/wpcEXQC.png\" width=\"50\"><div style = \"font-family: Arial; font-size: 16px\">\n",
    "    <h1>Execute - share</h1></div>\n",
    "\n",
    "<h1><a id=\"Ex\">Summary</a></h1>  \n",
    "\n",
    "We have built classification models to predict categorical course ratings using the embedding feature vectors extracted from neural networks.\n",
    "<hr>\n",
    "\n",
    "<div class=\"alert alert-block alert-success\" style=\"font-family:verdana; font-size:14px\">\n",
    "</ol>"
   ]
  },
  {
   "cell_type": "code",
   "execution_count": 91,
   "id": "51f74541",
   "metadata": {
    "execution": {
     "iopub.execute_input": "2025-05-13T05:37:24.179538Z",
     "iopub.status.busy": "2025-05-13T05:37:24.178831Z",
     "iopub.status.idle": "2025-05-13T05:37:24.184585Z",
     "shell.execute_reply": "2025-05-13T05:37:24.183906Z"
    },
    "papermill": {
     "duration": 0.032725,
     "end_time": "2025-05-13T05:37:24.185923",
     "exception": false,
     "start_time": "2025-05-13T05:37:24.153198",
     "status": "completed"
    },
    "tags": []
   },
   "outputs": [],
   "source": [
    "def compare_rf_models(models_dict, kaggle_scores_dict):\n",
    "    \"\"\"\n",
    "    Compares specified hyperparameters and Kaggle scores for a dictionary of Random Forest models.\n",
    "\n",
    "    Parameters:\n",
    "        models_dict (dict): Dictionary of model name to model object.\n",
    "        kaggle_scores_dict (dict): Dictionary of model name to Kaggle score.\n",
    "\n",
    "    Returns:\n",
    "        pd.DataFrame: DataFrame comparing model parameters and Kaggle scores.\n",
    "    \"\"\"\n",
    "    # Parameters to extract from each model\n",
    "    params_to_extract = [\n",
    "        'classifier__max_depth',\n",
    "        'classifier__n_estimators',\n",
    "        'classifier__max_features',\n",
    "        'classifier__min_samples_split',\n",
    "        'classifier__min_samples_leaf',\n",
    "        'classifier__bootstrap',\n",
    "        'classifier__oob_score',\n",
    "        'classifier__criterion'\n",
    "    ]\n",
    "    \n",
    "    model_data = []\n",
    "    \n",
    "    for model_name, model in models_dict.items():\n",
    "        params = model.get_params()\n",
    "        row = {'Model': model_name, 'Kaggle Score (%)': kaggle_scores_dict.get(model_name, None)}\n",
    "        for param in params_to_extract:\n",
    "            row[param] = params.get(param, None)\n",
    "        model_data.append(row)\n",
    "\n",
    "\n",
    "    # Create DataFrame and sort by Kaggle Score\n",
    "    df = pd.DataFrame(model_data)\n",
    "    df_sorted = df.sort_values(by='Kaggle Score (%)', ascending=False).reset_index(drop=True)\n",
    "    \n",
    "    return df_sorted"
   ]
  },
  {
   "cell_type": "code",
   "execution_count": 92,
   "id": "3afdf179",
   "metadata": {
    "execution": {
     "iopub.execute_input": "2025-05-13T05:37:24.236989Z",
     "iopub.status.busy": "2025-05-13T05:37:24.236737Z",
     "iopub.status.idle": "2025-05-13T05:37:24.250926Z",
     "shell.execute_reply": "2025-05-13T05:37:24.250271Z"
    },
    "papermill": {
     "duration": 0.041023,
     "end_time": "2025-05-13T05:37:24.252092",
     "exception": false,
     "start_time": "2025-05-13T05:37:24.211069",
     "status": "completed"
    },
    "tags": []
   },
   "outputs": [
    {
     "data": {
      "text/html": [
       "<div>\n",
       "<style scoped>\n",
       "    .dataframe tbody tr th:only-of-type {\n",
       "        vertical-align: middle;\n",
       "    }\n",
       "\n",
       "    .dataframe tbody tr th {\n",
       "        vertical-align: top;\n",
       "    }\n",
       "\n",
       "    .dataframe thead th {\n",
       "        text-align: right;\n",
       "    }\n",
       "</style>\n",
       "<table border=\"1\" class=\"dataframe\">\n",
       "  <thead>\n",
       "    <tr style=\"text-align: right;\">\n",
       "      <th></th>\n",
       "      <th>Model</th>\n",
       "      <th>Kaggle Score (%)</th>\n",
       "      <th>classifier__max_depth</th>\n",
       "      <th>classifier__n_estimators</th>\n",
       "      <th>classifier__max_features</th>\n",
       "      <th>classifier__min_samples_split</th>\n",
       "      <th>classifier__min_samples_leaf</th>\n",
       "      <th>classifier__bootstrap</th>\n",
       "      <th>classifier__oob_score</th>\n",
       "      <th>classifier__criterion</th>\n",
       "    </tr>\n",
       "  </thead>\n",
       "  <tbody>\n",
       "    <tr>\n",
       "      <th>0</th>\n",
       "      <td>model_rf_3_1</td>\n",
       "      <td>79.4</td>\n",
       "      <td>6</td>\n",
       "      <td>100</td>\n",
       "      <td>sqrt</td>\n",
       "      <td>10</td>\n",
       "      <td>1</td>\n",
       "      <td>True</td>\n",
       "      <td>True</td>\n",
       "      <td>entropy</td>\n",
       "    </tr>\n",
       "    <tr>\n",
       "      <th>1</th>\n",
       "      <td>model_rf_3</td>\n",
       "      <td>79.2</td>\n",
       "      <td>4</td>\n",
       "      <td>100</td>\n",
       "      <td>sqrt</td>\n",
       "      <td>10</td>\n",
       "      <td>1</td>\n",
       "      <td>True</td>\n",
       "      <td>True</td>\n",
       "      <td>entropy</td>\n",
       "    </tr>\n",
       "    <tr>\n",
       "      <th>2</th>\n",
       "      <td>model_rf_1</td>\n",
       "      <td>78.5</td>\n",
       "      <td>10</td>\n",
       "      <td>50</td>\n",
       "      <td>sqrt</td>\n",
       "      <td>2</td>\n",
       "      <td>3</td>\n",
       "      <td>True</td>\n",
       "      <td>True</td>\n",
       "      <td>gini</td>\n",
       "    </tr>\n",
       "    <tr>\n",
       "      <th>3</th>\n",
       "      <td>model_rf_11</td>\n",
       "      <td>77.9</td>\n",
       "      <td>4</td>\n",
       "      <td>100</td>\n",
       "      <td>sqrt</td>\n",
       "      <td>3</td>\n",
       "      <td>1</td>\n",
       "      <td>True</td>\n",
       "      <td>True</td>\n",
       "      <td>gini</td>\n",
       "    </tr>\n",
       "    <tr>\n",
       "      <th>4</th>\n",
       "      <td>model_rf_10</td>\n",
       "      <td>77.3</td>\n",
       "      <td>10</td>\n",
       "      <td>100</td>\n",
       "      <td>sqrt</td>\n",
       "      <td>2</td>\n",
       "      <td>3</td>\n",
       "      <td>True</td>\n",
       "      <td>True</td>\n",
       "      <td>gini</td>\n",
       "    </tr>\n",
       "  </tbody>\n",
       "</table>\n",
       "</div>"
      ],
      "text/plain": [
       "          Model  Kaggle Score (%)  classifier__max_depth  \\\n",
       "0  model_rf_3_1              79.4                      6   \n",
       "1    model_rf_3              79.2                      4   \n",
       "2    model_rf_1              78.5                     10   \n",
       "3   model_rf_11              77.9                      4   \n",
       "4   model_rf_10              77.3                     10   \n",
       "\n",
       "   classifier__n_estimators classifier__max_features  \\\n",
       "0                       100                     sqrt   \n",
       "1                       100                     sqrt   \n",
       "2                        50                     sqrt   \n",
       "3                       100                     sqrt   \n",
       "4                       100                     sqrt   \n",
       "\n",
       "   classifier__min_samples_split  classifier__min_samples_leaf  \\\n",
       "0                             10                             1   \n",
       "1                             10                             1   \n",
       "2                              2                             3   \n",
       "3                              3                             1   \n",
       "4                              2                             3   \n",
       "\n",
       "   classifier__bootstrap  classifier__oob_score classifier__criterion  \n",
       "0                   True                   True               entropy  \n",
       "1                   True                   True               entropy  \n",
       "2                   True                   True                  gini  \n",
       "3                   True                   True                  gini  \n",
       "4                   True                   True                  gini  "
      ]
     },
     "execution_count": 92,
     "metadata": {},
     "output_type": "execute_result"
    }
   ],
   "source": [
    "# Example usage:\n",
    "models = {\n",
    "    'model_rf_1': model_rf_1,\n",
    "    'model_rf_3': model_rf_3,\n",
    "     'model_rf_3_1': model_rf_3_1,\n",
    "    'model_rf_10': model_rf_10,\n",
    "    'model_rf_11': model_rf_11\n",
    "}\n",
    "\n",
    "kaggle_scores = {\n",
    "    'model_rf_1': 78.5,\n",
    "    'model_rf_3': 79.2,\n",
    "    'model_rf_3_1': 79.4,\n",
    "    'model_rf_10': 77.3,\n",
    "    'model_rf_11': 77.9\n",
    "}\n",
    "\n",
    "# Call the function\n",
    "df_rf_comparison = compare_rf_models(models, kaggle_scores)\n",
    "\n",
    "# Display the result\n",
    "df_rf_comparison"
   ]
  },
  {
   "cell_type": "markdown",
   "id": "1dc3ef44",
   "metadata": {
    "papermill": {
     "duration": 0.025798,
     "end_time": "2025-05-13T05:37:24.304454",
     "exception": false,
     "start_time": "2025-05-13T05:37:24.278656",
     "status": "completed"
    },
    "tags": []
   },
   "source": [
    "In <a href=\"https://www.kaggle.com/code/wahyuardhitama/task001-p01-ml-titanic-20250407\">Part 2 (P02)</a>Part 1 (P01), we conducted the P and A phase. <a href=\"https://www.kaggle.com/code/wahyuardhitama/task001-p02-ml-titanic-20250416\">Part 2 (P02)</a>, we explored 12 machine learning models, including initial tuning for Random Forest. Subsequently, part 3 (P03)</a> focused on further exploration and tuning of Random Forest and Support Vector Classifier (SVC) models and also we add some back to part 2.Finally,  <a href=\"https://www.kaggle.com/code/wahyuardhitama/task001-p04-ml-titanic-20250507\">part 4 (P04) investigated boosting techniques and a Voting Classifier incorporating Boosting and Random Forest.</a>"
   ]
  },
  {
   "cell_type": "code",
   "execution_count": 93,
   "id": "c412e051",
   "metadata": {
    "execution": {
     "iopub.execute_input": "2025-05-13T05:37:24.355488Z",
     "iopub.status.busy": "2025-05-13T05:37:24.354788Z",
     "iopub.status.idle": "2025-05-13T05:37:24.363292Z",
     "shell.execute_reply": "2025-05-13T05:37:24.362493Z"
    },
    "papermill": {
     "duration": 0.035288,
     "end_time": "2025-05-13T05:37:24.364541",
     "exception": false,
     "start_time": "2025-05-13T05:37:24.329253",
     "status": "completed"
    },
    "tags": []
   },
   "outputs": [
    {
     "data": {
      "text/html": [
       "<p style='font-size: 18px;'>Go to <a href='https://www.kaggle.com/code/wahyuardhitama/task001-p01-ml-titanic-20250407' target='_blank' style='font-size: 18px;'>P01 </a></p>"
      ],
      "text/plain": [
       "<IPython.core.display.HTML object>"
      ]
     },
     "metadata": {},
     "output_type": "display_data"
    },
    {
     "data": {
      "text/html": [
       "<p style='font-size: 18px;'>Go to <a href='https://www.kaggle.com/code/wahyuardhitama/task001-p02-ml-titanic-20250416' target='_blank' style='font-size: 18px;'>P02 </a></p>"
      ],
      "text/plain": [
       "<IPython.core.display.HTML object>"
      ]
     },
     "metadata": {},
     "output_type": "display_data"
    },
    {
     "data": {
      "text/html": [
       "<p style='font-size: 18px;'>Go to <a href='https://www.kaggle.com/code/wahyuardhitama/task001-p04-ml-titanic-20250507' target='_blank' style='font-size: 18px;'>P04 </a></p>"
      ],
      "text/plain": [
       "<IPython.core.display.HTML object>"
      ]
     },
     "metadata": {},
     "output_type": "display_data"
    }
   ],
   "source": [
    "from IPython.display import display, HTML\n",
    "# Link HTML files for pages\n",
    "output_file_01 = \"https://www.kaggle.com/code/wahyuardhitama/task001-p01-ml-titanic-20250407\"\n",
    "output_file_02 = \"https://www.kaggle.com/code/wahyuardhitama/task001-p02-ml-titanic-20250416\"\n",
    "output_file_04 = \"https://www.kaggle.com/code/wahyuardhitama/task001-p04-ml-titanic-20250507\"\n",
    "\n",
    "# Display links to the saved HTML files\n",
    "display(HTML(f\"<p style='font-size: 18px;'>Go to <a href='{output_file_01}' target='_blank' style='font-size: 18px;'>P01 </a></p>\"))\n",
    "display(HTML(f\"<p style='font-size: 18px;'>Go to <a href='{output_file_02}' target='_blank' style='font-size: 18px;'>P02 </a></p>\"))\n",
    "display(HTML(f\"<p style='font-size: 18px;'>Go to <a href='{output_file_04}' target='_blank' style='font-size: 18px;'>P04 </a></p>\"))"
   ]
  },
  {
   "cell_type": "markdown",
   "id": "68f3c49c",
   "metadata": {
    "papermill": {
     "duration": 0.025387,
     "end_time": "2025-05-13T05:37:24.415862",
     "exception": false,
     "start_time": "2025-05-13T05:37:24.390475",
     "status": "completed"
    },
    "tags": []
   },
   "source": [
    "[go to top](#top)  "
   ]
  }
 ],
 "metadata": {
  "kaggle": {
   "accelerator": "none",
   "dataSources": [
    {
     "databundleVersionId": 26502,
     "isSourceIdPinned": false,
     "sourceId": 3136,
     "sourceType": "competition"
    },
    {
     "datasetId": 7116919,
     "sourceId": 11672365,
     "sourceType": "datasetVersion"
    },
    {
     "isSourceIdPinned": true,
     "modelId": 325787,
     "modelInstanceId": 305336,
     "sourceId": 373502,
     "sourceType": "modelInstanceVersion"
    },
    {
     "isSourceIdPinned": false,
     "modelId": 334180,
     "modelInstanceId": 313765,
     "sourceId": 379622,
     "sourceType": "modelInstanceVersion"
    },
    {
     "isSourceIdPinned": true,
     "modelId": 325787,
     "modelInstanceId": 305336,
     "sourceId": 389738,
     "sourceType": "modelInstanceVersion"
    }
   ],
   "dockerImageVersionId": 31012,
   "isGpuEnabled": false,
   "isInternetEnabled": true,
   "language": "python",
   "sourceType": "notebook"
  },
  "kernelspec": {
   "display_name": "Python 3",
   "language": "python",
   "name": "python3"
  },
  "language_info": {
   "codemirror_mode": {
    "name": "ipython",
    "version": 3
   },
   "file_extension": ".py",
   "mimetype": "text/x-python",
   "name": "python",
   "nbconvert_exporter": "python",
   "pygments_lexer": "ipython3",
   "version": "3.11.11"
  },
  "papermill": {
   "default_parameters": {},
   "duration": 533.226668,
   "end_time": "2025-05-13T05:37:27.063151",
   "environment_variables": {},
   "exception": null,
   "input_path": "__notebook__.ipynb",
   "output_path": "__notebook__.ipynb",
   "parameters": {},
   "start_time": "2025-05-13T05:28:33.836483",
   "version": "2.6.0"
  }
 },
 "nbformat": 4,
 "nbformat_minor": 5
}
